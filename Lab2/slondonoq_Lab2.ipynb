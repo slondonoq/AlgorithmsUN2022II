{
  "cells": [
    {
      "cell_type": "markdown",
      "metadata": {
        "id": "view-in-github",
        "colab_type": "text"
      },
      "source": [
        "<a href=\"https://colab.research.google.com/github/slondonoq/AlgorithmsUN2022II/blob/main/Lab2/slondonoq_Lab2.ipynb\" target=\"_parent\"><img src=\"https://colab.research.google.com/assets/colab-badge.svg\" alt=\"Open In Colab\"/></a>"
      ]
    },
    {
      "cell_type": "code",
      "execution_count": null,
      "metadata": {
        "id": "FrAt48DtiXb-"
      },
      "outputs": [],
      "source": [
        "%matplotlib inline\n",
        "#%load_ext fortranmagic\n",
        "\n",
        "import sys; sys.path.append('..')\n",
        "\n",
        "import pandas as pd\n",
        "import numpy as np\n",
        "import matplotlib as mpl\n",
        "import matplotlib.pyplot as plt\n",
        "import seaborn as sns\n",
        "\n",
        "mpl.rc('figure', figsize=(12, 7))\n",
        "\n",
        "ran_the_first_cell = True\n",
        "\n",
        "jan2017 = pd.to_datetime(['2017-01-03 00:00:00+00:00',\n",
        " '2017-01-04 00:00:00+00:00',\n",
        " '2017-01-05 00:00:00+00:00',\n",
        " '2017-01-06 00:00:00+00:00',\n",
        " '2017-01-09 00:00:00+00:00',\n",
        " '2017-01-10 00:00:00+00:00',\n",
        " '2017-01-11 00:00:00+00:00',\n",
        " '2017-01-12 00:00:00+00:00',\n",
        " '2017-01-13 00:00:00+00:00',\n",
        " '2017-01-17 00:00:00+00:00',\n",
        " '2017-01-18 00:00:00+00:00',\n",
        " '2017-01-19 00:00:00+00:00',\n",
        " '2017-01-20 00:00:00+00:00',\n",
        " '2017-01-23 00:00:00+00:00',\n",
        " '2017-01-24 00:00:00+00:00',\n",
        " '2017-01-25 00:00:00+00:00',\n",
        " '2017-01-26 00:00:00+00:00',\n",
        " '2017-01-27 00:00:00+00:00',\n",
        " '2017-01-30 00:00:00+00:00',\n",
        " '2017-01-31 00:00:00+00:00',\n",
        " '2017-02-01 00:00:00+00:00'])\n",
        "calendar = jan2017.values.astype('datetime64[D]')\n",
        "\n",
        "event_dates = pd.to_datetime(['2017-01-06 00:00:00+00:00', \n",
        "                             '2017-01-07 00:00:00+00:00', \n",
        "                             '2017-01-08 00:00:00+00:00']).values.astype('datetime64[D]')\n",
        "event_values = np.array([10, 15, 20])"
      ]
    },
    {
      "cell_type": "code",
      "execution_count": null,
      "metadata": {
        "colab": {
          "base_uri": "https://localhost:8080/"
        },
        "id": "w2Hlcy6a830n",
        "outputId": "d2cdd622-c137-419b-aaa1-5a00e6218c32"
      },
      "outputs": [
        {
          "output_type": "stream",
          "name": "stdout",
          "text": [
            "Looking in indexes: https://pypi.org/simple, https://us-python.pkg.dev/colab-wheels/public/simple/\n",
            "Collecting fortran-magic\n",
            "  Downloading fortran_magic-0.7-py3-none-any.whl (9.6 kB)\n",
            "Requirement already satisfied: numpy in /usr/local/lib/python3.7/dist-packages (from fortran-magic) (1.21.6)\n",
            "Requirement already satisfied: ipython in /usr/local/lib/python3.7/dist-packages (from fortran-magic) (7.9.0)\n",
            "Requirement already satisfied: setuptools>=18.5 in /usr/local/lib/python3.7/dist-packages (from ipython->fortran-magic) (57.4.0)\n",
            "Requirement already satisfied: pickleshare in /usr/local/lib/python3.7/dist-packages (from ipython->fortran-magic) (0.7.5)\n",
            "Requirement already satisfied: backcall in /usr/local/lib/python3.7/dist-packages (from ipython->fortran-magic) (0.2.0)\n",
            "Requirement already satisfied: decorator in /usr/local/lib/python3.7/dist-packages (from ipython->fortran-magic) (4.4.2)\n",
            "Requirement already satisfied: pygments in /usr/local/lib/python3.7/dist-packages (from ipython->fortran-magic) (2.6.1)\n",
            "Requirement already satisfied: pexpect in /usr/local/lib/python3.7/dist-packages (from ipython->fortran-magic) (4.8.0)\n",
            "Requirement already satisfied: prompt-toolkit<2.1.0,>=2.0.0 in /usr/local/lib/python3.7/dist-packages (from ipython->fortran-magic) (2.0.10)\n",
            "Requirement already satisfied: traitlets>=4.2 in /usr/local/lib/python3.7/dist-packages (from ipython->fortran-magic) (5.1.1)\n",
            "Collecting jedi>=0.10\n",
            "  Downloading jedi-0.18.1-py2.py3-none-any.whl (1.6 MB)\n",
            "\u001b[K     |████████████████████████████████| 1.6 MB 4.6 MB/s \n",
            "\u001b[?25hRequirement already satisfied: parso<0.9.0,>=0.8.0 in /usr/local/lib/python3.7/dist-packages (from jedi>=0.10->ipython->fortran-magic) (0.8.3)\n",
            "Requirement already satisfied: six>=1.9.0 in /usr/local/lib/python3.7/dist-packages (from prompt-toolkit<2.1.0,>=2.0.0->ipython->fortran-magic) (1.15.0)\n",
            "Requirement already satisfied: wcwidth in /usr/local/lib/python3.7/dist-packages (from prompt-toolkit<2.1.0,>=2.0.0->ipython->fortran-magic) (0.2.5)\n",
            "Requirement already satisfied: ptyprocess>=0.5 in /usr/local/lib/python3.7/dist-packages (from pexpect->ipython->fortran-magic) (0.7.0)\n",
            "Installing collected packages: jedi, fortran-magic\n",
            "Successfully installed fortran-magic-0.7 jedi-0.18.1\n"
          ]
        }
      ],
      "source": [
        "pip install -U fortran-magic"
      ]
    },
    {
      "cell_type": "code",
      "execution_count": null,
      "metadata": {
        "colab": {
          "base_uri": "https://localhost:8080/",
          "height": 52
        },
        "id": "3-su3v-H9FAY",
        "outputId": "2d9a530d-39ad-40f2-bb81-1cc11ee7975d"
      },
      "outputs": [
        {
          "output_type": "stream",
          "name": "stderr",
          "text": [
            "/usr/local/lib/python3.7/dist-packages/fortranmagic.py:147: UserWarning: get_ipython_cache_dir has moved to the IPython.paths module since IPython 4.0.\n",
            "  self._lib_dir = os.path.join(get_ipython_cache_dir(), 'fortran')\n"
          ]
        },
        {
          "output_type": "display_data",
          "data": {
            "application/javascript": [
              "new Promise(function(resolve, reject) {\n",
              "\tvar script = document.createElement(\"script\");\n",
              "\tscript.onload = resolve;\n",
              "\tscript.onerror = reject;\n",
              "\tscript.src = \"https://raw.github.com/marijnh/CodeMirror/master/mode/fortran/fortran.js\";\n",
              "\tdocument.head.appendChild(script);\n",
              "}).then(() => {\n",
              "IPython.config.cell_magic_highlight['magic_fortran'] = {'reg':[/^%%fortran/]};\n",
              "});"
            ]
          },
          "metadata": {}
        }
      ],
      "source": [
        "%reload_ext fortranmagic"
      ]
    },
    {
      "cell_type": "code",
      "execution_count": null,
      "metadata": {
        "id": "kPYG3WfaI20p"
      },
      "outputs": [],
      "source": [
        "import time #for time calcs"
      ]
    },
    {
      "cell_type": "code",
      "source": [
        "!cat /proc/cpuinfo"
      ],
      "metadata": {
        "colab": {
          "base_uri": "https://localhost:8080/"
        },
        "id": "TT6WMMpBPq_t",
        "outputId": "3da7e94d-695a-4eaf-e4d1-10cfa65ffbb9"
      },
      "execution_count": null,
      "outputs": [
        {
          "output_type": "stream",
          "name": "stdout",
          "text": [
            "processor\t: 0\n",
            "vendor_id\t: GenuineIntel\n",
            "cpu family\t: 6\n",
            "model\t\t: 79\n",
            "model name\t: Intel(R) Xeon(R) CPU @ 2.20GHz\n",
            "stepping\t: 0\n",
            "microcode\t: 0x1\n",
            "cpu MHz\t\t: 2199.998\n",
            "cache size\t: 56320 KB\n",
            "physical id\t: 0\n",
            "siblings\t: 2\n",
            "core id\t\t: 0\n",
            "cpu cores\t: 1\n",
            "apicid\t\t: 0\n",
            "initial apicid\t: 0\n",
            "fpu\t\t: yes\n",
            "fpu_exception\t: yes\n",
            "cpuid level\t: 13\n",
            "wp\t\t: yes\n",
            "flags\t\t: fpu vme de pse tsc msr pae mce cx8 apic sep mtrr pge mca cmov pat pse36 clflush mmx fxsr sse sse2 ss ht syscall nx pdpe1gb rdtscp lm constant_tsc rep_good nopl xtopology nonstop_tsc cpuid tsc_known_freq pni pclmulqdq ssse3 fma cx16 pcid sse4_1 sse4_2 x2apic movbe popcnt aes xsave avx f16c rdrand hypervisor lahf_lm abm 3dnowprefetch invpcid_single ssbd ibrs ibpb stibp fsgsbase tsc_adjust bmi1 hle avx2 smep bmi2 erms invpcid rtm rdseed adx smap xsaveopt arat md_clear arch_capabilities\n",
            "bugs\t\t: cpu_meltdown spectre_v1 spectre_v2 spec_store_bypass l1tf mds swapgs taa\n",
            "bogomips\t: 4399.99\n",
            "clflush size\t: 64\n",
            "cache_alignment\t: 64\n",
            "address sizes\t: 46 bits physical, 48 bits virtual\n",
            "power management:\n",
            "\n",
            "processor\t: 1\n",
            "vendor_id\t: GenuineIntel\n",
            "cpu family\t: 6\n",
            "model\t\t: 79\n",
            "model name\t: Intel(R) Xeon(R) CPU @ 2.20GHz\n",
            "stepping\t: 0\n",
            "microcode\t: 0x1\n",
            "cpu MHz\t\t: 2199.998\n",
            "cache size\t: 56320 KB\n",
            "physical id\t: 0\n",
            "siblings\t: 2\n",
            "core id\t\t: 0\n",
            "cpu cores\t: 1\n",
            "apicid\t\t: 1\n",
            "initial apicid\t: 1\n",
            "fpu\t\t: yes\n",
            "fpu_exception\t: yes\n",
            "cpuid level\t: 13\n",
            "wp\t\t: yes\n",
            "flags\t\t: fpu vme de pse tsc msr pae mce cx8 apic sep mtrr pge mca cmov pat pse36 clflush mmx fxsr sse sse2 ss ht syscall nx pdpe1gb rdtscp lm constant_tsc rep_good nopl xtopology nonstop_tsc cpuid tsc_known_freq pni pclmulqdq ssse3 fma cx16 pcid sse4_1 sse4_2 x2apic movbe popcnt aes xsave avx f16c rdrand hypervisor lahf_lm abm 3dnowprefetch invpcid_single ssbd ibrs ibpb stibp fsgsbase tsc_adjust bmi1 hle avx2 smep bmi2 erms invpcid rtm rdseed adx smap xsaveopt arat md_clear arch_capabilities\n",
            "bugs\t\t: cpu_meltdown spectre_v1 spectre_v2 spec_store_bypass l1tf mds swapgs taa\n",
            "bogomips\t: 4399.99\n",
            "clflush size\t: 64\n",
            "cache_alignment\t: 64\n",
            "address sizes\t: 46 bits physical, 48 bits virtual\n",
            "power management:\n",
            "\n"
          ]
        }
      ]
    },
    {
      "cell_type": "markdown",
      "metadata": {
        "id": "lHm410FBiXcC"
      },
      "source": [
        "<center>\n",
        "  <h1>The PyData Toolbox</h1>\n",
        "  <h3>Scott Sanderson (Twitter: @scottbsanderson, GitHub: ssanderson)</h3>\n",
        "  <h3><a href=\"https://github.com/ssanderson/pydata-toolbox\">https://github.com/ssanderson/pydata-toolbox</a></h3>\n",
        "</center>"
      ]
    },
    {
      "cell_type": "markdown",
      "metadata": {
        "collapsed": true,
        "id": "0CXHsFMBiXcD"
      },
      "source": [
        "# About Me:\n",
        "\n",
        "<img src=\"https://raw.githubusercontent.com/ssanderson/pydata-toolbox/master/notebooks/images/me.jpg\" alt=\"Drawing\" style=\"width: 300px;\"/>\n",
        "\n",
        "- Senior Engineer at [Quantopian](www.quantopian.com)\n",
        "- Background in Mathematics and Philosophy\n",
        "- **Twitter:** [@scottbsanderson](https://twitter.com/scottbsanderson)\n",
        "- **GitHub:** [ssanderson](github.com/ssanderson)"
      ]
    },
    {
      "cell_type": "markdown",
      "metadata": {
        "id": "tcOO-3C8iXcE"
      },
      "source": [
        "## Outline\n",
        "\n",
        "- Built-in Data Structures\n",
        "- Numpy `array`\n",
        "- Pandas `Series`/`DataFrame`\n",
        "- Plotting and \"Real-World\" Analyses"
      ]
    },
    {
      "cell_type": "markdown",
      "metadata": {
        "id": "qGj-c9CliXcE"
      },
      "source": [
        "# Data Structures"
      ]
    },
    {
      "cell_type": "markdown",
      "metadata": {
        "id": "Nsn-QHmCiXcF"
      },
      "source": [
        "> Rule 5. Data dominates. If you've chosen the right data structures and organized things well, the algorithms\n",
        "will almost always be self-evident. Data structures, not algorithms, are central to programming.\n",
        "\n",
        "- *Notes on Programming in C*, by Rob Pike."
      ]
    },
    {
      "cell_type": "markdown",
      "metadata": {
        "id": "_yhFg_rXiXcF"
      },
      "source": [
        "# Lists"
      ]
    },
    {
      "cell_type": "code",
      "execution_count": null,
      "metadata": {
        "collapsed": true,
        "id": "97QvmzbqiXcG"
      },
      "outputs": [],
      "source": [
        "assert ran_the_first_cell, \"Oh noes!\""
      ]
    },
    {
      "cell_type": "code",
      "execution_count": null,
      "metadata": {
        "colab": {
          "base_uri": "https://localhost:8080/"
        },
        "id": "nhIZgNXLiXcG",
        "outputId": "b2474932-dcb9-4c7f-ccb2-e5b5e3e8cccb"
      },
      "outputs": [
        {
          "output_type": "execute_result",
          "data": {
            "text/plain": [
              "[1, 'two', 3.0, 4, 5.0, 'six']"
            ]
          },
          "metadata": {},
          "execution_count": 7
        }
      ],
      "source": [
        "l = [1, 'two', 3.0, 4, 5.0, \"six\"]\n",
        "l"
      ]
    },
    {
      "cell_type": "code",
      "execution_count": null,
      "metadata": {
        "colab": {
          "base_uri": "https://localhost:8080/"
        },
        "id": "Cjj8bfDAiXcH",
        "outputId": "4c2b6d57-c1a6-4482-d267-3df892ef5099"
      },
      "outputs": [
        {
          "output_type": "stream",
          "name": "stdout",
          "text": [
            "first: 1\n",
            "second: two\n"
          ]
        }
      ],
      "source": [
        "# Lists can be indexed like C-style arrays.\n",
        "first = l[0]\n",
        "second = l[1]\n",
        "print(\"first:\", first)\n",
        "print(\"second:\", second)"
      ]
    },
    {
      "cell_type": "code",
      "execution_count": null,
      "metadata": {
        "colab": {
          "base_uri": "https://localhost:8080/"
        },
        "id": "cVozluPbiXcH",
        "outputId": "5bfc93fc-1057-4892-d366-9e9ad5e495b6"
      },
      "outputs": [
        {
          "output_type": "stream",
          "name": "stdout",
          "text": [
            "last: six\n",
            "second to last: 5.0\n"
          ]
        }
      ],
      "source": [
        "# Negative indexing gives elements relative to the end of the list.\n",
        "last = l[-1]\n",
        "penultimate = l[-2]\n",
        "print(\"last:\", last)\n",
        "print(\"second to last:\", penultimate)"
      ]
    },
    {
      "cell_type": "code",
      "execution_count": null,
      "metadata": {
        "colab": {
          "base_uri": "https://localhost:8080/"
        },
        "id": "PTqqm8MeiXcI",
        "outputId": "9dc7d4e1-e966-4a0d-9e4c-9b6ff35baf75"
      },
      "outputs": [
        {
          "output_type": "execute_result",
          "data": {
            "text/plain": [
              "['two', 3.0]"
            ]
          },
          "metadata": {},
          "execution_count": 10
        }
      ],
      "source": [
        "# Lists can also be sliced, which makes a copy of elements between \n",
        "# start (inclusive) and stop (exclusive)\n",
        "sublist = l[1:3]\n",
        "sublist"
      ]
    },
    {
      "cell_type": "code",
      "execution_count": null,
      "metadata": {
        "colab": {
          "base_uri": "https://localhost:8080/"
        },
        "id": "ugUUXXUViXcI",
        "outputId": "31d233b0-227b-4d55-949f-8c99fcb56dec"
      },
      "outputs": [
        {
          "output_type": "execute_result",
          "data": {
            "text/plain": [
              "[1, 'two', 3.0]"
            ]
          },
          "metadata": {},
          "execution_count": 11
        }
      ],
      "source": [
        "# l[:N] is equivalent to l[0:N].\n",
        "first_three = l[:3]\n",
        "first_three"
      ]
    },
    {
      "cell_type": "code",
      "execution_count": null,
      "metadata": {
        "colab": {
          "base_uri": "https://localhost:8080/"
        },
        "id": "otoRjbK7iXcI",
        "outputId": "2649bc76-6b7a-4c42-d2fe-3b10feeb677e"
      },
      "outputs": [
        {
          "output_type": "execute_result",
          "data": {
            "text/plain": [
              "[4, 5.0, 'six']"
            ]
          },
          "metadata": {},
          "execution_count": 12
        }
      ],
      "source": [
        "# l[3:] is equivalent to l[3:len(l)].\n",
        "after_three = l[3:]\n",
        "after_three"
      ]
    },
    {
      "cell_type": "code",
      "execution_count": null,
      "metadata": {
        "colab": {
          "base_uri": "https://localhost:8080/"
        },
        "id": "2ZndPPspiXcJ",
        "outputId": "dd484ca1-1b84-4273-bc56-b2779530fee0"
      },
      "outputs": [
        {
          "output_type": "execute_result",
          "data": {
            "text/plain": [
              "['b', 'd', 'f']"
            ]
          },
          "metadata": {},
          "execution_count": 13
        }
      ],
      "source": [
        "# There's also a third parameter, \"step\", which gets every Nth element.\n",
        "l = ['a', 'b', 'c', 'd', 'e', 'f', 'g','h']\n",
        "l[1:7:2]"
      ]
    },
    {
      "cell_type": "code",
      "execution_count": null,
      "metadata": {
        "colab": {
          "base_uri": "https://localhost:8080/"
        },
        "id": "dt2OMhnZiXcJ",
        "outputId": "7a97d892-e67f-4154-ab6b-b12b071b82a0"
      },
      "outputs": [
        {
          "output_type": "execute_result",
          "data": {
            "text/plain": [
              "['h', 'g', 'f', 'e', 'd', 'c', 'b', 'a']"
            ]
          },
          "metadata": {},
          "execution_count": 14
        }
      ],
      "source": [
        "# This is a cute way to reverse a list.\n",
        "l[::-1]"
      ]
    },
    {
      "cell_type": "code",
      "execution_count": null,
      "metadata": {
        "colab": {
          "base_uri": "https://localhost:8080/"
        },
        "id": "uDIdawFwiXcJ",
        "outputId": "15279a39-aa5b-4c3c-9432-db7dd6aa87ca"
      },
      "outputs": [
        {
          "output_type": "stream",
          "name": "stdout",
          "text": [
            "Before: [1, 2, 3, 4, 5]\n",
            "After: [1, 2, 3, 4, 5, 'six']\n"
          ]
        }
      ],
      "source": [
        "# Lists can be grown efficiently (in O(1) amortized time).\n",
        "l = [1, 2, 3, 4, 5]\n",
        "print(\"Before:\", l)\n",
        "l.append('six')\n",
        "print(\"After:\", l)"
      ]
    },
    {
      "cell_type": "code",
      "execution_count": null,
      "metadata": {
        "colab": {
          "base_uri": "https://localhost:8080/"
        },
        "id": "OIhO0xxUiXcK",
        "outputId": "eece82f7-0ca9-4e73-e719-25271de7045b"
      },
      "outputs": [
        {
          "output_type": "execute_result",
          "data": {
            "text/plain": [
              "[2, 4, 6, 8, 10]"
            ]
          },
          "metadata": {},
          "execution_count": 16
        }
      ],
      "source": [
        "# Comprehensions let us perform elementwise computations.\n",
        "l = [1, 2, 3, 4, 5]\n",
        "[x * 2 for x in l]"
      ]
    },
    {
      "cell_type": "markdown",
      "metadata": {
        "id": "gh1Uw4KtiXcK"
      },
      "source": [
        "## Review: Python Lists\n",
        "\n",
        "- Zero-indexed sequence of arbitrary Python values.\n",
        "- Slicing syntax: `l[start:stop:step]` copies elements at regular intervals from `start` to `stop`.\n",
        "- Efficient (`O(1)`) appends and removes from end.\n",
        "- Comprehension syntax: `[f(x) for x in l if cond(x)]`."
      ]
    },
    {
      "cell_type": "markdown",
      "metadata": {
        "id": "KPeFQQs5iXcK"
      },
      "source": [
        "# Dictionaries"
      ]
    },
    {
      "cell_type": "code",
      "execution_count": null,
      "metadata": {
        "colab": {
          "base_uri": "https://localhost:8080/"
        },
        "id": "55GAxN3AiXcL",
        "outputId": "8067b210-cf3c-4432-a4d1-f37b7f7d8d1f"
      },
      "outputs": [
        {
          "output_type": "execute_result",
          "data": {
            "text/plain": [
              "{'David': 'Hume', 'Immanuel': 'Kant', 'Bertrand': 'Russell'}"
            ]
          },
          "metadata": {},
          "execution_count": 17
        }
      ],
      "source": [
        "# Dictionaries are key-value mappings.\n",
        "philosophers = {'David': 'Hume', 'Immanuel': 'Kant', 'Bertrand': 'Russell'}\n",
        "philosophers"
      ]
    },
    {
      "cell_type": "code",
      "execution_count": null,
      "metadata": {
        "colab": {
          "base_uri": "https://localhost:8080/"
        },
        "id": "V3JS2kHSiXcL",
        "outputId": "9de9f2fd-5b4b-4125-9b8a-57565169acbb"
      },
      "outputs": [
        {
          "output_type": "execute_result",
          "data": {
            "text/plain": [
              "{'David': 'Hume',\n",
              " 'Immanuel': 'Kant',\n",
              " 'Bertrand': 'Russell',\n",
              " 'Ludwig': 'Wittgenstein'}"
            ]
          },
          "metadata": {},
          "execution_count": 18
        }
      ],
      "source": [
        "# Like lists, dictionaries are size-mutable.\n",
        "philosophers['Ludwig'] = 'Wittgenstein'\n",
        "philosophers"
      ]
    },
    {
      "cell_type": "code",
      "execution_count": null,
      "metadata": {
        "colab": {
          "base_uri": "https://localhost:8080/"
        },
        "id": "YRGePTociXcL",
        "outputId": "9b34dc7d-3e2d-45e0-dc17-94372811b8f2"
      },
      "outputs": [
        {
          "output_type": "execute_result",
          "data": {
            "text/plain": [
              "{'Immanuel': 'Kant', 'Bertrand': 'Russell', 'Ludwig': 'Wittgenstein'}"
            ]
          },
          "metadata": {},
          "execution_count": 19
        }
      ],
      "source": [
        "del philosophers['David']\n",
        "philosophers"
      ]
    },
    {
      "cell_type": "code",
      "execution_count": null,
      "metadata": {
        "id": "2E4f_6pQiXcM",
        "colab": {
          "base_uri": "https://localhost:8080/",
          "height": 183
        },
        "outputId": "318ab5ff-55fa-4ea7-85b3-c5238a7a8faa"
      },
      "outputs": [
        {
          "output_type": "error",
          "ename": "TypeError",
          "evalue": "ignored",
          "traceback": [
            "\u001b[0;31m---------------------------------------------------------------------------\u001b[0m",
            "\u001b[0;31mTypeError\u001b[0m                                 Traceback (most recent call last)",
            "\u001b[0;32m<ipython-input-21-042d882bd6b0>\u001b[0m in \u001b[0;36m<module>\u001b[0;34m\u001b[0m\n\u001b[1;32m      1\u001b[0m \u001b[0;31m# No slicing.\u001b[0m\u001b[0;34m\u001b[0m\u001b[0;34m\u001b[0m\u001b[0;34m\u001b[0m\u001b[0m\n\u001b[0;32m----> 2\u001b[0;31m \u001b[0mphilosophers\u001b[0m\u001b[0;34m[\u001b[0m\u001b[0;34m'Bertrand'\u001b[0m\u001b[0;34m:\u001b[0m\u001b[0;34m'Immanuel'\u001b[0m\u001b[0;34m]\u001b[0m\u001b[0;34m\u001b[0m\u001b[0;34m\u001b[0m\u001b[0m\n\u001b[0m",
            "\u001b[0;31mTypeError\u001b[0m: unhashable type: 'slice'"
          ]
        }
      ],
      "source": [
        "# No slicing.\n",
        "philosophers['Bertrand':'Immanuel']"
      ]
    },
    {
      "cell_type": "markdown",
      "metadata": {
        "id": "xvN8eqK2iXcM"
      },
      "source": [
        "## Review: Python Dictionaries\n",
        "\n",
        "- Unordered key-value mapping from (almost) arbitrary keys to arbitrary values.\n",
        "- Efficient (`O(1)`) lookup, insertion, and deletion.\n",
        "- No slicing (would require a notion of order)."
      ]
    },
    {
      "cell_type": "markdown",
      "metadata": {
        "id": "3C9gwhYDiXcM"
      },
      "source": [
        "<center><img src=\"https://raw.githubusercontent.com/ssanderson/pydata-toolbox/master/notebooks/images/pacino.gif\" alt=\"Drawing\" style=\"width: 100%;\"/></center>\n"
      ]
    },
    {
      "cell_type": "code",
      "execution_count": null,
      "metadata": {
        "collapsed": true,
        "id": "eqFZgJyyiXcM"
      },
      "outputs": [],
      "source": [
        "# Suppose we have some matrices...\n",
        "a = [[1, 2, 3],\n",
        "     [2, 3, 4],\n",
        "     [5, 6, 7],\n",
        "     [1, 1, 1]]\n",
        "\n",
        "b = [[1, 2, 3, 4],\n",
        "     [2, 3, 4, 5]]"
      ]
    },
    {
      "cell_type": "code",
      "execution_count": null,
      "metadata": {
        "collapsed": true,
        "id": "TfFqABAMiXcM"
      },
      "outputs": [],
      "source": [
        "def matmul(A, B):\n",
        "    \"\"\"Multiply matrix A by matrix B.\"\"\"\n",
        "    rows_out = len(A)\n",
        "    cols_out = len(B[0])\n",
        "    out = [[0 for col in range(cols_out)] for row in range(rows_out)]\n",
        "    \n",
        "    for i in range(rows_out):\n",
        "        for j in range(cols_out):\n",
        "            for k in range(len(B)):\n",
        "                out[i][j] += A[i][k] * B[k][j]\n",
        "    return out"
      ]
    },
    {
      "cell_type": "markdown",
      "metadata": {
        "id": "Yuee_jmYiXcN"
      },
      "source": [
        "<center><img src=\"https://raw.githubusercontent.com/ssanderson/pydata-toolbox/master/notebooks/images/gross.gif\" alt=\"Drawing\" style=\"width: 50%;\"/></center>\n"
      ]
    },
    {
      "cell_type": "code",
      "execution_count": null,
      "metadata": {
        "colab": {
          "base_uri": "https://localhost:8080/"
        },
        "id": "PerN-NDRiXcN",
        "outputId": "7c722b34-f8aa-4c8a-9f5a-3024d5b1ecbd"
      },
      "outputs": [
        {
          "output_type": "stream",
          "name": "stdout",
          "text": [
            "CPU times: user 34 µs, sys: 6 µs, total: 40 µs\n",
            "Wall time: 44.8 µs\n"
          ]
        },
        {
          "output_type": "execute_result",
          "data": {
            "text/plain": [
              "[[5, 8, 11, 14], [8, 13, 18, 23], [17, 28, 39, 50], [3, 5, 7, 9]]"
            ]
          },
          "metadata": {},
          "execution_count": 24
        }
      ],
      "source": [
        "%%time\n",
        "matmul(a, b)"
      ]
    },
    {
      "cell_type": "markdown",
      "metadata": {
        "id": "EFlf_ZLgsUEo"
      },
      "source": [
        "**My own example 1 - Changing in matmul(A, B) Python len(B) (# of rows of B) for len(A[0]) (# of columns of A)**"
      ]
    },
    {
      "cell_type": "code",
      "execution_count": null,
      "metadata": {
        "id": "T71BRNaG3fev"
      },
      "outputs": [],
      "source": [
        "def matmul(A, B):\n",
        "    \"\"\"Multiply matrix A by matrix B.\"\"\"\n",
        "    rows_out = len(A)\n",
        "    cols_out = len(B[0])\n",
        "    out = [[0 for col in range(cols_out)] for row in range(rows_out)]\n",
        "    \n",
        "    for i in range(rows_out):\n",
        "        for j in range(cols_out):\n",
        "            for k in range(len(A[0])):\n",
        "                out[i][j] += A[i][k] * B[k][j]\n",
        "    return out"
      ]
    },
    {
      "cell_type": "markdown",
      "metadata": {
        "id": "8sLiMfvlUJzp"
      },
      "source": [
        "**My own example 2 - Verifiying error with in matmul(A, B) Python with the original matrices when changing len(B) (# of rows of B) for len(A[0]) (# of colums of A)**"
      ]
    },
    {
      "cell_type": "code",
      "execution_count": null,
      "metadata": {
        "colab": {
          "base_uri": "https://localhost:8080/",
          "height": 252
        },
        "id": "xpBM4o8LCLSO",
        "outputId": "a39c2bc4-00e5-4a2c-9581-ae6cf1fa5fb0"
      },
      "outputs": [
        {
          "output_type": "error",
          "ename": "IndexError",
          "evalue": "ignored",
          "traceback": [
            "\u001b[0;31m---------------------------------------------------------------------------\u001b[0m",
            "\u001b[0;31mIndexError\u001b[0m                                Traceback (most recent call last)",
            "\u001b[0;32m<timed eval>\u001b[0m in \u001b[0;36m<module>\u001b[0;34m\u001b[0m\n",
            "\u001b[0;32m<ipython-input-25-47403ac0fd4b>\u001b[0m in \u001b[0;36mmatmul\u001b[0;34m(A, B)\u001b[0m\n\u001b[1;32m      8\u001b[0m         \u001b[0;32mfor\u001b[0m \u001b[0mj\u001b[0m \u001b[0;32min\u001b[0m \u001b[0mrange\u001b[0m\u001b[0;34m(\u001b[0m\u001b[0mcols_out\u001b[0m\u001b[0;34m)\u001b[0m\u001b[0;34m:\u001b[0m\u001b[0;34m\u001b[0m\u001b[0;34m\u001b[0m\u001b[0m\n\u001b[1;32m      9\u001b[0m             \u001b[0;32mfor\u001b[0m \u001b[0mk\u001b[0m \u001b[0;32min\u001b[0m \u001b[0mrange\u001b[0m\u001b[0;34m(\u001b[0m\u001b[0mlen\u001b[0m\u001b[0;34m(\u001b[0m\u001b[0mA\u001b[0m\u001b[0;34m[\u001b[0m\u001b[0;36m0\u001b[0m\u001b[0;34m]\u001b[0m\u001b[0;34m)\u001b[0m\u001b[0;34m)\u001b[0m\u001b[0;34m:\u001b[0m\u001b[0;34m\u001b[0m\u001b[0;34m\u001b[0m\u001b[0m\n\u001b[0;32m---> 10\u001b[0;31m                 \u001b[0mout\u001b[0m\u001b[0;34m[\u001b[0m\u001b[0mi\u001b[0m\u001b[0;34m]\u001b[0m\u001b[0;34m[\u001b[0m\u001b[0mj\u001b[0m\u001b[0;34m]\u001b[0m \u001b[0;34m+=\u001b[0m \u001b[0mA\u001b[0m\u001b[0;34m[\u001b[0m\u001b[0mi\u001b[0m\u001b[0;34m]\u001b[0m\u001b[0;34m[\u001b[0m\u001b[0mk\u001b[0m\u001b[0;34m]\u001b[0m \u001b[0;34m*\u001b[0m \u001b[0mB\u001b[0m\u001b[0;34m[\u001b[0m\u001b[0mk\u001b[0m\u001b[0;34m]\u001b[0m\u001b[0;34m[\u001b[0m\u001b[0mj\u001b[0m\u001b[0;34m]\u001b[0m\u001b[0;34m\u001b[0m\u001b[0;34m\u001b[0m\u001b[0m\n\u001b[0m\u001b[1;32m     11\u001b[0m     \u001b[0;32mreturn\u001b[0m \u001b[0mout\u001b[0m\u001b[0;34m\u001b[0m\u001b[0;34m\u001b[0m\u001b[0m\n",
            "\u001b[0;31mIndexError\u001b[0m: list index out of range"
          ]
        }
      ],
      "source": [
        "%%time\n",
        "matmul(a, b)"
      ]
    },
    {
      "cell_type": "markdown",
      "metadata": {
        "id": "AGztFKBNuQ_e"
      },
      "source": [
        "**My own example 3 - Chekcing the matrix multiplication compatibility condition  len(A[0]) == len(B)**"
      ]
    },
    {
      "cell_type": "code",
      "execution_count": null,
      "metadata": {
        "id": "4rgHkUNC3haX"
      },
      "outputs": [],
      "source": [
        "def matmul(A, B):\n",
        "    \"\"\"Multiply matrix A by matrix B.\"\"\"\n",
        "    rows_out = len(A)\n",
        "    cols_out = len(B[0])\n",
        "    out = [[0 for col in range(cols_out)] for row in range(rows_out)]\n",
        "    if  len(A[0]) == len(B):\n",
        "     for i in range(rows_out):\n",
        "        for j in range(cols_out):\n",
        "            for k in range(len(A[0])):\n",
        "                out[i][j] += A[i][k] * B[k][j]\n",
        "     return out\n",
        "    else:\n",
        "      return 'Not compatibility matrix A and B'"
      ]
    },
    {
      "cell_type": "markdown",
      "metadata": {
        "id": "A4SoDNPpuZpp"
      },
      "source": [
        "**My own example 4 -  Verifiying error with in matmul(A, B) Python when checking the mtarix multiplication compatibility condition  len(A[0]) == len(B)**"
      ]
    },
    {
      "cell_type": "code",
      "execution_count": null,
      "metadata": {
        "colab": {
          "base_uri": "https://localhost:8080/",
          "height": 70
        },
        "id": "wpnd21c83jQI",
        "outputId": "228b7808-90d3-42a0-8f11-176148f0d60d"
      },
      "outputs": [
        {
          "output_type": "stream",
          "name": "stdout",
          "text": [
            "CPU times: user 17 µs, sys: 0 ns, total: 17 µs\n",
            "Wall time: 21 µs\n"
          ]
        },
        {
          "output_type": "execute_result",
          "data": {
            "text/plain": [
              "'Not compatibility matrix A and B'"
            ],
            "application/vnd.google.colaboratory.intrinsic+json": {
              "type": "string"
            }
          },
          "metadata": {},
          "execution_count": 28
        }
      ],
      "source": [
        "%%time\n",
        "matmul(a, b)"
      ]
    },
    {
      "cell_type": "markdown",
      "metadata": {
        "id": "MZTTYVu0ufCY"
      },
      "source": [
        "**My own example 5 - Deifining A and B that are compatiible for multiplcation**"
      ]
    },
    {
      "cell_type": "code",
      "execution_count": null,
      "metadata": {
        "id": "N0I5CZ4oCXB_"
      },
      "outputs": [],
      "source": [
        "# Suppose we have some matrices...\n",
        "a = [[1, 2, 3],\n",
        "     [2, 3, 4],\n",
        "     [5, 6, 7],\n",
        "     [1, 1, 1]]\n",
        "\n",
        "b = [[1, 2, 3, 4],\n",
        "     [2, 3, 4, 5],\n",
        "     [5, 6, 5, 2]]"
      ]
    },
    {
      "cell_type": "markdown",
      "metadata": {
        "id": "GM5DAXUIuhEg"
      },
      "source": [
        "**My own example 6 - Runinng the correct Python matrix multiplication code with the matrices with dimensions compatible for multiplication.**"
      ]
    },
    {
      "cell_type": "code",
      "execution_count": null,
      "metadata": {
        "colab": {
          "base_uri": "https://localhost:8080/"
        },
        "id": "Ip600JFN3qHX",
        "outputId": "d5b1afd3-8620-4364-f983-977881710948"
      },
      "outputs": [
        {
          "output_type": "stream",
          "name": "stdout",
          "text": [
            "CPU times: user 38 µs, sys: 6 µs, total: 44 µs\n",
            "Wall time: 48.4 µs\n"
          ]
        },
        {
          "output_type": "execute_result",
          "data": {
            "text/plain": [
              "[[20, 26, 26, 20], [28, 37, 38, 31], [52, 70, 74, 64], [8, 11, 12, 11]]"
            ]
          },
          "metadata": {},
          "execution_count": 30
        }
      ],
      "source": [
        "%%time\n",
        "matmul(a, b)"
      ]
    },
    {
      "cell_type": "code",
      "execution_count": null,
      "metadata": {
        "colab": {
          "base_uri": "https://localhost:8080/"
        },
        "id": "X1tnwMvd3bIP",
        "outputId": "c32c05cb-55ee-49f1-df39-a30b4f6f3743"
      },
      "outputs": [
        {
          "output_type": "execute_result",
          "data": {
            "text/plain": [
              "[[0.8112474285417534, 0.261268127260158, 0.37713701090027174],\n",
              " [0.29068556339023255, 0.9062424403061433, 0.9677875587627366]]"
            ]
          },
          "metadata": {},
          "execution_count": 31
        }
      ],
      "source": [
        "import random\n",
        "def random_matrix(m, n):\n",
        "    out = []\n",
        "    for row in range(m):\n",
        "        out.append([random.random() for _ in range(n)])\n",
        "    return out\n",
        "\n",
        "randm = random_matrix(2, 3)\n",
        "randm"
      ]
    },
    {
      "cell_type": "markdown",
      "metadata": {
        "id": "3-eUeNjHhHP7"
      },
      "source": [
        "**My own example 7 - Running 10 times matmul(randa, randb) with randa and randb a randon matrices of 600 x 100 and 100 x 600 and calulating the average execution time**"
      ]
    },
    {
      "cell_type": "code",
      "execution_count": null,
      "metadata": {
        "id": "J5nWZyl9E2ld"
      },
      "outputs": [],
      "source": [
        "randa = random_matrix(600, 100)\n",
        "randb = random_matrix(100, 600)"
      ]
    },
    {
      "cell_type": "code",
      "execution_count": null,
      "metadata": {
        "colab": {
          "base_uri": "https://localhost:8080/"
        },
        "id": "M-e3aEaU37_H",
        "outputId": "68658d6c-8226-45e4-d121-c476cf5bd4f3"
      },
      "outputs": [
        {
          "output_type": "stream",
          "name": "stdout",
          "text": [
            "Execution time: 9.342546367645264 seconds\n"
          ]
        }
      ],
      "source": [
        "st = time.time()\n",
        "for i in range(10):\n",
        " matmul(randa, randb)\n",
        "et = time.time()\n",
        "\n",
        "elapsed_time_Py = (et - st)/10\n",
        "print('Execution time:', elapsed_time_Py, 'seconds')"
      ]
    },
    {
      "cell_type": "markdown",
      "metadata": {
        "id": "FXisJPNSN-Tf"
      },
      "source": [
        "**My own example 8 - Creating the average execution time data frame and adding Python's average execution time**"
      ]
    },
    {
      "cell_type": "code",
      "execution_count": null,
      "metadata": {
        "colab": {
          "base_uri": "https://localhost:8080/",
          "height": 81
        },
        "id": "2fK25g003-ww",
        "outputId": "c29be75a-1ffd-4659-8f90-98f81d228fb3"
      },
      "outputs": [
        {
          "output_type": "execute_result",
          "data": {
            "text/plain": [
              "   Nombre   Average\n",
              "0  Python  9.342546"
            ],
            "text/html": [
              "\n",
              "  <div id=\"df-8982a5e4-9c06-4620-8d7b-8e3c9db091d6\">\n",
              "    <div class=\"colab-df-container\">\n",
              "      <div>\n",
              "<style scoped>\n",
              "    .dataframe tbody tr th:only-of-type {\n",
              "        vertical-align: middle;\n",
              "    }\n",
              "\n",
              "    .dataframe tbody tr th {\n",
              "        vertical-align: top;\n",
              "    }\n",
              "\n",
              "    .dataframe thead th {\n",
              "        text-align: right;\n",
              "    }\n",
              "</style>\n",
              "<table border=\"1\" class=\"dataframe\">\n",
              "  <thead>\n",
              "    <tr style=\"text-align: right;\">\n",
              "      <th></th>\n",
              "      <th>Nombre</th>\n",
              "      <th>Average</th>\n",
              "    </tr>\n",
              "  </thead>\n",
              "  <tbody>\n",
              "    <tr>\n",
              "      <th>0</th>\n",
              "      <td>Python</td>\n",
              "      <td>9.342546</td>\n",
              "    </tr>\n",
              "  </tbody>\n",
              "</table>\n",
              "</div>\n",
              "      <button class=\"colab-df-convert\" onclick=\"convertToInteractive('df-8982a5e4-9c06-4620-8d7b-8e3c9db091d6')\"\n",
              "              title=\"Convert this dataframe to an interactive table.\"\n",
              "              style=\"display:none;\">\n",
              "        \n",
              "  <svg xmlns=\"http://www.w3.org/2000/svg\" height=\"24px\"viewBox=\"0 0 24 24\"\n",
              "       width=\"24px\">\n",
              "    <path d=\"M0 0h24v24H0V0z\" fill=\"none\"/>\n",
              "    <path d=\"M18.56 5.44l.94 2.06.94-2.06 2.06-.94-2.06-.94-.94-2.06-.94 2.06-2.06.94zm-11 1L8.5 8.5l.94-2.06 2.06-.94-2.06-.94L8.5 2.5l-.94 2.06-2.06.94zm10 10l.94 2.06.94-2.06 2.06-.94-2.06-.94-.94-2.06-.94 2.06-2.06.94z\"/><path d=\"M17.41 7.96l-1.37-1.37c-.4-.4-.92-.59-1.43-.59-.52 0-1.04.2-1.43.59L10.3 9.45l-7.72 7.72c-.78.78-.78 2.05 0 2.83L4 21.41c.39.39.9.59 1.41.59.51 0 1.02-.2 1.41-.59l7.78-7.78 2.81-2.81c.8-.78.8-2.07 0-2.86zM5.41 20L4 18.59l7.72-7.72 1.47 1.35L5.41 20z\"/>\n",
              "  </svg>\n",
              "      </button>\n",
              "      \n",
              "  <style>\n",
              "    .colab-df-container {\n",
              "      display:flex;\n",
              "      flex-wrap:wrap;\n",
              "      gap: 12px;\n",
              "    }\n",
              "\n",
              "    .colab-df-convert {\n",
              "      background-color: #E8F0FE;\n",
              "      border: none;\n",
              "      border-radius: 50%;\n",
              "      cursor: pointer;\n",
              "      display: none;\n",
              "      fill: #1967D2;\n",
              "      height: 32px;\n",
              "      padding: 0 0 0 0;\n",
              "      width: 32px;\n",
              "    }\n",
              "\n",
              "    .colab-df-convert:hover {\n",
              "      background-color: #E2EBFA;\n",
              "      box-shadow: 0px 1px 2px rgba(60, 64, 67, 0.3), 0px 1px 3px 1px rgba(60, 64, 67, 0.15);\n",
              "      fill: #174EA6;\n",
              "    }\n",
              "\n",
              "    [theme=dark] .colab-df-convert {\n",
              "      background-color: #3B4455;\n",
              "      fill: #D2E3FC;\n",
              "    }\n",
              "\n",
              "    [theme=dark] .colab-df-convert:hover {\n",
              "      background-color: #434B5C;\n",
              "      box-shadow: 0px 1px 3px 1px rgba(0, 0, 0, 0.15);\n",
              "      filter: drop-shadow(0px 1px 2px rgba(0, 0, 0, 0.3));\n",
              "      fill: #FFFFFF;\n",
              "    }\n",
              "  </style>\n",
              "\n",
              "      <script>\n",
              "        const buttonEl =\n",
              "          document.querySelector('#df-8982a5e4-9c06-4620-8d7b-8e3c9db091d6 button.colab-df-convert');\n",
              "        buttonEl.style.display =\n",
              "          google.colab.kernel.accessAllowed ? 'block' : 'none';\n",
              "\n",
              "        async function convertToInteractive(key) {\n",
              "          const element = document.querySelector('#df-8982a5e4-9c06-4620-8d7b-8e3c9db091d6');\n",
              "          const dataTable =\n",
              "            await google.colab.kernel.invokeFunction('convertToInteractive',\n",
              "                                                     [key], {});\n",
              "          if (!dataTable) return;\n",
              "\n",
              "          const docLinkHtml = 'Like what you see? Visit the ' +\n",
              "            '<a target=\"_blank\" href=https://colab.research.google.com/notebooks/data_table.ipynb>data table notebook</a>'\n",
              "            + ' to learn more about interactive tables.';\n",
              "          element.innerHTML = '';\n",
              "          dataTable['output_type'] = 'display_data';\n",
              "          await google.colab.output.renderOutput(dataTable, element);\n",
              "          const docLink = document.createElement('div');\n",
              "          docLink.innerHTML = docLinkHtml;\n",
              "          element.appendChild(docLink);\n",
              "        }\n",
              "      </script>\n",
              "    </div>\n",
              "  </div>\n",
              "  "
            ]
          },
          "metadata": {},
          "execution_count": 34
        }
      ],
      "source": [
        "languages = {'Nombre':['Python'],'Average': [elapsed_time_Py]}\n",
        "df = pd.DataFrame(data=languages)\n",
        "df"
      ]
    },
    {
      "cell_type": "markdown",
      "metadata": {
        "id": "OiFYD3tghLcL"
      },
      "source": [
        "**My own example 9 - Running 10 times randa and randb mutiplicaction as NumPy arrays  adding NumPy's average execution time**"
      ]
    },
    {
      "cell_type": "code",
      "execution_count": null,
      "metadata": {
        "colab": {
          "base_uri": "https://localhost:8080/"
        },
        "id": "bHX4icJx5KZo",
        "outputId": "fef2d6ba-32fd-4fde-8d79-5c5887722519"
      },
      "outputs": [
        {
          "output_type": "stream",
          "name": "stdout",
          "text": [
            "Execution time: 0.0199786901473999 seconds\n"
          ]
        }
      ],
      "source": [
        "st = time.time()\n",
        "for i in range(10):\n",
        " np.matmul(randa, randb)\n",
        "et = time.time()\n",
        "\n",
        "elapsed_time_Np = (et - st)/10\n",
        "print('Execution time:', elapsed_time_Np, 'seconds')"
      ]
    },
    {
      "cell_type": "code",
      "execution_count": null,
      "metadata": {
        "id": "Dg_1MhwrOq0g",
        "colab": {
          "base_uri": "https://localhost:8080/",
          "height": 112
        },
        "outputId": "c1628cce-e42d-4a0f-cad8-ad46802d4645"
      },
      "outputs": [
        {
          "output_type": "execute_result",
          "data": {
            "text/plain": [
              "   Nombre   Average\n",
              "0  Python  9.342546\n",
              "1   NumPy  0.019979"
            ],
            "text/html": [
              "\n",
              "  <div id=\"df-3f88df34-1c23-4b55-b68c-58d24be459ff\">\n",
              "    <div class=\"colab-df-container\">\n",
              "      <div>\n",
              "<style scoped>\n",
              "    .dataframe tbody tr th:only-of-type {\n",
              "        vertical-align: middle;\n",
              "    }\n",
              "\n",
              "    .dataframe tbody tr th {\n",
              "        vertical-align: top;\n",
              "    }\n",
              "\n",
              "    .dataframe thead th {\n",
              "        text-align: right;\n",
              "    }\n",
              "</style>\n",
              "<table border=\"1\" class=\"dataframe\">\n",
              "  <thead>\n",
              "    <tr style=\"text-align: right;\">\n",
              "      <th></th>\n",
              "      <th>Nombre</th>\n",
              "      <th>Average</th>\n",
              "    </tr>\n",
              "  </thead>\n",
              "  <tbody>\n",
              "    <tr>\n",
              "      <th>0</th>\n",
              "      <td>Python</td>\n",
              "      <td>9.342546</td>\n",
              "    </tr>\n",
              "    <tr>\n",
              "      <th>1</th>\n",
              "      <td>NumPy</td>\n",
              "      <td>0.019979</td>\n",
              "    </tr>\n",
              "  </tbody>\n",
              "</table>\n",
              "</div>\n",
              "      <button class=\"colab-df-convert\" onclick=\"convertToInteractive('df-3f88df34-1c23-4b55-b68c-58d24be459ff')\"\n",
              "              title=\"Convert this dataframe to an interactive table.\"\n",
              "              style=\"display:none;\">\n",
              "        \n",
              "  <svg xmlns=\"http://www.w3.org/2000/svg\" height=\"24px\"viewBox=\"0 0 24 24\"\n",
              "       width=\"24px\">\n",
              "    <path d=\"M0 0h24v24H0V0z\" fill=\"none\"/>\n",
              "    <path d=\"M18.56 5.44l.94 2.06.94-2.06 2.06-.94-2.06-.94-.94-2.06-.94 2.06-2.06.94zm-11 1L8.5 8.5l.94-2.06 2.06-.94-2.06-.94L8.5 2.5l-.94 2.06-2.06.94zm10 10l.94 2.06.94-2.06 2.06-.94-2.06-.94-.94-2.06-.94 2.06-2.06.94z\"/><path d=\"M17.41 7.96l-1.37-1.37c-.4-.4-.92-.59-1.43-.59-.52 0-1.04.2-1.43.59L10.3 9.45l-7.72 7.72c-.78.78-.78 2.05 0 2.83L4 21.41c.39.39.9.59 1.41.59.51 0 1.02-.2 1.41-.59l7.78-7.78 2.81-2.81c.8-.78.8-2.07 0-2.86zM5.41 20L4 18.59l7.72-7.72 1.47 1.35L5.41 20z\"/>\n",
              "  </svg>\n",
              "      </button>\n",
              "      \n",
              "  <style>\n",
              "    .colab-df-container {\n",
              "      display:flex;\n",
              "      flex-wrap:wrap;\n",
              "      gap: 12px;\n",
              "    }\n",
              "\n",
              "    .colab-df-convert {\n",
              "      background-color: #E8F0FE;\n",
              "      border: none;\n",
              "      border-radius: 50%;\n",
              "      cursor: pointer;\n",
              "      display: none;\n",
              "      fill: #1967D2;\n",
              "      height: 32px;\n",
              "      padding: 0 0 0 0;\n",
              "      width: 32px;\n",
              "    }\n",
              "\n",
              "    .colab-df-convert:hover {\n",
              "      background-color: #E2EBFA;\n",
              "      box-shadow: 0px 1px 2px rgba(60, 64, 67, 0.3), 0px 1px 3px 1px rgba(60, 64, 67, 0.15);\n",
              "      fill: #174EA6;\n",
              "    }\n",
              "\n",
              "    [theme=dark] .colab-df-convert {\n",
              "      background-color: #3B4455;\n",
              "      fill: #D2E3FC;\n",
              "    }\n",
              "\n",
              "    [theme=dark] .colab-df-convert:hover {\n",
              "      background-color: #434B5C;\n",
              "      box-shadow: 0px 1px 3px 1px rgba(0, 0, 0, 0.15);\n",
              "      filter: drop-shadow(0px 1px 2px rgba(0, 0, 0, 0.3));\n",
              "      fill: #FFFFFF;\n",
              "    }\n",
              "  </style>\n",
              "\n",
              "      <script>\n",
              "        const buttonEl =\n",
              "          document.querySelector('#df-3f88df34-1c23-4b55-b68c-58d24be459ff button.colab-df-convert');\n",
              "        buttonEl.style.display =\n",
              "          google.colab.kernel.accessAllowed ? 'block' : 'none';\n",
              "\n",
              "        async function convertToInteractive(key) {\n",
              "          const element = document.querySelector('#df-3f88df34-1c23-4b55-b68c-58d24be459ff');\n",
              "          const dataTable =\n",
              "            await google.colab.kernel.invokeFunction('convertToInteractive',\n",
              "                                                     [key], {});\n",
              "          if (!dataTable) return;\n",
              "\n",
              "          const docLinkHtml = 'Like what you see? Visit the ' +\n",
              "            '<a target=\"_blank\" href=https://colab.research.google.com/notebooks/data_table.ipynb>data table notebook</a>'\n",
              "            + ' to learn more about interactive tables.';\n",
              "          element.innerHTML = '';\n",
              "          dataTable['output_type'] = 'display_data';\n",
              "          await google.colab.output.renderOutput(dataTable, element);\n",
              "          const docLink = document.createElement('div');\n",
              "          docLink.innerHTML = docLinkHtml;\n",
              "          element.appendChild(docLink);\n",
              "        }\n",
              "      </script>\n",
              "    </div>\n",
              "  </div>\n",
              "  "
            ]
          },
          "metadata": {},
          "execution_count": 36
        }
      ],
      "source": [
        "df2 = pd.DataFrame({'Nombre':['NumPy'],'Average': [elapsed_time_Np]})\n",
        "df = df.append(df2, ignore_index = True)\n",
        "df"
      ]
    },
    {
      "cell_type": "code",
      "execution_count": null,
      "metadata": {
        "id": "M5czoKckiXcN",
        "scrolled": true,
        "colab": {
          "base_uri": "https://localhost:8080/"
        },
        "outputId": "ed55fb59-1e21-425b-8ff2-d1c70147640f"
      },
      "outputs": [
        {
          "output_type": "stream",
          "name": "stdout",
          "text": [
            "CPU times: user 9.15 s, sys: 76.1 ms, total: 9.23 s\n",
            "Wall time: 9.19 s\n"
          ]
        }
      ],
      "source": [
        "%%time\n",
        "randa = random_matrix(600, 100)\n",
        "randb = random_matrix(100, 600)\n",
        "x = matmul(randa, randb)"
      ]
    },
    {
      "cell_type": "code",
      "execution_count": null,
      "metadata": {
        "collapsed": true,
        "id": "hXy_q4S8iXcN"
      },
      "outputs": [],
      "source": [
        "# Maybe that's not that bad?  Let's try a simpler case.\n",
        "def python_dot_product(xs, ys):\n",
        "    return sum(x * y for x, y in zip(xs, ys))"
      ]
    },
    {
      "cell_type": "code",
      "execution_count": null,
      "metadata": {
        "collapsed": true,
        "id": "qylqVrbqiXcO"
      },
      "outputs": [],
      "source": [
        "%%fortran\n",
        "subroutine fortran_dot_product(xs, ys, result)\n",
        "    double precision, intent(in) :: xs(:)\n",
        "    double precision, intent(in) :: ys(:)\n",
        "    double precision, intent(out) :: result\n",
        "    \n",
        "    result = sum(xs * ys)\n",
        "end"
      ]
    },
    {
      "cell_type": "code",
      "execution_count": null,
      "metadata": {
        "collapsed": true,
        "id": "BGacVDX-iXcO"
      },
      "outputs": [],
      "source": [
        "list_data = [float(i) for i in range(100000)]\n",
        "array_data = np.array(list_data)"
      ]
    },
    {
      "cell_type": "code",
      "execution_count": null,
      "metadata": {
        "id": "aaZPRE4aiXcO",
        "colab": {
          "base_uri": "https://localhost:8080/"
        },
        "outputId": "5fff690e-408d-4578-96ef-68d15edaa452"
      },
      "outputs": [
        {
          "output_type": "stream",
          "name": "stdout",
          "text": [
            "CPU times: user 13.3 ms, sys: 1.99 ms, total: 15.3 ms\n",
            "Wall time: 17.4 ms\n"
          ]
        },
        {
          "output_type": "execute_result",
          "data": {
            "text/plain": [
              "333328333350000.0"
            ]
          },
          "metadata": {},
          "execution_count": 41
        }
      ],
      "source": [
        "%%time\n",
        "python_dot_product(list_data, list_data)"
      ]
    },
    {
      "cell_type": "code",
      "execution_count": null,
      "metadata": {
        "id": "e9tNvTwLiXcO",
        "colab": {
          "base_uri": "https://localhost:8080/"
        },
        "outputId": "864d7bdc-dd0e-4f3b-c115-a25b329254d7"
      },
      "outputs": [
        {
          "output_type": "stream",
          "name": "stdout",
          "text": [
            "CPU times: user 205 µs, sys: 2 µs, total: 207 µs\n",
            "Wall time: 218 µs\n"
          ]
        },
        {
          "output_type": "execute_result",
          "data": {
            "text/plain": [
              "333328333350000.0"
            ]
          },
          "metadata": {},
          "execution_count": 42
        }
      ],
      "source": [
        "%%time\n",
        "fortran_dot_product(array_data, array_data)"
      ]
    },
    {
      "cell_type": "markdown",
      "metadata": {
        "id": "qW-_Q7yuiXcO"
      },
      "source": [
        "<center><img src=\"https://raw.githubusercontent.com/ssanderson/pydata-toolbox/master/notebooks/images/sloth.gif\" alt=\"Drawing\" style=\"width: 1080px;\"/></center>\n"
      ]
    },
    {
      "cell_type": "markdown",
      "metadata": {
        "id": "y37MLCQ4PQd3"
      },
      "source": [
        "**My own example 10 - Deifining A (2x2)  and B (2x2)**"
      ]
    },
    {
      "cell_type": "code",
      "execution_count": null,
      "metadata": {
        "id": "7i0uJGD0v105"
      },
      "outputs": [],
      "source": [
        "A = random_matrix(2, 2)\n",
        "B = random_matrix(2, 2)"
      ]
    },
    {
      "cell_type": "markdown",
      "metadata": {
        "id": "nuV59KXQPipC"
      },
      "source": [
        "**My own example 11 - Defining Fortran subroutine matmul(A,B) for 2x2 matrices**"
      ]
    },
    {
      "cell_type": "code",
      "execution_count": null,
      "metadata": {
        "id": "faG3DgEHyyoP"
      },
      "outputs": [],
      "source": [
        "%%fortran\n",
        "subroutine fortran_matmul(xs, ys, result)\n",
        "  double precision, intent(in) :: xs(:, :)\n",
        "  double precision, intent(in) :: ys(:, :)\n",
        "  double precision, dimension(size(xs, 1), size(ys, 2)), intent(out) :: result\n",
        "\n",
        "  if (size(xs, 2) == size(ys, 1)) then\n",
        "    do row = 1, size(xs, 1)\n",
        "      do col = 1, size(ys, 2)\n",
        "        do colxs = 1, size(xs, 2)\n",
        "          result(row, col) = result(row, col) + xs(row, colxs) * ys(colxs, col)\n",
        "        end do\n",
        "      end do\n",
        "    end do\n",
        "  end if\n",
        " \n",
        "end"
      ]
    },
    {
      "cell_type": "markdown",
      "metadata": {
        "id": "zU1RmmstRPd4"
      },
      "source": [
        "**My own example 12 -Run Fortran subroutine matmul(A,B) with a and b 2x2 matrices**"
      ]
    },
    {
      "cell_type": "code",
      "execution_count": null,
      "metadata": {
        "id": "LTcNJB4L6wwX",
        "colab": {
          "base_uri": "https://localhost:8080/"
        },
        "outputId": "23a96d14-1c46-4399-85f5-7ecfde93c19e"
      },
      "outputs": [
        {
          "output_type": "execute_result",
          "data": {
            "text/plain": [
              "array([[19., 22.],\n",
              "       [43., 50.]])"
            ]
          },
          "metadata": {},
          "execution_count": 45
        }
      ],
      "source": [
        "mat_a = np.array([[1, 2], [3, 4]])\n",
        "mat_b = np.array([[5, 6], [7, 8]])\n",
        "fortran_matmul(mat_a, mat_b)"
      ]
    },
    {
      "cell_type": "markdown",
      "metadata": {
        "id": "_ra5WDYERX1e"
      },
      "source": [
        "**My own example 13 - Defining Fortran subroutine matmul(A,B) for 600x100 and 100x600 matrices**"
      ]
    },
    {
      "cell_type": "code",
      "execution_count": null,
      "metadata": {
        "id": "4mDURPVKkBDD"
      },
      "outputs": [],
      "source": [
        "%%fortran\n",
        "subroutine fortran_matmul(xs, ys, result)\n",
        "  double precision, intent(in) :: xs(:, :)\n",
        "  double precision, intent(in) :: ys(:, :)\n",
        "  double precision, dimension(size(xs, 1), size(ys, 2)), intent(out) :: result\n",
        "\n",
        "  if (size(xs, 2) == size(ys, 1)) then\n",
        "    do row = 1, size(xs, 1)\n",
        "      do col = 1, size(ys, 2)\n",
        "        do colxs = 1, size(xs, 2)\n",
        "          result(row, col) = result(row, col) + xs(row, colxs) * ys(colxs, col)\n",
        "        end do\n",
        "      end do\n",
        "    end do\n",
        "  end if\n",
        " \n",
        "end"
      ]
    },
    {
      "cell_type": "markdown",
      "metadata": {
        "id": "cf5NwQZQRjx-"
      },
      "source": [
        "**My own example 14 -Run Fortran subroutine matmul(A,B) with 600x100 and 100x600 matrices**"
      ]
    },
    {
      "cell_type": "code",
      "execution_count": null,
      "metadata": {
        "id": "S7xtJkrb6yuQ",
        "colab": {
          "base_uri": "https://localhost:8080/"
        },
        "outputId": "c36a87d3-854f-4a8e-e4af-fecc20e07a05"
      },
      "outputs": [
        {
          "output_type": "execute_result",
          "data": {
            "text/plain": [
              "array([[27.87675099, 28.29261778, 31.52218249, ..., 28.57230091,\n",
              "        27.12471253, 27.7313258 ],\n",
              "       [26.48266   , 26.30755952, 28.8215647 , ..., 27.8271906 ,\n",
              "        26.3433148 , 26.98768025],\n",
              "       [29.66241881, 28.92876926, 30.89887968, ..., 30.07623714,\n",
              "        28.33633072, 30.08898082],\n",
              "       ...,\n",
              "       [26.42583615, 27.46735409, 30.40384343, ..., 27.57216549,\n",
              "        26.85191918, 26.60892299],\n",
              "       [26.06456888, 25.02445329, 26.54633464, ..., 24.22612189,\n",
              "        26.42461801, 26.17637213],\n",
              "       [28.69538795, 27.15800696, 30.25971242, ..., 27.82305501,\n",
              "        25.69647052, 25.9446644 ]])"
            ]
          },
          "metadata": {},
          "execution_count": 47
        }
      ],
      "source": [
        "rand_a = random_matrix(600, 100)\n",
        "rand_b = random_matrix(100, 600)\n",
        "fortran_matmul(rand_a, rand_b)"
      ]
    },
    {
      "cell_type": "markdown",
      "metadata": {
        "id": "5yjoH7W_R0E3"
      },
      "source": [
        "**My own example 15 - Running 10 times the  Fortran subroutine matmul(A,B) with 600x100 and 100x600 matrices and adding Fortran magic average execution time to the data frame**"
      ]
    },
    {
      "cell_type": "code",
      "execution_count": null,
      "metadata": {
        "id": "2-A0QOte603A",
        "colab": {
          "base_uri": "https://localhost:8080/",
          "height": 143
        },
        "outputId": "9daf7930-5270-4e66-8fdf-07173574671c"
      },
      "outputs": [
        {
          "output_type": "execute_result",
          "data": {
            "text/plain": [
              "         Nombre   Average\n",
              "0        Python  9.342546\n",
              "1         NumPy  0.019979\n",
              "2  Fortranmagic  0.090955"
            ],
            "text/html": [
              "\n",
              "  <div id=\"df-2ee96d4b-b131-45f0-acbc-08375ab3f32d\">\n",
              "    <div class=\"colab-df-container\">\n",
              "      <div>\n",
              "<style scoped>\n",
              "    .dataframe tbody tr th:only-of-type {\n",
              "        vertical-align: middle;\n",
              "    }\n",
              "\n",
              "    .dataframe tbody tr th {\n",
              "        vertical-align: top;\n",
              "    }\n",
              "\n",
              "    .dataframe thead th {\n",
              "        text-align: right;\n",
              "    }\n",
              "</style>\n",
              "<table border=\"1\" class=\"dataframe\">\n",
              "  <thead>\n",
              "    <tr style=\"text-align: right;\">\n",
              "      <th></th>\n",
              "      <th>Nombre</th>\n",
              "      <th>Average</th>\n",
              "    </tr>\n",
              "  </thead>\n",
              "  <tbody>\n",
              "    <tr>\n",
              "      <th>0</th>\n",
              "      <td>Python</td>\n",
              "      <td>9.342546</td>\n",
              "    </tr>\n",
              "    <tr>\n",
              "      <th>1</th>\n",
              "      <td>NumPy</td>\n",
              "      <td>0.019979</td>\n",
              "    </tr>\n",
              "    <tr>\n",
              "      <th>2</th>\n",
              "      <td>Fortranmagic</td>\n",
              "      <td>0.090955</td>\n",
              "    </tr>\n",
              "  </tbody>\n",
              "</table>\n",
              "</div>\n",
              "      <button class=\"colab-df-convert\" onclick=\"convertToInteractive('df-2ee96d4b-b131-45f0-acbc-08375ab3f32d')\"\n",
              "              title=\"Convert this dataframe to an interactive table.\"\n",
              "              style=\"display:none;\">\n",
              "        \n",
              "  <svg xmlns=\"http://www.w3.org/2000/svg\" height=\"24px\"viewBox=\"0 0 24 24\"\n",
              "       width=\"24px\">\n",
              "    <path d=\"M0 0h24v24H0V0z\" fill=\"none\"/>\n",
              "    <path d=\"M18.56 5.44l.94 2.06.94-2.06 2.06-.94-2.06-.94-.94-2.06-.94 2.06-2.06.94zm-11 1L8.5 8.5l.94-2.06 2.06-.94-2.06-.94L8.5 2.5l-.94 2.06-2.06.94zm10 10l.94 2.06.94-2.06 2.06-.94-2.06-.94-.94-2.06-.94 2.06-2.06.94z\"/><path d=\"M17.41 7.96l-1.37-1.37c-.4-.4-.92-.59-1.43-.59-.52 0-1.04.2-1.43.59L10.3 9.45l-7.72 7.72c-.78.78-.78 2.05 0 2.83L4 21.41c.39.39.9.59 1.41.59.51 0 1.02-.2 1.41-.59l7.78-7.78 2.81-2.81c.8-.78.8-2.07 0-2.86zM5.41 20L4 18.59l7.72-7.72 1.47 1.35L5.41 20z\"/>\n",
              "  </svg>\n",
              "      </button>\n",
              "      \n",
              "  <style>\n",
              "    .colab-df-container {\n",
              "      display:flex;\n",
              "      flex-wrap:wrap;\n",
              "      gap: 12px;\n",
              "    }\n",
              "\n",
              "    .colab-df-convert {\n",
              "      background-color: #E8F0FE;\n",
              "      border: none;\n",
              "      border-radius: 50%;\n",
              "      cursor: pointer;\n",
              "      display: none;\n",
              "      fill: #1967D2;\n",
              "      height: 32px;\n",
              "      padding: 0 0 0 0;\n",
              "      width: 32px;\n",
              "    }\n",
              "\n",
              "    .colab-df-convert:hover {\n",
              "      background-color: #E2EBFA;\n",
              "      box-shadow: 0px 1px 2px rgba(60, 64, 67, 0.3), 0px 1px 3px 1px rgba(60, 64, 67, 0.15);\n",
              "      fill: #174EA6;\n",
              "    }\n",
              "\n",
              "    [theme=dark] .colab-df-convert {\n",
              "      background-color: #3B4455;\n",
              "      fill: #D2E3FC;\n",
              "    }\n",
              "\n",
              "    [theme=dark] .colab-df-convert:hover {\n",
              "      background-color: #434B5C;\n",
              "      box-shadow: 0px 1px 3px 1px rgba(0, 0, 0, 0.15);\n",
              "      filter: drop-shadow(0px 1px 2px rgba(0, 0, 0, 0.3));\n",
              "      fill: #FFFFFF;\n",
              "    }\n",
              "  </style>\n",
              "\n",
              "      <script>\n",
              "        const buttonEl =\n",
              "          document.querySelector('#df-2ee96d4b-b131-45f0-acbc-08375ab3f32d button.colab-df-convert');\n",
              "        buttonEl.style.display =\n",
              "          google.colab.kernel.accessAllowed ? 'block' : 'none';\n",
              "\n",
              "        async function convertToInteractive(key) {\n",
              "          const element = document.querySelector('#df-2ee96d4b-b131-45f0-acbc-08375ab3f32d');\n",
              "          const dataTable =\n",
              "            await google.colab.kernel.invokeFunction('convertToInteractive',\n",
              "                                                     [key], {});\n",
              "          if (!dataTable) return;\n",
              "\n",
              "          const docLinkHtml = 'Like what you see? Visit the ' +\n",
              "            '<a target=\"_blank\" href=https://colab.research.google.com/notebooks/data_table.ipynb>data table notebook</a>'\n",
              "            + ' to learn more about interactive tables.';\n",
              "          element.innerHTML = '';\n",
              "          dataTable['output_type'] = 'display_data';\n",
              "          await google.colab.output.renderOutput(dataTable, element);\n",
              "          const docLink = document.createElement('div');\n",
              "          docLink.innerHTML = docLinkHtml;\n",
              "          element.appendChild(docLink);\n",
              "        }\n",
              "      </script>\n",
              "    </div>\n",
              "  </div>\n",
              "  "
            ]
          },
          "metadata": {},
          "execution_count": 48
        }
      ],
      "source": [
        "st = time.time()\n",
        "for i in range(10):\n",
        " fortran_matmul(randa, randb)\n",
        "et = time.time()\n",
        "\n",
        "elapsed_time_Ft = (et - st)/10\n",
        "df3 = pd.DataFrame({'Nombre':['Fortranmagic'],'Average': [elapsed_time_Ft]})\n",
        "df = df.append(df3, ignore_index = True)\n",
        "df"
      ]
    },
    {
      "cell_type": "markdown",
      "metadata": {
        "id": "w5hURiGOShpG"
      },
      "source": [
        "**My own example 16 - Creating a  Fortran program that mutiplies 10 times A(600x100) and  B (100x600) matrices**"
      ]
    },
    {
      "cell_type": "code",
      "execution_count": null,
      "metadata": {
        "id": "xCkI1njo62Hv"
      },
      "outputs": [],
      "source": [
        "%%fortran\n",
        "subroutine fortran_ten_matmul(xs, ys, result)\n",
        "  double precision, intent(in) :: xs(:, :)\n",
        "  double precision, intent(in) :: ys(:, :)\n",
        "  double precision, dimension(size(xs, 1), size(ys, 2)), intent(out) :: result\n",
        "\n",
        "  if (size(xs, 2) == size(ys, 1)) then\n",
        "    do i = 1, 10\n",
        "      do row = 1, size(xs, 1)\n",
        "        do col = 1, size(ys, 2)\n",
        "          do colxs = 1, size(xs, 2)\n",
        "            result(row, col) = result(row, col) + xs(row, colxs) * ys(colxs, col)\n",
        "          end do\n",
        "        end do\n",
        "      end do\n",
        "    end do\n",
        "  end if\n",
        " \n",
        "end"
      ]
    },
    {
      "cell_type": "markdown",
      "metadata": {
        "id": "LJOrD7hyYmTJ"
      },
      "source": [
        "**My own example 17 - Running the Fortran program that mutiplies 10 times A(600x100) and  B (100x600) matrices**"
      ]
    },
    {
      "cell_type": "code",
      "execution_count": null,
      "metadata": {
        "id": "hmBeCMGV63z6",
        "colab": {
          "base_uri": "https://localhost:8080/"
        },
        "outputId": "bf970d01-ef4b-447d-ff70-3b4d7a8028ed"
      },
      "outputs": [
        {
          "output_type": "execute_result",
          "data": {
            "text/plain": [
              "array([[27.87675099, 28.29261778, 31.52218249, ..., 28.57230091,\n",
              "        27.12471253, 27.7313258 ],\n",
              "       [26.48266   , 26.30755952, 28.8215647 , ..., 27.8271906 ,\n",
              "        26.3433148 , 26.98768025],\n",
              "       [29.66241881, 28.92876926, 30.89887968, ..., 30.07623714,\n",
              "        28.33633072, 30.08898082],\n",
              "       ...,\n",
              "       [26.42583615, 27.46735409, 30.40384343, ..., 27.57216549,\n",
              "        26.85191918, 26.60892299],\n",
              "       [26.06456888, 25.02445329, 26.54633464, ..., 24.22612189,\n",
              "        26.42461801, 26.17637213],\n",
              "       [28.69538795, 27.15800696, 30.25971242, ..., 27.82305501,\n",
              "        25.69647052, 25.9446644 ]])"
            ]
          },
          "metadata": {},
          "execution_count": 50
        }
      ],
      "source": [
        "fortran_matmul(rand_a, rand_b)"
      ]
    },
    {
      "cell_type": "markdown",
      "metadata": {
        "id": "21wSmo50YfIo"
      },
      "source": [
        "**My own example 18 - Adding Fortran average execution time to the data frame**"
      ]
    },
    {
      "cell_type": "code",
      "execution_count": null,
      "metadata": {
        "id": "UDMgoacS642X",
        "colab": {
          "base_uri": "https://localhost:8080/",
          "height": 175
        },
        "outputId": "401d481b-8cd7-48c8-974e-ed3ab8abc2be"
      },
      "outputs": [
        {
          "output_type": "execute_result",
          "data": {
            "text/plain": [
              "         Nombre   Average\n",
              "0        Python  9.342546\n",
              "1         NumPy  0.019979\n",
              "2  Fortranmagic  0.090955\n",
              "3       Fortran  0.084299"
            ],
            "text/html": [
              "\n",
              "  <div id=\"df-59d8455d-98f7-41d1-81a5-8c0f9e6c03b3\">\n",
              "    <div class=\"colab-df-container\">\n",
              "      <div>\n",
              "<style scoped>\n",
              "    .dataframe tbody tr th:only-of-type {\n",
              "        vertical-align: middle;\n",
              "    }\n",
              "\n",
              "    .dataframe tbody tr th {\n",
              "        vertical-align: top;\n",
              "    }\n",
              "\n",
              "    .dataframe thead th {\n",
              "        text-align: right;\n",
              "    }\n",
              "</style>\n",
              "<table border=\"1\" class=\"dataframe\">\n",
              "  <thead>\n",
              "    <tr style=\"text-align: right;\">\n",
              "      <th></th>\n",
              "      <th>Nombre</th>\n",
              "      <th>Average</th>\n",
              "    </tr>\n",
              "  </thead>\n",
              "  <tbody>\n",
              "    <tr>\n",
              "      <th>0</th>\n",
              "      <td>Python</td>\n",
              "      <td>9.342546</td>\n",
              "    </tr>\n",
              "    <tr>\n",
              "      <th>1</th>\n",
              "      <td>NumPy</td>\n",
              "      <td>0.019979</td>\n",
              "    </tr>\n",
              "    <tr>\n",
              "      <th>2</th>\n",
              "      <td>Fortranmagic</td>\n",
              "      <td>0.090955</td>\n",
              "    </tr>\n",
              "    <tr>\n",
              "      <th>3</th>\n",
              "      <td>Fortran</td>\n",
              "      <td>0.084299</td>\n",
              "    </tr>\n",
              "  </tbody>\n",
              "</table>\n",
              "</div>\n",
              "      <button class=\"colab-df-convert\" onclick=\"convertToInteractive('df-59d8455d-98f7-41d1-81a5-8c0f9e6c03b3')\"\n",
              "              title=\"Convert this dataframe to an interactive table.\"\n",
              "              style=\"display:none;\">\n",
              "        \n",
              "  <svg xmlns=\"http://www.w3.org/2000/svg\" height=\"24px\"viewBox=\"0 0 24 24\"\n",
              "       width=\"24px\">\n",
              "    <path d=\"M0 0h24v24H0V0z\" fill=\"none\"/>\n",
              "    <path d=\"M18.56 5.44l.94 2.06.94-2.06 2.06-.94-2.06-.94-.94-2.06-.94 2.06-2.06.94zm-11 1L8.5 8.5l.94-2.06 2.06-.94-2.06-.94L8.5 2.5l-.94 2.06-2.06.94zm10 10l.94 2.06.94-2.06 2.06-.94-2.06-.94-.94-2.06-.94 2.06-2.06.94z\"/><path d=\"M17.41 7.96l-1.37-1.37c-.4-.4-.92-.59-1.43-.59-.52 0-1.04.2-1.43.59L10.3 9.45l-7.72 7.72c-.78.78-.78 2.05 0 2.83L4 21.41c.39.39.9.59 1.41.59.51 0 1.02-.2 1.41-.59l7.78-7.78 2.81-2.81c.8-.78.8-2.07 0-2.86zM5.41 20L4 18.59l7.72-7.72 1.47 1.35L5.41 20z\"/>\n",
              "  </svg>\n",
              "      </button>\n",
              "      \n",
              "  <style>\n",
              "    .colab-df-container {\n",
              "      display:flex;\n",
              "      flex-wrap:wrap;\n",
              "      gap: 12px;\n",
              "    }\n",
              "\n",
              "    .colab-df-convert {\n",
              "      background-color: #E8F0FE;\n",
              "      border: none;\n",
              "      border-radius: 50%;\n",
              "      cursor: pointer;\n",
              "      display: none;\n",
              "      fill: #1967D2;\n",
              "      height: 32px;\n",
              "      padding: 0 0 0 0;\n",
              "      width: 32px;\n",
              "    }\n",
              "\n",
              "    .colab-df-convert:hover {\n",
              "      background-color: #E2EBFA;\n",
              "      box-shadow: 0px 1px 2px rgba(60, 64, 67, 0.3), 0px 1px 3px 1px rgba(60, 64, 67, 0.15);\n",
              "      fill: #174EA6;\n",
              "    }\n",
              "\n",
              "    [theme=dark] .colab-df-convert {\n",
              "      background-color: #3B4455;\n",
              "      fill: #D2E3FC;\n",
              "    }\n",
              "\n",
              "    [theme=dark] .colab-df-convert:hover {\n",
              "      background-color: #434B5C;\n",
              "      box-shadow: 0px 1px 3px 1px rgba(0, 0, 0, 0.15);\n",
              "      filter: drop-shadow(0px 1px 2px rgba(0, 0, 0, 0.3));\n",
              "      fill: #FFFFFF;\n",
              "    }\n",
              "  </style>\n",
              "\n",
              "      <script>\n",
              "        const buttonEl =\n",
              "          document.querySelector('#df-59d8455d-98f7-41d1-81a5-8c0f9e6c03b3 button.colab-df-convert');\n",
              "        buttonEl.style.display =\n",
              "          google.colab.kernel.accessAllowed ? 'block' : 'none';\n",
              "\n",
              "        async function convertToInteractive(key) {\n",
              "          const element = document.querySelector('#df-59d8455d-98f7-41d1-81a5-8c0f9e6c03b3');\n",
              "          const dataTable =\n",
              "            await google.colab.kernel.invokeFunction('convertToInteractive',\n",
              "                                                     [key], {});\n",
              "          if (!dataTable) return;\n",
              "\n",
              "          const docLinkHtml = 'Like what you see? Visit the ' +\n",
              "            '<a target=\"_blank\" href=https://colab.research.google.com/notebooks/data_table.ipynb>data table notebook</a>'\n",
              "            + ' to learn more about interactive tables.';\n",
              "          element.innerHTML = '';\n",
              "          dataTable['output_type'] = 'display_data';\n",
              "          await google.colab.output.renderOutput(dataTable, element);\n",
              "          const docLink = document.createElement('div');\n",
              "          docLink.innerHTML = docLinkHtml;\n",
              "          element.appendChild(docLink);\n",
              "        }\n",
              "      </script>\n",
              "    </div>\n",
              "  </div>\n",
              "  "
            ]
          },
          "metadata": {},
          "execution_count": 51
        }
      ],
      "source": [
        "st = time.time()\n",
        "fortran_ten_matmul(rand_a, rand_b)\n",
        "et = time.time()\n",
        "\n",
        "elapsed_time_Ftr = (et - st)/10\n",
        "df4 = pd.DataFrame({'Nombre':['Fortran'],'Average': [elapsed_time_Ftr]})\n",
        "df = df.append(df4, ignore_index = True)\n",
        "df"
      ]
    },
    {
      "cell_type": "markdown",
      "metadata": {
        "id": "8G8ZZ2hfZXYA"
      },
      "source": [
        "**My own example 19 - Creating a c program that mutiplies 10 times A(600x100) and  B (100x600) matrices**"
      ]
    },
    {
      "cell_type": "code",
      "execution_count": null,
      "metadata": {
        "id": "BknrT-KK65wP",
        "colab": {
          "base_uri": "https://localhost:8080/"
        },
        "outputId": "ebe57399-8ba9-4d22-dcf1-902b38ca3205"
      },
      "outputs": [
        {
          "output_type": "stream",
          "name": "stdout",
          "text": [
            "Writing tmpc.c\n"
          ]
        }
      ],
      "source": [
        "%%writefile tmpc.c       \n",
        "#include <stdio.h>\n",
        "#include <stdlib.h>\n",
        "#include <time.h>\n",
        "\n",
        "#define R1 600           // number of rows in Matrix-1\n",
        "#define C1 100            // number of columns in Matrix-1\n",
        "#define R2 100           // number of rows in Matrix-2\n",
        "#define C2 600\n",
        "\n",
        "void main() {\n",
        "srand(time(NULL));\n",
        "int mat1[R1][C1];\n",
        "int mat2[R2][C2];\n",
        "\n",
        "for (int i = 0; i< R1; i++){\n",
        "  for(int j = 0; j< C1; j++){\n",
        "    int n = rand() % 10;\n",
        "    mat1[i][j]=n;\n",
        "        \n",
        "  }\n",
        "\n",
        "}     \n",
        "\n",
        "  for (int i = 0; i< R2; i++){\n",
        "  for(int j = 0; j< C2; j++){\n",
        "    int p = rand() % 10;\n",
        "    mat2[i][j]=p;\n",
        "          \n",
        "  }\n",
        "      \n",
        "}     \n",
        "      \n",
        "\n",
        "int rslt[R1][C2];\n",
        "    \n",
        "  for (int i = 0 ; i < R1 ; i++ ){\n",
        "    for (int k = 0 ; k < C2 ; k++ ) {\n",
        "        rslt[i][k] = 0;\n",
        "        for (int j = 0 ; j < R2 ; j++ ) {                          \n",
        "          rslt[i][k] += mat1[i][j] * mat2[j][k];\n",
        "        }\n",
        "        }\n",
        "}\n",
        "}\n"
      ]
    },
    {
      "cell_type": "markdown",
      "metadata": {
        "id": "i-oPlTweZndB"
      },
      "source": [
        "**My own example 20 - Running the c program that mutiplies 10 times A(600x100) and  B (100x600) matrices**"
      ]
    },
    {
      "cell_type": "code",
      "execution_count": null,
      "metadata": {
        "id": "CKFgaMTa67Ri",
        "colab": {
          "base_uri": "https://localhost:8080/"
        },
        "outputId": "f0bf9ec4-1ff3-49df-99e7-7e35533fe58a"
      },
      "outputs": [
        {
          "output_type": "stream",
          "name": "stdout",
          "text": [
            "Execution time: 0.21860013008117676 seconds\n"
          ]
        }
      ],
      "source": [
        "!gcc tmpc.c -o tmpc\n",
        "st = time.time()\n",
        "for i in range(10):\n",
        " !./tmpc\n",
        "et = time.time()\n",
        "elapsed_time_c = (et - st)/10\n",
        "print('Execution time:', elapsed_time_c, 'seconds')"
      ]
    },
    {
      "cell_type": "markdown",
      "metadata": {
        "id": "U9Wf-9DPZ3R4"
      },
      "source": [
        "**My own example 21 - Adding c average execution time to the data frame**"
      ]
    },
    {
      "cell_type": "code",
      "execution_count": null,
      "metadata": {
        "id": "EfsTc5wN695I",
        "colab": {
          "base_uri": "https://localhost:8080/",
          "height": 206
        },
        "outputId": "3bf4d116-7856-494a-9a03-4fff6583a4e5"
      },
      "outputs": [
        {
          "output_type": "execute_result",
          "data": {
            "text/plain": [
              "         Nombre   Average\n",
              "0        Python  9.342546\n",
              "1         NumPy  0.019979\n",
              "2  Fortranmagic  0.090955\n",
              "3       Fortran  0.084299\n",
              "4             C  0.218600"
            ],
            "text/html": [
              "\n",
              "  <div id=\"df-7b1b3977-e9ac-4a6c-b9d6-3bc3f48d6370\">\n",
              "    <div class=\"colab-df-container\">\n",
              "      <div>\n",
              "<style scoped>\n",
              "    .dataframe tbody tr th:only-of-type {\n",
              "        vertical-align: middle;\n",
              "    }\n",
              "\n",
              "    .dataframe tbody tr th {\n",
              "        vertical-align: top;\n",
              "    }\n",
              "\n",
              "    .dataframe thead th {\n",
              "        text-align: right;\n",
              "    }\n",
              "</style>\n",
              "<table border=\"1\" class=\"dataframe\">\n",
              "  <thead>\n",
              "    <tr style=\"text-align: right;\">\n",
              "      <th></th>\n",
              "      <th>Nombre</th>\n",
              "      <th>Average</th>\n",
              "    </tr>\n",
              "  </thead>\n",
              "  <tbody>\n",
              "    <tr>\n",
              "      <th>0</th>\n",
              "      <td>Python</td>\n",
              "      <td>9.342546</td>\n",
              "    </tr>\n",
              "    <tr>\n",
              "      <th>1</th>\n",
              "      <td>NumPy</td>\n",
              "      <td>0.019979</td>\n",
              "    </tr>\n",
              "    <tr>\n",
              "      <th>2</th>\n",
              "      <td>Fortranmagic</td>\n",
              "      <td>0.090955</td>\n",
              "    </tr>\n",
              "    <tr>\n",
              "      <th>3</th>\n",
              "      <td>Fortran</td>\n",
              "      <td>0.084299</td>\n",
              "    </tr>\n",
              "    <tr>\n",
              "      <th>4</th>\n",
              "      <td>C</td>\n",
              "      <td>0.218600</td>\n",
              "    </tr>\n",
              "  </tbody>\n",
              "</table>\n",
              "</div>\n",
              "      <button class=\"colab-df-convert\" onclick=\"convertToInteractive('df-7b1b3977-e9ac-4a6c-b9d6-3bc3f48d6370')\"\n",
              "              title=\"Convert this dataframe to an interactive table.\"\n",
              "              style=\"display:none;\">\n",
              "        \n",
              "  <svg xmlns=\"http://www.w3.org/2000/svg\" height=\"24px\"viewBox=\"0 0 24 24\"\n",
              "       width=\"24px\">\n",
              "    <path d=\"M0 0h24v24H0V0z\" fill=\"none\"/>\n",
              "    <path d=\"M18.56 5.44l.94 2.06.94-2.06 2.06-.94-2.06-.94-.94-2.06-.94 2.06-2.06.94zm-11 1L8.5 8.5l.94-2.06 2.06-.94-2.06-.94L8.5 2.5l-.94 2.06-2.06.94zm10 10l.94 2.06.94-2.06 2.06-.94-2.06-.94-.94-2.06-.94 2.06-2.06.94z\"/><path d=\"M17.41 7.96l-1.37-1.37c-.4-.4-.92-.59-1.43-.59-.52 0-1.04.2-1.43.59L10.3 9.45l-7.72 7.72c-.78.78-.78 2.05 0 2.83L4 21.41c.39.39.9.59 1.41.59.51 0 1.02-.2 1.41-.59l7.78-7.78 2.81-2.81c.8-.78.8-2.07 0-2.86zM5.41 20L4 18.59l7.72-7.72 1.47 1.35L5.41 20z\"/>\n",
              "  </svg>\n",
              "      </button>\n",
              "      \n",
              "  <style>\n",
              "    .colab-df-container {\n",
              "      display:flex;\n",
              "      flex-wrap:wrap;\n",
              "      gap: 12px;\n",
              "    }\n",
              "\n",
              "    .colab-df-convert {\n",
              "      background-color: #E8F0FE;\n",
              "      border: none;\n",
              "      border-radius: 50%;\n",
              "      cursor: pointer;\n",
              "      display: none;\n",
              "      fill: #1967D2;\n",
              "      height: 32px;\n",
              "      padding: 0 0 0 0;\n",
              "      width: 32px;\n",
              "    }\n",
              "\n",
              "    .colab-df-convert:hover {\n",
              "      background-color: #E2EBFA;\n",
              "      box-shadow: 0px 1px 2px rgba(60, 64, 67, 0.3), 0px 1px 3px 1px rgba(60, 64, 67, 0.15);\n",
              "      fill: #174EA6;\n",
              "    }\n",
              "\n",
              "    [theme=dark] .colab-df-convert {\n",
              "      background-color: #3B4455;\n",
              "      fill: #D2E3FC;\n",
              "    }\n",
              "\n",
              "    [theme=dark] .colab-df-convert:hover {\n",
              "      background-color: #434B5C;\n",
              "      box-shadow: 0px 1px 3px 1px rgba(0, 0, 0, 0.15);\n",
              "      filter: drop-shadow(0px 1px 2px rgba(0, 0, 0, 0.3));\n",
              "      fill: #FFFFFF;\n",
              "    }\n",
              "  </style>\n",
              "\n",
              "      <script>\n",
              "        const buttonEl =\n",
              "          document.querySelector('#df-7b1b3977-e9ac-4a6c-b9d6-3bc3f48d6370 button.colab-df-convert');\n",
              "        buttonEl.style.display =\n",
              "          google.colab.kernel.accessAllowed ? 'block' : 'none';\n",
              "\n",
              "        async function convertToInteractive(key) {\n",
              "          const element = document.querySelector('#df-7b1b3977-e9ac-4a6c-b9d6-3bc3f48d6370');\n",
              "          const dataTable =\n",
              "            await google.colab.kernel.invokeFunction('convertToInteractive',\n",
              "                                                     [key], {});\n",
              "          if (!dataTable) return;\n",
              "\n",
              "          const docLinkHtml = 'Like what you see? Visit the ' +\n",
              "            '<a target=\"_blank\" href=https://colab.research.google.com/notebooks/data_table.ipynb>data table notebook</a>'\n",
              "            + ' to learn more about interactive tables.';\n",
              "          element.innerHTML = '';\n",
              "          dataTable['output_type'] = 'display_data';\n",
              "          await google.colab.output.renderOutput(dataTable, element);\n",
              "          const docLink = document.createElement('div');\n",
              "          docLink.innerHTML = docLinkHtml;\n",
              "          element.appendChild(docLink);\n",
              "        }\n",
              "      </script>\n",
              "    </div>\n",
              "  </div>\n",
              "  "
            ]
          },
          "metadata": {},
          "execution_count": 54
        }
      ],
      "source": [
        "df5 = pd.DataFrame({'Nombre':['C'],'Average': [elapsed_time_c]})\n",
        "df = df.append(df5, ignore_index = True)\n",
        "df"
      ]
    },
    {
      "cell_type": "markdown",
      "metadata": {
        "id": "XkgHEUB2aFI1"
      },
      "source": [
        "**My own example 22 - Creating a C++ program that mutiplies 10 times A(600x100) and  B (100x600) matrices**"
      ]
    },
    {
      "cell_type": "code",
      "execution_count": null,
      "metadata": {
        "id": "U1CoUYEw6-9P",
        "colab": {
          "base_uri": "https://localhost:8080/"
        },
        "outputId": "b40c89c5-6d22-4340-f17d-700d2d4eaa1a"
      },
      "outputs": [
        {
          "output_type": "stream",
          "name": "stdout",
          "text": [
            "Writing tmpcc.cc\n"
          ]
        }
      ],
      "source": [
        "%%writefile tmpcc.cc      \n",
        "#include <stdio.h>\n",
        "#include <stdlib.h>\n",
        "#include <time.h>\n",
        "\n",
        "#define R1 600           // number of rows in Matrix-1\n",
        "#define C1 100            // number of columns in Matrix-1\n",
        "#define R2 100           // number of rows in Matrix-2\n",
        "#define C2 600\n",
        "\n",
        "int main() {\n",
        "srand(time(NULL));\n",
        "int mat1[R1][C1];\n",
        "int mat2[R2][C2];\n",
        "\n",
        "for (int i = 0; i< R1; i++){\n",
        "  for(int j = 0; j< C1; j++){\n",
        "    int n = rand() % 10;\n",
        "    mat1[i][j]=n;   \n",
        "  }\n",
        "}     \n",
        "\n",
        "  for (int i = 0; i< R2; i++){\n",
        "  for(int j = 0; j< C2; j++){\n",
        "    int p = rand() % 10;\n",
        "    mat2[i][j]=p;      \n",
        "  }    \n",
        "}     \n",
        "      \n",
        "int rslt[R1][C2];  \n",
        "  for (int i = 0 ; i < R1 ; i++ ){\n",
        "    for (int k = 0 ; k < C2 ; k++ ) {\n",
        "        rslt[i][k] = 0;\n",
        "        for (int j = 0 ; j < R2 ; j++ ) {                          \n",
        "          rslt[i][k] += mat1[i][j] * mat2[j][k];\n",
        "        }\n",
        "        }\n",
        "}\n",
        "}\n"
      ]
    },
    {
      "cell_type": "markdown",
      "metadata": {
        "id": "WFpb2F81aKJA"
      },
      "source": [
        "**My own example 23 - Running the C++ program that mutiplies 10 times A(600x100) and  B (100x600) matrices**"
      ]
    },
    {
      "cell_type": "code",
      "execution_count": null,
      "metadata": {
        "id": "Q33PLFeG6_0r",
        "colab": {
          "base_uri": "https://localhost:8080/"
        },
        "outputId": "63b9ad87-15a9-475a-a626-a37b557f5f65"
      },
      "outputs": [
        {
          "output_type": "stream",
          "name": "stdout",
          "text": [
            "Execution time: 0.2180560350418091 seconds\n"
          ]
        }
      ],
      "source": [
        "!g++ tmpcc.cc -o tmpcc\n",
        "st = time.time()\n",
        "for i in range(10):\n",
        " !./tmpcc\n",
        "et = time.time()\n",
        "elapsed_time_cc = (et - st)/10\n",
        "print('Execution time:', elapsed_time_cc, 'seconds')"
      ]
    },
    {
      "cell_type": "markdown",
      "metadata": {
        "id": "GSEE2zDjaPmg"
      },
      "source": [
        "**My own example 24 - Adding C++ average execution time to the data frame**"
      ]
    },
    {
      "cell_type": "code",
      "execution_count": null,
      "metadata": {
        "id": "YL_YL8Qm7B0w",
        "colab": {
          "base_uri": "https://localhost:8080/",
          "height": 238
        },
        "outputId": "766eca88-5b42-4ec6-a7a8-0b0bd9e8990a"
      },
      "outputs": [
        {
          "output_type": "execute_result",
          "data": {
            "text/plain": [
              "         Nombre   Average\n",
              "0        Python  9.342546\n",
              "1         NumPy  0.019979\n",
              "2  Fortranmagic  0.090955\n",
              "3       Fortran  0.084299\n",
              "4             C  0.218600\n",
              "5           C++  0.218056"
            ],
            "text/html": [
              "\n",
              "  <div id=\"df-a05caf37-2f01-4e0c-be33-0c8c081d3052\">\n",
              "    <div class=\"colab-df-container\">\n",
              "      <div>\n",
              "<style scoped>\n",
              "    .dataframe tbody tr th:only-of-type {\n",
              "        vertical-align: middle;\n",
              "    }\n",
              "\n",
              "    .dataframe tbody tr th {\n",
              "        vertical-align: top;\n",
              "    }\n",
              "\n",
              "    .dataframe thead th {\n",
              "        text-align: right;\n",
              "    }\n",
              "</style>\n",
              "<table border=\"1\" class=\"dataframe\">\n",
              "  <thead>\n",
              "    <tr style=\"text-align: right;\">\n",
              "      <th></th>\n",
              "      <th>Nombre</th>\n",
              "      <th>Average</th>\n",
              "    </tr>\n",
              "  </thead>\n",
              "  <tbody>\n",
              "    <tr>\n",
              "      <th>0</th>\n",
              "      <td>Python</td>\n",
              "      <td>9.342546</td>\n",
              "    </tr>\n",
              "    <tr>\n",
              "      <th>1</th>\n",
              "      <td>NumPy</td>\n",
              "      <td>0.019979</td>\n",
              "    </tr>\n",
              "    <tr>\n",
              "      <th>2</th>\n",
              "      <td>Fortranmagic</td>\n",
              "      <td>0.090955</td>\n",
              "    </tr>\n",
              "    <tr>\n",
              "      <th>3</th>\n",
              "      <td>Fortran</td>\n",
              "      <td>0.084299</td>\n",
              "    </tr>\n",
              "    <tr>\n",
              "      <th>4</th>\n",
              "      <td>C</td>\n",
              "      <td>0.218600</td>\n",
              "    </tr>\n",
              "    <tr>\n",
              "      <th>5</th>\n",
              "      <td>C++</td>\n",
              "      <td>0.218056</td>\n",
              "    </tr>\n",
              "  </tbody>\n",
              "</table>\n",
              "</div>\n",
              "      <button class=\"colab-df-convert\" onclick=\"convertToInteractive('df-a05caf37-2f01-4e0c-be33-0c8c081d3052')\"\n",
              "              title=\"Convert this dataframe to an interactive table.\"\n",
              "              style=\"display:none;\">\n",
              "        \n",
              "  <svg xmlns=\"http://www.w3.org/2000/svg\" height=\"24px\"viewBox=\"0 0 24 24\"\n",
              "       width=\"24px\">\n",
              "    <path d=\"M0 0h24v24H0V0z\" fill=\"none\"/>\n",
              "    <path d=\"M18.56 5.44l.94 2.06.94-2.06 2.06-.94-2.06-.94-.94-2.06-.94 2.06-2.06.94zm-11 1L8.5 8.5l.94-2.06 2.06-.94-2.06-.94L8.5 2.5l-.94 2.06-2.06.94zm10 10l.94 2.06.94-2.06 2.06-.94-2.06-.94-.94-2.06-.94 2.06-2.06.94z\"/><path d=\"M17.41 7.96l-1.37-1.37c-.4-.4-.92-.59-1.43-.59-.52 0-1.04.2-1.43.59L10.3 9.45l-7.72 7.72c-.78.78-.78 2.05 0 2.83L4 21.41c.39.39.9.59 1.41.59.51 0 1.02-.2 1.41-.59l7.78-7.78 2.81-2.81c.8-.78.8-2.07 0-2.86zM5.41 20L4 18.59l7.72-7.72 1.47 1.35L5.41 20z\"/>\n",
              "  </svg>\n",
              "      </button>\n",
              "      \n",
              "  <style>\n",
              "    .colab-df-container {\n",
              "      display:flex;\n",
              "      flex-wrap:wrap;\n",
              "      gap: 12px;\n",
              "    }\n",
              "\n",
              "    .colab-df-convert {\n",
              "      background-color: #E8F0FE;\n",
              "      border: none;\n",
              "      border-radius: 50%;\n",
              "      cursor: pointer;\n",
              "      display: none;\n",
              "      fill: #1967D2;\n",
              "      height: 32px;\n",
              "      padding: 0 0 0 0;\n",
              "      width: 32px;\n",
              "    }\n",
              "\n",
              "    .colab-df-convert:hover {\n",
              "      background-color: #E2EBFA;\n",
              "      box-shadow: 0px 1px 2px rgba(60, 64, 67, 0.3), 0px 1px 3px 1px rgba(60, 64, 67, 0.15);\n",
              "      fill: #174EA6;\n",
              "    }\n",
              "\n",
              "    [theme=dark] .colab-df-convert {\n",
              "      background-color: #3B4455;\n",
              "      fill: #D2E3FC;\n",
              "    }\n",
              "\n",
              "    [theme=dark] .colab-df-convert:hover {\n",
              "      background-color: #434B5C;\n",
              "      box-shadow: 0px 1px 3px 1px rgba(0, 0, 0, 0.15);\n",
              "      filter: drop-shadow(0px 1px 2px rgba(0, 0, 0, 0.3));\n",
              "      fill: #FFFFFF;\n",
              "    }\n",
              "  </style>\n",
              "\n",
              "      <script>\n",
              "        const buttonEl =\n",
              "          document.querySelector('#df-a05caf37-2f01-4e0c-be33-0c8c081d3052 button.colab-df-convert');\n",
              "        buttonEl.style.display =\n",
              "          google.colab.kernel.accessAllowed ? 'block' : 'none';\n",
              "\n",
              "        async function convertToInteractive(key) {\n",
              "          const element = document.querySelector('#df-a05caf37-2f01-4e0c-be33-0c8c081d3052');\n",
              "          const dataTable =\n",
              "            await google.colab.kernel.invokeFunction('convertToInteractive',\n",
              "                                                     [key], {});\n",
              "          if (!dataTable) return;\n",
              "\n",
              "          const docLinkHtml = 'Like what you see? Visit the ' +\n",
              "            '<a target=\"_blank\" href=https://colab.research.google.com/notebooks/data_table.ipynb>data table notebook</a>'\n",
              "            + ' to learn more about interactive tables.';\n",
              "          element.innerHTML = '';\n",
              "          dataTable['output_type'] = 'display_data';\n",
              "          await google.colab.output.renderOutput(dataTable, element);\n",
              "          const docLink = document.createElement('div');\n",
              "          docLink.innerHTML = docLinkHtml;\n",
              "          element.appendChild(docLink);\n",
              "        }\n",
              "      </script>\n",
              "    </div>\n",
              "  </div>\n",
              "  "
            ]
          },
          "metadata": {},
          "execution_count": 57
        }
      ],
      "source": [
        "df6 = pd.DataFrame({'Nombre':['C++'],'Average': [elapsed_time_cc]})\n",
        "df = df.append(df6, ignore_index = True)\n",
        "df"
      ]
    },
    {
      "cell_type": "markdown",
      "metadata": {
        "id": "OjOecKv-d-ML"
      },
      "source": [
        "**My own example 25 - Creating a Java program that mutiplies 10 times A(600x100) and  B (100x600) matrices**"
      ]
    },
    {
      "cell_type": "code",
      "execution_count": null,
      "metadata": {
        "id": "o8UPxOqs7C34",
        "colab": {
          "base_uri": "https://localhost:8080/"
        },
        "outputId": "43993195-b319-4226-e207-448ae4f46a47"
      },
      "outputs": [
        {
          "output_type": "stream",
          "name": "stdout",
          "text": [
            "Writing Main.java\n"
          ]
        }
      ],
      "source": [
        "%%writefile Main.java\n",
        "class Main{\n",
        "  public static void main(String[] args) {\n",
        "    int[][] a= new int[600][100];\n",
        "    for (int x=0; x < a.length; x++) {\n",
        "      for (int y=0; y < a[x].length; y++) {\n",
        "        a[x][y] = (int) (Math.random()*9+1);\n",
        "      }\n",
        "    }\n",
        "    int[][] b= new int[100][600];\n",
        "    for (int x=0; x < b.length; x++) {\n",
        "      for (int y=0; y < b[x].length; y++) {\n",
        "        b[x][y] = (int) (Math.random()*9+1);\n",
        "      }\n",
        "    } \n",
        "    int[][] c = multiply(a, b);\n",
        "  }\n",
        "\n",
        "  public static int[][] multiply(int[][] a, int[][] b) {\n",
        "  int[][] c = new int[a.length][b[0].length];\n",
        "  if (a[0].length == b.length) {\n",
        "    for (int i=0; i<10; i++){\n",
        "      for (int l = 0; l < a.length; l++) {\n",
        "          for (int j = 0; j < b[0].length; j++) {\n",
        "              for (int k = 0; k < a[0].length; k++) {\n",
        "                  // aquí se multiplica la matriz\n",
        "                  c[i][j] += a[i][k] * b[k][j];\n",
        "              }\n",
        "          }\n",
        "      }\n",
        "    }\n",
        "  }\n",
        "  return c;\n",
        "  }\n",
        "}"
      ]
    },
    {
      "cell_type": "markdown",
      "metadata": {
        "id": "J75aKNvZeFHx"
      },
      "source": [
        "**My own example 26 - Running the Java program that mutiplies 10 times A(600x100) and  B (100x600) matrices**"
      ]
    },
    {
      "cell_type": "code",
      "execution_count": null,
      "metadata": {
        "id": "NP_QcZqA7EPn",
        "colab": {
          "base_uri": "https://localhost:8080/"
        },
        "outputId": "1a1c881d-5de4-44cd-aadb-09df1e1ce72f"
      },
      "outputs": [
        {
          "output_type": "stream",
          "name": "stdout",
          "text": [
            "Execution time: 0.274811840057373 seconds\n"
          ]
        }
      ],
      "source": [
        "st = time.time()\n",
        "!javac Main.java\n",
        "!java Main\n",
        "et = time.time()\n",
        "elapsed_time_java = (et - st)/10\n",
        "print('Execution time:', elapsed_time_java, 'seconds')"
      ]
    },
    {
      "cell_type": "markdown",
      "metadata": {
        "id": "C75pEHRieNfo"
      },
      "source": [
        "**My own example 27 - Adding Java average execution time to the data frame**"
      ]
    },
    {
      "cell_type": "code",
      "execution_count": null,
      "metadata": {
        "id": "5ZDLYWrY7Fhi",
        "colab": {
          "base_uri": "https://localhost:8080/",
          "height": 269
        },
        "outputId": "8fbbae1f-a21c-4808-c8b7-5e02cc1674da"
      },
      "outputs": [
        {
          "output_type": "execute_result",
          "data": {
            "text/plain": [
              "         Nombre   Average\n",
              "0        Python  9.342546\n",
              "1         NumPy  0.019979\n",
              "2  Fortranmagic  0.090955\n",
              "3       Fortran  0.084299\n",
              "4             C  0.218600\n",
              "5           C++  0.218056\n",
              "6          Java  0.274812"
            ],
            "text/html": [
              "\n",
              "  <div id=\"df-07d9d320-c7ca-446a-a5c2-0585bfaa3fc1\">\n",
              "    <div class=\"colab-df-container\">\n",
              "      <div>\n",
              "<style scoped>\n",
              "    .dataframe tbody tr th:only-of-type {\n",
              "        vertical-align: middle;\n",
              "    }\n",
              "\n",
              "    .dataframe tbody tr th {\n",
              "        vertical-align: top;\n",
              "    }\n",
              "\n",
              "    .dataframe thead th {\n",
              "        text-align: right;\n",
              "    }\n",
              "</style>\n",
              "<table border=\"1\" class=\"dataframe\">\n",
              "  <thead>\n",
              "    <tr style=\"text-align: right;\">\n",
              "      <th></th>\n",
              "      <th>Nombre</th>\n",
              "      <th>Average</th>\n",
              "    </tr>\n",
              "  </thead>\n",
              "  <tbody>\n",
              "    <tr>\n",
              "      <th>0</th>\n",
              "      <td>Python</td>\n",
              "      <td>9.342546</td>\n",
              "    </tr>\n",
              "    <tr>\n",
              "      <th>1</th>\n",
              "      <td>NumPy</td>\n",
              "      <td>0.019979</td>\n",
              "    </tr>\n",
              "    <tr>\n",
              "      <th>2</th>\n",
              "      <td>Fortranmagic</td>\n",
              "      <td>0.090955</td>\n",
              "    </tr>\n",
              "    <tr>\n",
              "      <th>3</th>\n",
              "      <td>Fortran</td>\n",
              "      <td>0.084299</td>\n",
              "    </tr>\n",
              "    <tr>\n",
              "      <th>4</th>\n",
              "      <td>C</td>\n",
              "      <td>0.218600</td>\n",
              "    </tr>\n",
              "    <tr>\n",
              "      <th>5</th>\n",
              "      <td>C++</td>\n",
              "      <td>0.218056</td>\n",
              "    </tr>\n",
              "    <tr>\n",
              "      <th>6</th>\n",
              "      <td>Java</td>\n",
              "      <td>0.274812</td>\n",
              "    </tr>\n",
              "  </tbody>\n",
              "</table>\n",
              "</div>\n",
              "      <button class=\"colab-df-convert\" onclick=\"convertToInteractive('df-07d9d320-c7ca-446a-a5c2-0585bfaa3fc1')\"\n",
              "              title=\"Convert this dataframe to an interactive table.\"\n",
              "              style=\"display:none;\">\n",
              "        \n",
              "  <svg xmlns=\"http://www.w3.org/2000/svg\" height=\"24px\"viewBox=\"0 0 24 24\"\n",
              "       width=\"24px\">\n",
              "    <path d=\"M0 0h24v24H0V0z\" fill=\"none\"/>\n",
              "    <path d=\"M18.56 5.44l.94 2.06.94-2.06 2.06-.94-2.06-.94-.94-2.06-.94 2.06-2.06.94zm-11 1L8.5 8.5l.94-2.06 2.06-.94-2.06-.94L8.5 2.5l-.94 2.06-2.06.94zm10 10l.94 2.06.94-2.06 2.06-.94-2.06-.94-.94-2.06-.94 2.06-2.06.94z\"/><path d=\"M17.41 7.96l-1.37-1.37c-.4-.4-.92-.59-1.43-.59-.52 0-1.04.2-1.43.59L10.3 9.45l-7.72 7.72c-.78.78-.78 2.05 0 2.83L4 21.41c.39.39.9.59 1.41.59.51 0 1.02-.2 1.41-.59l7.78-7.78 2.81-2.81c.8-.78.8-2.07 0-2.86zM5.41 20L4 18.59l7.72-7.72 1.47 1.35L5.41 20z\"/>\n",
              "  </svg>\n",
              "      </button>\n",
              "      \n",
              "  <style>\n",
              "    .colab-df-container {\n",
              "      display:flex;\n",
              "      flex-wrap:wrap;\n",
              "      gap: 12px;\n",
              "    }\n",
              "\n",
              "    .colab-df-convert {\n",
              "      background-color: #E8F0FE;\n",
              "      border: none;\n",
              "      border-radius: 50%;\n",
              "      cursor: pointer;\n",
              "      display: none;\n",
              "      fill: #1967D2;\n",
              "      height: 32px;\n",
              "      padding: 0 0 0 0;\n",
              "      width: 32px;\n",
              "    }\n",
              "\n",
              "    .colab-df-convert:hover {\n",
              "      background-color: #E2EBFA;\n",
              "      box-shadow: 0px 1px 2px rgba(60, 64, 67, 0.3), 0px 1px 3px 1px rgba(60, 64, 67, 0.15);\n",
              "      fill: #174EA6;\n",
              "    }\n",
              "\n",
              "    [theme=dark] .colab-df-convert {\n",
              "      background-color: #3B4455;\n",
              "      fill: #D2E3FC;\n",
              "    }\n",
              "\n",
              "    [theme=dark] .colab-df-convert:hover {\n",
              "      background-color: #434B5C;\n",
              "      box-shadow: 0px 1px 3px 1px rgba(0, 0, 0, 0.15);\n",
              "      filter: drop-shadow(0px 1px 2px rgba(0, 0, 0, 0.3));\n",
              "      fill: #FFFFFF;\n",
              "    }\n",
              "  </style>\n",
              "\n",
              "      <script>\n",
              "        const buttonEl =\n",
              "          document.querySelector('#df-07d9d320-c7ca-446a-a5c2-0585bfaa3fc1 button.colab-df-convert');\n",
              "        buttonEl.style.display =\n",
              "          google.colab.kernel.accessAllowed ? 'block' : 'none';\n",
              "\n",
              "        async function convertToInteractive(key) {\n",
              "          const element = document.querySelector('#df-07d9d320-c7ca-446a-a5c2-0585bfaa3fc1');\n",
              "          const dataTable =\n",
              "            await google.colab.kernel.invokeFunction('convertToInteractive',\n",
              "                                                     [key], {});\n",
              "          if (!dataTable) return;\n",
              "\n",
              "          const docLinkHtml = 'Like what you see? Visit the ' +\n",
              "            '<a target=\"_blank\" href=https://colab.research.google.com/notebooks/data_table.ipynb>data table notebook</a>'\n",
              "            + ' to learn more about interactive tables.';\n",
              "          element.innerHTML = '';\n",
              "          dataTable['output_type'] = 'display_data';\n",
              "          await google.colab.output.renderOutput(dataTable, element);\n",
              "          const docLink = document.createElement('div');\n",
              "          docLink.innerHTML = docLinkHtml;\n",
              "          element.appendChild(docLink);\n",
              "        }\n",
              "      </script>\n",
              "    </div>\n",
              "  </div>\n",
              "  "
            ]
          },
          "metadata": {},
          "execution_count": 60
        }
      ],
      "source": [
        "df7 = pd.DataFrame({'Nombre':['Java'],'Average': [elapsed_time_java]})\n",
        "df = df.append(df7, ignore_index = True)\n",
        "df"
      ]
    },
    {
      "cell_type": "markdown",
      "metadata": {
        "id": "nHtevrHEeUiI"
      },
      "source": [
        "**My own example 28 - Creating a Javascript program that mutiplies 10 times A(600x100) and  B (100x600) matrices**"
      ]
    },
    {
      "cell_type": "code",
      "execution_count": null,
      "metadata": {
        "id": "6t1-WhmW7GhX",
        "colab": {
          "base_uri": "https://localhost:8080/"
        },
        "outputId": "653159e5-6b96-45af-abcf-7dff79c9d530"
      },
      "outputs": [
        {
          "output_type": "stream",
          "name": "stdout",
          "text": [
            "Writing tmp.js\n"
          ]
        }
      ],
      "source": [
        "%%writefile tmp.js\n",
        "var R1 = 600;\n",
        "var C1 = 100;\n",
        "var R2 = 100;\n",
        "var C2 = 600;\n",
        "\n",
        "\n",
        "function mulMat(mat1, mat2)\n",
        "{\n",
        "    \n",
        "    var rslt = Array(R1).fill(0).map(()=>new Array(C2).fill(0));\n",
        "    var i = 0;\n",
        "    var j = 0;\n",
        "    var k = 0;\n",
        "    for (iter = 1; iter < 11; iter ++) {\n",
        "      for (i = 0; i < R1; i++) {\n",
        "        for (j = 0; j < C2; j++) {\n",
        "            rslt[i][j] = 0;\n",
        "            for (k = 0; k < R2; k++) {\n",
        "                rslt[i][j] += mat1[i][k] * mat2[k][j];\n",
        "            }\n",
        "            //console.log(rslt[i][j] + \" \");\n",
        "        }\n",
        "      }\n",
        "      //console.log('Iteration', iter)\n",
        "    }\n",
        "    \n",
        "    \n",
        "}\n",
        "\n",
        "mat1 = Array.from({length: R1}, () => Array.from({length: C1}, () => Math.random()));\n",
        "mat2 = Array.from({length: R2}, () => Array.from({length: C2}, () => Math.random()));\n",
        "\n",
        "mulMat(mat1, mat2);\n"
      ]
    },
    {
      "cell_type": "markdown",
      "metadata": {
        "id": "87XpOlCteUZJ"
      },
      "source": [
        "**My own example 29 - Running the Javascript program that mutiplies 10 times A(600x100) and  B (100x600) matrices**"
      ]
    },
    {
      "cell_type": "code",
      "execution_count": null,
      "metadata": {
        "id": "QEm52oVe7HyF"
      },
      "outputs": [],
      "source": [
        "!node tmp.js\n"
      ]
    },
    {
      "cell_type": "markdown",
      "metadata": {
        "id": "LvxaACodc9-K"
      },
      "source": [
        "**My own example 30 - Adding Javascript average execution time to the data frame**"
      ]
    },
    {
      "cell_type": "code",
      "execution_count": null,
      "metadata": {
        "id": "BP_cdxR17J50",
        "colab": {
          "base_uri": "https://localhost:8080/",
          "height": 300
        },
        "outputId": "9498be33-3210-4746-8574-4942f5ce2ca2"
      },
      "outputs": [
        {
          "output_type": "execute_result",
          "data": {
            "text/plain": [
              "         Nombre   Average\n",
              "0        Python  9.342546\n",
              "1         NumPy  0.019979\n",
              "2  Fortranmagic  0.090955\n",
              "3       Fortran  0.084299\n",
              "4             C  0.218600\n",
              "5           C++  0.218056\n",
              "6          Java  0.274812\n",
              "7    JavaScript  0.253234"
            ],
            "text/html": [
              "\n",
              "  <div id=\"df-f334736a-3b30-4dfb-881f-55377eda7ab7\">\n",
              "    <div class=\"colab-df-container\">\n",
              "      <div>\n",
              "<style scoped>\n",
              "    .dataframe tbody tr th:only-of-type {\n",
              "        vertical-align: middle;\n",
              "    }\n",
              "\n",
              "    .dataframe tbody tr th {\n",
              "        vertical-align: top;\n",
              "    }\n",
              "\n",
              "    .dataframe thead th {\n",
              "        text-align: right;\n",
              "    }\n",
              "</style>\n",
              "<table border=\"1\" class=\"dataframe\">\n",
              "  <thead>\n",
              "    <tr style=\"text-align: right;\">\n",
              "      <th></th>\n",
              "      <th>Nombre</th>\n",
              "      <th>Average</th>\n",
              "    </tr>\n",
              "  </thead>\n",
              "  <tbody>\n",
              "    <tr>\n",
              "      <th>0</th>\n",
              "      <td>Python</td>\n",
              "      <td>9.342546</td>\n",
              "    </tr>\n",
              "    <tr>\n",
              "      <th>1</th>\n",
              "      <td>NumPy</td>\n",
              "      <td>0.019979</td>\n",
              "    </tr>\n",
              "    <tr>\n",
              "      <th>2</th>\n",
              "      <td>Fortranmagic</td>\n",
              "      <td>0.090955</td>\n",
              "    </tr>\n",
              "    <tr>\n",
              "      <th>3</th>\n",
              "      <td>Fortran</td>\n",
              "      <td>0.084299</td>\n",
              "    </tr>\n",
              "    <tr>\n",
              "      <th>4</th>\n",
              "      <td>C</td>\n",
              "      <td>0.218600</td>\n",
              "    </tr>\n",
              "    <tr>\n",
              "      <th>5</th>\n",
              "      <td>C++</td>\n",
              "      <td>0.218056</td>\n",
              "    </tr>\n",
              "    <tr>\n",
              "      <th>6</th>\n",
              "      <td>Java</td>\n",
              "      <td>0.274812</td>\n",
              "    </tr>\n",
              "    <tr>\n",
              "      <th>7</th>\n",
              "      <td>JavaScript</td>\n",
              "      <td>0.253234</td>\n",
              "    </tr>\n",
              "  </tbody>\n",
              "</table>\n",
              "</div>\n",
              "      <button class=\"colab-df-convert\" onclick=\"convertToInteractive('df-f334736a-3b30-4dfb-881f-55377eda7ab7')\"\n",
              "              title=\"Convert this dataframe to an interactive table.\"\n",
              "              style=\"display:none;\">\n",
              "        \n",
              "  <svg xmlns=\"http://www.w3.org/2000/svg\" height=\"24px\"viewBox=\"0 0 24 24\"\n",
              "       width=\"24px\">\n",
              "    <path d=\"M0 0h24v24H0V0z\" fill=\"none\"/>\n",
              "    <path d=\"M18.56 5.44l.94 2.06.94-2.06 2.06-.94-2.06-.94-.94-2.06-.94 2.06-2.06.94zm-11 1L8.5 8.5l.94-2.06 2.06-.94-2.06-.94L8.5 2.5l-.94 2.06-2.06.94zm10 10l.94 2.06.94-2.06 2.06-.94-2.06-.94-.94-2.06-.94 2.06-2.06.94z\"/><path d=\"M17.41 7.96l-1.37-1.37c-.4-.4-.92-.59-1.43-.59-.52 0-1.04.2-1.43.59L10.3 9.45l-7.72 7.72c-.78.78-.78 2.05 0 2.83L4 21.41c.39.39.9.59 1.41.59.51 0 1.02-.2 1.41-.59l7.78-7.78 2.81-2.81c.8-.78.8-2.07 0-2.86zM5.41 20L4 18.59l7.72-7.72 1.47 1.35L5.41 20z\"/>\n",
              "  </svg>\n",
              "      </button>\n",
              "      \n",
              "  <style>\n",
              "    .colab-df-container {\n",
              "      display:flex;\n",
              "      flex-wrap:wrap;\n",
              "      gap: 12px;\n",
              "    }\n",
              "\n",
              "    .colab-df-convert {\n",
              "      background-color: #E8F0FE;\n",
              "      border: none;\n",
              "      border-radius: 50%;\n",
              "      cursor: pointer;\n",
              "      display: none;\n",
              "      fill: #1967D2;\n",
              "      height: 32px;\n",
              "      padding: 0 0 0 0;\n",
              "      width: 32px;\n",
              "    }\n",
              "\n",
              "    .colab-df-convert:hover {\n",
              "      background-color: #E2EBFA;\n",
              "      box-shadow: 0px 1px 2px rgba(60, 64, 67, 0.3), 0px 1px 3px 1px rgba(60, 64, 67, 0.15);\n",
              "      fill: #174EA6;\n",
              "    }\n",
              "\n",
              "    [theme=dark] .colab-df-convert {\n",
              "      background-color: #3B4455;\n",
              "      fill: #D2E3FC;\n",
              "    }\n",
              "\n",
              "    [theme=dark] .colab-df-convert:hover {\n",
              "      background-color: #434B5C;\n",
              "      box-shadow: 0px 1px 3px 1px rgba(0, 0, 0, 0.15);\n",
              "      filter: drop-shadow(0px 1px 2px rgba(0, 0, 0, 0.3));\n",
              "      fill: #FFFFFF;\n",
              "    }\n",
              "  </style>\n",
              "\n",
              "      <script>\n",
              "        const buttonEl =\n",
              "          document.querySelector('#df-f334736a-3b30-4dfb-881f-55377eda7ab7 button.colab-df-convert');\n",
              "        buttonEl.style.display =\n",
              "          google.colab.kernel.accessAllowed ? 'block' : 'none';\n",
              "\n",
              "        async function convertToInteractive(key) {\n",
              "          const element = document.querySelector('#df-f334736a-3b30-4dfb-881f-55377eda7ab7');\n",
              "          const dataTable =\n",
              "            await google.colab.kernel.invokeFunction('convertToInteractive',\n",
              "                                                     [key], {});\n",
              "          if (!dataTable) return;\n",
              "\n",
              "          const docLinkHtml = 'Like what you see? Visit the ' +\n",
              "            '<a target=\"_blank\" href=https://colab.research.google.com/notebooks/data_table.ipynb>data table notebook</a>'\n",
              "            + ' to learn more about interactive tables.';\n",
              "          element.innerHTML = '';\n",
              "          dataTable['output_type'] = 'display_data';\n",
              "          await google.colab.output.renderOutput(dataTable, element);\n",
              "          const docLink = document.createElement('div');\n",
              "          docLink.innerHTML = docLinkHtml;\n",
              "          element.appendChild(docLink);\n",
              "        }\n",
              "      </script>\n",
              "    </div>\n",
              "  </div>\n",
              "  "
            ]
          },
          "metadata": {},
          "execution_count": 63
        }
      ],
      "source": [
        "st = time.time()\n",
        "!node tmp.js\n",
        "et = time.time()\n",
        "elapsed_time_js = (et - st)/10\n",
        "df8 = pd.DataFrame({'Nombre':['JavaScript'],'Average': [elapsed_time_js]})\n",
        "df = df.append(df8, ignore_index = True)\n",
        "df"
      ]
    },
    {
      "cell_type": "markdown",
      "metadata": {
        "id": "XPP0Ir1dezN6"
      },
      "source": [
        "**My own example 31 - Finding the minimun average esecuiton time in the data frame**"
      ]
    },
    {
      "cell_type": "code",
      "execution_count": null,
      "metadata": {
        "id": "y0rA3N9v7KyM",
        "colab": {
          "base_uri": "https://localhost:8080/"
        },
        "outputId": "d1d8233d-4b31-4e99-eccf-3705c14b534c"
      },
      "outputs": [
        {
          "output_type": "execute_result",
          "data": {
            "text/plain": [
              "0.0199786901473999"
            ]
          },
          "metadata": {},
          "execution_count": 64
        }
      ],
      "source": [
        "min = df.Average.min()\n",
        "min"
      ]
    },
    {
      "cell_type": "markdown",
      "metadata": {
        "id": "_IjH2K6ldJAQ"
      },
      "source": [
        "**My own example 32 - Adding the Speed factor columne to the data frame**"
      ]
    },
    {
      "cell_type": "code",
      "source": [
        "avgs = df.Average\n",
        "speed_f = [i/min for i in avgs]\n",
        "df['Speed Factor'] = speed_f\n",
        "df"
      ],
      "metadata": {
        "colab": {
          "base_uri": "https://localhost:8080/",
          "height": 300
        },
        "id": "QFcgRqWE75VO",
        "outputId": "22ea4b2b-9637-427e-99d7-9f7148b4a429"
      },
      "execution_count": null,
      "outputs": [
        {
          "output_type": "execute_result",
          "data": {
            "text/plain": [
              "         Nombre   Average  Speed Factor\n",
              "0        Python  9.342546    467.625570\n",
              "1         NumPy  0.019979      1.000000\n",
              "2  Fortranmagic  0.090955      4.552591\n",
              "3       Fortran  0.084299      4.219426\n",
              "4             C  0.218600     10.941665\n",
              "5           C++  0.218056     10.914431\n",
              "6          Java  0.274812     13.755248\n",
              "7    JavaScript  0.253234     12.675182"
            ],
            "text/html": [
              "\n",
              "  <div id=\"df-45179558-95fc-4ab0-8a59-906f14e2ccc8\">\n",
              "    <div class=\"colab-df-container\">\n",
              "      <div>\n",
              "<style scoped>\n",
              "    .dataframe tbody tr th:only-of-type {\n",
              "        vertical-align: middle;\n",
              "    }\n",
              "\n",
              "    .dataframe tbody tr th {\n",
              "        vertical-align: top;\n",
              "    }\n",
              "\n",
              "    .dataframe thead th {\n",
              "        text-align: right;\n",
              "    }\n",
              "</style>\n",
              "<table border=\"1\" class=\"dataframe\">\n",
              "  <thead>\n",
              "    <tr style=\"text-align: right;\">\n",
              "      <th></th>\n",
              "      <th>Nombre</th>\n",
              "      <th>Average</th>\n",
              "      <th>Speed Factor</th>\n",
              "    </tr>\n",
              "  </thead>\n",
              "  <tbody>\n",
              "    <tr>\n",
              "      <th>0</th>\n",
              "      <td>Python</td>\n",
              "      <td>9.342546</td>\n",
              "      <td>467.625570</td>\n",
              "    </tr>\n",
              "    <tr>\n",
              "      <th>1</th>\n",
              "      <td>NumPy</td>\n",
              "      <td>0.019979</td>\n",
              "      <td>1.000000</td>\n",
              "    </tr>\n",
              "    <tr>\n",
              "      <th>2</th>\n",
              "      <td>Fortranmagic</td>\n",
              "      <td>0.090955</td>\n",
              "      <td>4.552591</td>\n",
              "    </tr>\n",
              "    <tr>\n",
              "      <th>3</th>\n",
              "      <td>Fortran</td>\n",
              "      <td>0.084299</td>\n",
              "      <td>4.219426</td>\n",
              "    </tr>\n",
              "    <tr>\n",
              "      <th>4</th>\n",
              "      <td>C</td>\n",
              "      <td>0.218600</td>\n",
              "      <td>10.941665</td>\n",
              "    </tr>\n",
              "    <tr>\n",
              "      <th>5</th>\n",
              "      <td>C++</td>\n",
              "      <td>0.218056</td>\n",
              "      <td>10.914431</td>\n",
              "    </tr>\n",
              "    <tr>\n",
              "      <th>6</th>\n",
              "      <td>Java</td>\n",
              "      <td>0.274812</td>\n",
              "      <td>13.755248</td>\n",
              "    </tr>\n",
              "    <tr>\n",
              "      <th>7</th>\n",
              "      <td>JavaScript</td>\n",
              "      <td>0.253234</td>\n",
              "      <td>12.675182</td>\n",
              "    </tr>\n",
              "  </tbody>\n",
              "</table>\n",
              "</div>\n",
              "      <button class=\"colab-df-convert\" onclick=\"convertToInteractive('df-45179558-95fc-4ab0-8a59-906f14e2ccc8')\"\n",
              "              title=\"Convert this dataframe to an interactive table.\"\n",
              "              style=\"display:none;\">\n",
              "        \n",
              "  <svg xmlns=\"http://www.w3.org/2000/svg\" height=\"24px\"viewBox=\"0 0 24 24\"\n",
              "       width=\"24px\">\n",
              "    <path d=\"M0 0h24v24H0V0z\" fill=\"none\"/>\n",
              "    <path d=\"M18.56 5.44l.94 2.06.94-2.06 2.06-.94-2.06-.94-.94-2.06-.94 2.06-2.06.94zm-11 1L8.5 8.5l.94-2.06 2.06-.94-2.06-.94L8.5 2.5l-.94 2.06-2.06.94zm10 10l.94 2.06.94-2.06 2.06-.94-2.06-.94-.94-2.06-.94 2.06-2.06.94z\"/><path d=\"M17.41 7.96l-1.37-1.37c-.4-.4-.92-.59-1.43-.59-.52 0-1.04.2-1.43.59L10.3 9.45l-7.72 7.72c-.78.78-.78 2.05 0 2.83L4 21.41c.39.39.9.59 1.41.59.51 0 1.02-.2 1.41-.59l7.78-7.78 2.81-2.81c.8-.78.8-2.07 0-2.86zM5.41 20L4 18.59l7.72-7.72 1.47 1.35L5.41 20z\"/>\n",
              "  </svg>\n",
              "      </button>\n",
              "      \n",
              "  <style>\n",
              "    .colab-df-container {\n",
              "      display:flex;\n",
              "      flex-wrap:wrap;\n",
              "      gap: 12px;\n",
              "    }\n",
              "\n",
              "    .colab-df-convert {\n",
              "      background-color: #E8F0FE;\n",
              "      border: none;\n",
              "      border-radius: 50%;\n",
              "      cursor: pointer;\n",
              "      display: none;\n",
              "      fill: #1967D2;\n",
              "      height: 32px;\n",
              "      padding: 0 0 0 0;\n",
              "      width: 32px;\n",
              "    }\n",
              "\n",
              "    .colab-df-convert:hover {\n",
              "      background-color: #E2EBFA;\n",
              "      box-shadow: 0px 1px 2px rgba(60, 64, 67, 0.3), 0px 1px 3px 1px rgba(60, 64, 67, 0.15);\n",
              "      fill: #174EA6;\n",
              "    }\n",
              "\n",
              "    [theme=dark] .colab-df-convert {\n",
              "      background-color: #3B4455;\n",
              "      fill: #D2E3FC;\n",
              "    }\n",
              "\n",
              "    [theme=dark] .colab-df-convert:hover {\n",
              "      background-color: #434B5C;\n",
              "      box-shadow: 0px 1px 3px 1px rgba(0, 0, 0, 0.15);\n",
              "      filter: drop-shadow(0px 1px 2px rgba(0, 0, 0, 0.3));\n",
              "      fill: #FFFFFF;\n",
              "    }\n",
              "  </style>\n",
              "\n",
              "      <script>\n",
              "        const buttonEl =\n",
              "          document.querySelector('#df-45179558-95fc-4ab0-8a59-906f14e2ccc8 button.colab-df-convert');\n",
              "        buttonEl.style.display =\n",
              "          google.colab.kernel.accessAllowed ? 'block' : 'none';\n",
              "\n",
              "        async function convertToInteractive(key) {\n",
              "          const element = document.querySelector('#df-45179558-95fc-4ab0-8a59-906f14e2ccc8');\n",
              "          const dataTable =\n",
              "            await google.colab.kernel.invokeFunction('convertToInteractive',\n",
              "                                                     [key], {});\n",
              "          if (!dataTable) return;\n",
              "\n",
              "          const docLinkHtml = 'Like what you see? Visit the ' +\n",
              "            '<a target=\"_blank\" href=https://colab.research.google.com/notebooks/data_table.ipynb>data table notebook</a>'\n",
              "            + ' to learn more about interactive tables.';\n",
              "          element.innerHTML = '';\n",
              "          dataTable['output_type'] = 'display_data';\n",
              "          await google.colab.output.renderOutput(dataTable, element);\n",
              "          const docLink = document.createElement('div');\n",
              "          docLink.innerHTML = docLinkHtml;\n",
              "          element.appendChild(docLink);\n",
              "        }\n",
              "      </script>\n",
              "    </div>\n",
              "  </div>\n",
              "  "
            ]
          },
          "metadata": {},
          "execution_count": 65
        }
      ]
    },
    {
      "cell_type": "markdown",
      "metadata": {
        "id": "CjiN21fvdRch"
      },
      "source": [
        "**My own example 33 - Sorting the the data frame by average execution time**"
      ]
    },
    {
      "cell_type": "code",
      "execution_count": null,
      "metadata": {
        "id": "d8eiDHB0GpBF",
        "colab": {
          "base_uri": "https://localhost:8080/",
          "height": 300
        },
        "outputId": "0e5a7307-6f73-40b7-e9fb-ba23027fd8f0"
      },
      "outputs": [
        {
          "output_type": "execute_result",
          "data": {
            "text/plain": [
              "         Nombre   Average  Speed Factor\n",
              "1         NumPy  0.019979      1.000000\n",
              "3       Fortran  0.084299      4.219426\n",
              "2  Fortranmagic  0.090955      4.552591\n",
              "5           C++  0.218056     10.914431\n",
              "4             C  0.218600     10.941665\n",
              "7    JavaScript  0.253234     12.675182\n",
              "6          Java  0.274812     13.755248\n",
              "0        Python  9.342546    467.625570"
            ],
            "text/html": [
              "\n",
              "  <div id=\"df-aace6b70-74cf-4bd4-a026-5842a5302940\">\n",
              "    <div class=\"colab-df-container\">\n",
              "      <div>\n",
              "<style scoped>\n",
              "    .dataframe tbody tr th:only-of-type {\n",
              "        vertical-align: middle;\n",
              "    }\n",
              "\n",
              "    .dataframe tbody tr th {\n",
              "        vertical-align: top;\n",
              "    }\n",
              "\n",
              "    .dataframe thead th {\n",
              "        text-align: right;\n",
              "    }\n",
              "</style>\n",
              "<table border=\"1\" class=\"dataframe\">\n",
              "  <thead>\n",
              "    <tr style=\"text-align: right;\">\n",
              "      <th></th>\n",
              "      <th>Nombre</th>\n",
              "      <th>Average</th>\n",
              "      <th>Speed Factor</th>\n",
              "    </tr>\n",
              "  </thead>\n",
              "  <tbody>\n",
              "    <tr>\n",
              "      <th>1</th>\n",
              "      <td>NumPy</td>\n",
              "      <td>0.019979</td>\n",
              "      <td>1.000000</td>\n",
              "    </tr>\n",
              "    <tr>\n",
              "      <th>3</th>\n",
              "      <td>Fortran</td>\n",
              "      <td>0.084299</td>\n",
              "      <td>4.219426</td>\n",
              "    </tr>\n",
              "    <tr>\n",
              "      <th>2</th>\n",
              "      <td>Fortranmagic</td>\n",
              "      <td>0.090955</td>\n",
              "      <td>4.552591</td>\n",
              "    </tr>\n",
              "    <tr>\n",
              "      <th>5</th>\n",
              "      <td>C++</td>\n",
              "      <td>0.218056</td>\n",
              "      <td>10.914431</td>\n",
              "    </tr>\n",
              "    <tr>\n",
              "      <th>4</th>\n",
              "      <td>C</td>\n",
              "      <td>0.218600</td>\n",
              "      <td>10.941665</td>\n",
              "    </tr>\n",
              "    <tr>\n",
              "      <th>7</th>\n",
              "      <td>JavaScript</td>\n",
              "      <td>0.253234</td>\n",
              "      <td>12.675182</td>\n",
              "    </tr>\n",
              "    <tr>\n",
              "      <th>6</th>\n",
              "      <td>Java</td>\n",
              "      <td>0.274812</td>\n",
              "      <td>13.755248</td>\n",
              "    </tr>\n",
              "    <tr>\n",
              "      <th>0</th>\n",
              "      <td>Python</td>\n",
              "      <td>9.342546</td>\n",
              "      <td>467.625570</td>\n",
              "    </tr>\n",
              "  </tbody>\n",
              "</table>\n",
              "</div>\n",
              "      <button class=\"colab-df-convert\" onclick=\"convertToInteractive('df-aace6b70-74cf-4bd4-a026-5842a5302940')\"\n",
              "              title=\"Convert this dataframe to an interactive table.\"\n",
              "              style=\"display:none;\">\n",
              "        \n",
              "  <svg xmlns=\"http://www.w3.org/2000/svg\" height=\"24px\"viewBox=\"0 0 24 24\"\n",
              "       width=\"24px\">\n",
              "    <path d=\"M0 0h24v24H0V0z\" fill=\"none\"/>\n",
              "    <path d=\"M18.56 5.44l.94 2.06.94-2.06 2.06-.94-2.06-.94-.94-2.06-.94 2.06-2.06.94zm-11 1L8.5 8.5l.94-2.06 2.06-.94-2.06-.94L8.5 2.5l-.94 2.06-2.06.94zm10 10l.94 2.06.94-2.06 2.06-.94-2.06-.94-.94-2.06-.94 2.06-2.06.94z\"/><path d=\"M17.41 7.96l-1.37-1.37c-.4-.4-.92-.59-1.43-.59-.52 0-1.04.2-1.43.59L10.3 9.45l-7.72 7.72c-.78.78-.78 2.05 0 2.83L4 21.41c.39.39.9.59 1.41.59.51 0 1.02-.2 1.41-.59l7.78-7.78 2.81-2.81c.8-.78.8-2.07 0-2.86zM5.41 20L4 18.59l7.72-7.72 1.47 1.35L5.41 20z\"/>\n",
              "  </svg>\n",
              "      </button>\n",
              "      \n",
              "  <style>\n",
              "    .colab-df-container {\n",
              "      display:flex;\n",
              "      flex-wrap:wrap;\n",
              "      gap: 12px;\n",
              "    }\n",
              "\n",
              "    .colab-df-convert {\n",
              "      background-color: #E8F0FE;\n",
              "      border: none;\n",
              "      border-radius: 50%;\n",
              "      cursor: pointer;\n",
              "      display: none;\n",
              "      fill: #1967D2;\n",
              "      height: 32px;\n",
              "      padding: 0 0 0 0;\n",
              "      width: 32px;\n",
              "    }\n",
              "\n",
              "    .colab-df-convert:hover {\n",
              "      background-color: #E2EBFA;\n",
              "      box-shadow: 0px 1px 2px rgba(60, 64, 67, 0.3), 0px 1px 3px 1px rgba(60, 64, 67, 0.15);\n",
              "      fill: #174EA6;\n",
              "    }\n",
              "\n",
              "    [theme=dark] .colab-df-convert {\n",
              "      background-color: #3B4455;\n",
              "      fill: #D2E3FC;\n",
              "    }\n",
              "\n",
              "    [theme=dark] .colab-df-convert:hover {\n",
              "      background-color: #434B5C;\n",
              "      box-shadow: 0px 1px 3px 1px rgba(0, 0, 0, 0.15);\n",
              "      filter: drop-shadow(0px 1px 2px rgba(0, 0, 0, 0.3));\n",
              "      fill: #FFFFFF;\n",
              "    }\n",
              "  </style>\n",
              "\n",
              "      <script>\n",
              "        const buttonEl =\n",
              "          document.querySelector('#df-aace6b70-74cf-4bd4-a026-5842a5302940 button.colab-df-convert');\n",
              "        buttonEl.style.display =\n",
              "          google.colab.kernel.accessAllowed ? 'block' : 'none';\n",
              "\n",
              "        async function convertToInteractive(key) {\n",
              "          const element = document.querySelector('#df-aace6b70-74cf-4bd4-a026-5842a5302940');\n",
              "          const dataTable =\n",
              "            await google.colab.kernel.invokeFunction('convertToInteractive',\n",
              "                                                     [key], {});\n",
              "          if (!dataTable) return;\n",
              "\n",
              "          const docLinkHtml = 'Like what you see? Visit the ' +\n",
              "            '<a target=\"_blank\" href=https://colab.research.google.com/notebooks/data_table.ipynb>data table notebook</a>'\n",
              "            + ' to learn more about interactive tables.';\n",
              "          element.innerHTML = '';\n",
              "          dataTable['output_type'] = 'display_data';\n",
              "          await google.colab.output.renderOutput(dataTable, element);\n",
              "          const docLink = document.createElement('div');\n",
              "          docLink.innerHTML = docLinkHtml;\n",
              "          element.appendChild(docLink);\n",
              "        }\n",
              "      </script>\n",
              "    </div>\n",
              "  </div>\n",
              "  "
            ]
          },
          "metadata": {},
          "execution_count": 66
        }
      ],
      "source": [
        "df.sort_values(by=['Average'])"
      ]
    },
    {
      "cell_type": "markdown",
      "metadata": {
        "id": "5RlZ-kCGiXcO"
      },
      "source": [
        "## Why is the Python Version so Much Slower?"
      ]
    },
    {
      "cell_type": "code",
      "execution_count": null,
      "metadata": {
        "id": "rWOUuY4QiXcP",
        "colab": {
          "base_uri": "https://localhost:8080/"
        },
        "outputId": "4fe0dcde-eca5-432b-a0bf-1671de7c77e5"
      },
      "outputs": [
        {
          "output_type": "execute_result",
          "data": {
            "text/plain": [
              "[1, (4+0j), 9.0, 'fourfourfourfour']"
            ]
          },
          "metadata": {},
          "execution_count": 67
        }
      ],
      "source": [
        "# Dynamic typing.\n",
        "def mul_elemwise(xs, ys):\n",
        "    return [x * y for x, y in zip(xs, ys)]\n",
        "\n",
        "mul_elemwise([1, 2, 3, 4], [1, 2 + 0j, 3.0, 'four'])\n",
        "#[type(x) for x in _]"
      ]
    },
    {
      "cell_type": "code",
      "execution_count": null,
      "metadata": {
        "id": "cW0Jexk6iXcP",
        "colab": {
          "base_uri": "https://localhost:8080/"
        },
        "outputId": "3e972175-f9ee-4796-b62e-b7dbdce4827e"
      },
      "outputs": [
        {
          "output_type": "stream",
          "name": "stdout",
          "text": [
            "  1           0 LOAD_NAME                0 (a)\n",
            "              2 LOAD_NAME                1 (b)\n",
            "              4 LOAD_NAME                2 (c)\n",
            "              6 BINARY_MULTIPLY\n",
            "              8 BINARY_ADD\n",
            "             10 RETURN_VALUE\n"
          ]
        }
      ],
      "source": [
        "# Interpretation overhead.\n",
        "source_code = 'a + b * c'\n",
        "bytecode = compile(source_code, '', 'eval')\n",
        "import dis; dis.dis(bytecode)"
      ]
    },
    {
      "cell_type": "markdown",
      "metadata": {
        "id": "BdvCAketiXcP"
      },
      "source": [
        "## Why is the Python Version so Slow?\n",
        "- Dynamic typing means that every single operation requires dispatching on the input type.\n",
        "- Having an interpreter means that every instruction is fetched and dispatched at runtime.\n",
        "- Other overheads:\n",
        "  - Arbitrary-size integers.\n",
        "  - Reference-counted garbage collection."
      ]
    },
    {
      "cell_type": "markdown",
      "metadata": {
        "id": "zvFKYtobiXcP"
      },
      "source": [
        "> This is the paradox that we have to work with when we're doing scientific or numerically-intensive Python. What makes Python fast for development -- this high-level, interpreted, and dynamically-typed aspect of the language -- is exactly what makes it slow for code execution.\n",
        "\n",
        "- Jake VanderPlas, [*Losing Your Loops: Fast Numerical Computing with NumPy*](https://www.youtube.com/watch?v=EEUXKG97YRw)"
      ]
    },
    {
      "cell_type": "markdown",
      "metadata": {
        "id": "UqE431pkiXcP"
      },
      "source": [
        "# What Do We Do?"
      ]
    },
    {
      "cell_type": "markdown",
      "metadata": {
        "id": "4uh7h3HyiXcP"
      },
      "source": [
        "<center><img src=\"https://raw.githubusercontent.com/ssanderson/pydata-toolbox/master/notebooks/images/runaway.gif\" alt=\"Drawing\" style=\"width: 50%;\"/></center>"
      ]
    },
    {
      "cell_type": "markdown",
      "metadata": {
        "id": "-9z62YT1iXcP"
      },
      "source": [
        "<center><img src=\"https://raw.githubusercontent.com/ssanderson/pydata-toolbox/master/notebooks/images/thisisfine.gif\" alt=\"Drawing\" style=\"width: 1080px;\"/></center>"
      ]
    },
    {
      "cell_type": "markdown",
      "metadata": {
        "id": "0Moc6UrkiXcQ"
      },
      "source": [
        "- Python is slow for numerical computation because it performs dynamic dispatch on every operation we perform..."
      ]
    },
    {
      "cell_type": "markdown",
      "metadata": {
        "collapsed": true,
        "id": "U4gN8tp2iXcQ"
      },
      "source": [
        "- ...but often, we just want to do the same thing over and over in a loop!"
      ]
    },
    {
      "cell_type": "markdown",
      "metadata": {
        "id": "Yu0ySyEhiXcQ"
      },
      "source": [
        "- If we don't need Python's dynamicism, we don't want to pay (much) for it."
      ]
    },
    {
      "cell_type": "markdown",
      "metadata": {
        "id": "KUwG9isRiXcQ"
      },
      "source": [
        "- **Idea:** Dispatch **once per operation** instead of **once per element**."
      ]
    },
    {
      "cell_type": "code",
      "execution_count": null,
      "metadata": {
        "id": "62itImahiXcQ",
        "colab": {
          "base_uri": "https://localhost:8080/"
        },
        "outputId": "560448b2-56ab-441b-dec5-c9e478933768"
      },
      "outputs": [
        {
          "output_type": "execute_result",
          "data": {
            "text/plain": [
              "array([1, 2, 3, 4])"
            ]
          },
          "metadata": {},
          "execution_count": 69
        }
      ],
      "source": [
        "import numpy as np\n",
        "\n",
        "data = np.array([1, 2, 3, 4])\n",
        "data"
      ]
    },
    {
      "cell_type": "code",
      "execution_count": null,
      "metadata": {
        "id": "q6qikr_tiXcQ",
        "colab": {
          "base_uri": "https://localhost:8080/"
        },
        "outputId": "36a3cb8f-41d1-46c3-c358-bc9e86d7b7f7"
      },
      "outputs": [
        {
          "output_type": "execute_result",
          "data": {
            "text/plain": [
              "array([2, 4, 6, 8])"
            ]
          },
          "metadata": {},
          "execution_count": 70
        }
      ],
      "source": [
        "data + data"
      ]
    },
    {
      "cell_type": "code",
      "execution_count": null,
      "metadata": {
        "id": "26QlWUw8iXcQ",
        "colab": {
          "base_uri": "https://localhost:8080/"
        },
        "outputId": "6b4f3563-ad6d-4d3a-c4e6-805e96470131"
      },
      "outputs": [
        {
          "output_type": "stream",
          "name": "stdout",
          "text": [
            "CPU times: user 604 µs, sys: 9 µs, total: 613 µs\n",
            "Wall time: 760 µs\n"
          ]
        },
        {
          "output_type": "execute_result",
          "data": {
            "text/plain": [
              "333328333350000.0"
            ]
          },
          "metadata": {},
          "execution_count": 71
        }
      ],
      "source": [
        "%%time\n",
        "# Naive dot product\n",
        "(array_data * array_data).sum()"
      ]
    },
    {
      "cell_type": "code",
      "execution_count": null,
      "metadata": {
        "id": "xoigDrpEiXcQ",
        "colab": {
          "base_uri": "https://localhost:8080/"
        },
        "outputId": "306bdb38-b8a0-4c67-89fc-bb353f91ffde"
      },
      "outputs": [
        {
          "output_type": "stream",
          "name": "stdout",
          "text": [
            "CPU times: user 1.76 ms, sys: 1.01 ms, total: 2.77 ms\n",
            "Wall time: 4.08 ms\n"
          ]
        },
        {
          "output_type": "execute_result",
          "data": {
            "text/plain": [
              "333328333350000.0"
            ]
          },
          "metadata": {},
          "execution_count": 72
        }
      ],
      "source": [
        "%%time\n",
        "# Built-in dot product.\n",
        "array_data.dot(array_data)"
      ]
    },
    {
      "cell_type": "code",
      "execution_count": null,
      "metadata": {
        "id": "tcewetQ0iXcR",
        "colab": {
          "base_uri": "https://localhost:8080/"
        },
        "outputId": "ac73e08f-d64b-488d-93fa-60e148780c8d"
      },
      "outputs": [
        {
          "output_type": "stream",
          "name": "stdout",
          "text": [
            "CPU times: user 375 µs, sys: 6 µs, total: 381 µs\n",
            "Wall time: 195 µs\n"
          ]
        },
        {
          "output_type": "execute_result",
          "data": {
            "text/plain": [
              "333328333350000.0"
            ]
          },
          "metadata": {},
          "execution_count": 73
        }
      ],
      "source": [
        "%%time\n",
        "fortran_dot_product(array_data, array_data)"
      ]
    },
    {
      "cell_type": "code",
      "execution_count": null,
      "metadata": {
        "id": "Whkcgo1xiXcR",
        "colab": {
          "base_uri": "https://localhost:8080/",
          "height": 183
        },
        "outputId": "a8eba1e2-5087-4bc5-a10b-6ac26b8c73fe"
      },
      "outputs": [
        {
          "output_type": "error",
          "ename": "ValueError",
          "evalue": "ignored",
          "traceback": [
            "\u001b[0;31m---------------------------------------------------------------------------\u001b[0m",
            "\u001b[0;31mValueError\u001b[0m                                Traceback (most recent call last)",
            "\u001b[0;32m<ipython-input-74-1ae73c964fd5>\u001b[0m in \u001b[0;36m<module>\u001b[0;34m\u001b[0m\n\u001b[1;32m      1\u001b[0m \u001b[0;31m# Numpy won't allow us to write a string into an int array.\u001b[0m\u001b[0;34m\u001b[0m\u001b[0;34m\u001b[0m\u001b[0;34m\u001b[0m\u001b[0m\n\u001b[0;32m----> 2\u001b[0;31m \u001b[0mdata\u001b[0m\u001b[0;34m[\u001b[0m\u001b[0;36m0\u001b[0m\u001b[0;34m]\u001b[0m \u001b[0;34m=\u001b[0m \u001b[0;34m\"foo\"\u001b[0m\u001b[0;34m\u001b[0m\u001b[0;34m\u001b[0m\u001b[0m\n\u001b[0m",
            "\u001b[0;31mValueError\u001b[0m: invalid literal for int() with base 10: 'foo'"
          ]
        }
      ],
      "source": [
        "# Numpy won't allow us to write a string into an int array.\n",
        "data[0] = \"foo\""
      ]
    },
    {
      "cell_type": "code",
      "execution_count": null,
      "metadata": {
        "collapsed": true,
        "id": "OM_YUwF0iXcR"
      },
      "outputs": [],
      "source": [
        "# We also can't grow an array once it's created.\n",
        "data.append(3)"
      ]
    },
    {
      "cell_type": "code",
      "execution_count": null,
      "metadata": {
        "collapsed": true,
        "id": "_ByTInO5iXcR"
      },
      "outputs": [],
      "source": [
        "# We **can** reshape an array though.\n",
        "two_by_two = data.reshape(2, 2)\n",
        "two_by_two"
      ]
    },
    {
      "cell_type": "markdown",
      "metadata": {
        "id": "rqUM9z90iXcR"
      },
      "source": [
        "Numpy arrays are:\n",
        "\n",
        "- Fixed-type"
      ]
    },
    {
      "cell_type": "markdown",
      "metadata": {
        "id": "xI5M1gzviXcR"
      },
      "source": [
        "- Size-immutable"
      ]
    },
    {
      "cell_type": "markdown",
      "metadata": {
        "id": "Xb7Dkl2tiXcS"
      },
      "source": [
        "- Multi-dimensional"
      ]
    },
    {
      "cell_type": "markdown",
      "metadata": {
        "id": "r0oMRqQXiXcS"
      },
      "source": [
        "- Fast\\*"
      ]
    },
    {
      "cell_type": "markdown",
      "metadata": {
        "id": "kz1MurDBiXcS"
      },
      "source": [
        "\\* If you use them correctly."
      ]
    },
    {
      "cell_type": "markdown",
      "metadata": {
        "id": "Qivn_IZOiXcS"
      },
      "source": [
        "# What's in an Array?"
      ]
    },
    {
      "cell_type": "code",
      "execution_count": null,
      "metadata": {
        "id": "vAuc9ZoYiXcS",
        "colab": {
          "base_uri": "https://localhost:8080/"
        },
        "outputId": "fd771943-d73d-405a-c10a-44e6c462560b"
      },
      "outputs": [
        {
          "output_type": "stream",
          "name": "stdout",
          "text": [
            "Array:\n",
            "[[1 2 3]\n",
            " [4 5 6]]\n",
            "===========\n",
            "DType: int16\n",
            "Shape: (2, 3)\n",
            "Strides: (6, 2)\n",
            "Data: b'\\x01\\x00\\x02\\x00\\x03\\x00\\x04\\x00\\x05\\x00\\x06\\x00'\n"
          ]
        }
      ],
      "source": [
        "arr = np.array([1, 2, 3, 4, 5, 6], dtype='int16').reshape(2, 3)\n",
        "print(\"Array:\\n\", arr, sep='')\n",
        "print(\"===========\")\n",
        "print(\"DType:\", arr.dtype)\n",
        "print(\"Shape:\", arr.shape)\n",
        "print(\"Strides:\", arr.strides)\n",
        "print(\"Data:\", arr.data.tobytes())"
      ]
    },
    {
      "cell_type": "markdown",
      "metadata": {
        "id": "K81LXWsCiXcS"
      },
      "source": [
        "# Core Operations\n",
        "\n",
        "- Vectorized **ufuncs** for elementwise operations.\n",
        "- Fancy indexing and masking for selection and filtering.\n",
        "- Aggregations across axes.\n",
        "- Broadcasting"
      ]
    },
    {
      "cell_type": "markdown",
      "metadata": {
        "id": "kwVm_T0UiXcS"
      },
      "source": [
        "# UFuncs\n",
        "\n",
        "UFuncs (universal functions) are functions that operate elementwise on one or more arrays."
      ]
    },
    {
      "cell_type": "code",
      "execution_count": null,
      "metadata": {
        "id": "bltDIE9jiXcS",
        "colab": {
          "base_uri": "https://localhost:8080/"
        },
        "outputId": "8b494215-4dc1-4081-cf1a-4d3521dc6dd4"
      },
      "outputs": [
        {
          "output_type": "execute_result",
          "data": {
            "text/plain": [
              "array([[ 0,  1,  2,  3,  4],\n",
              "       [ 5,  6,  7,  8,  9],\n",
              "       [10, 11, 12, 13, 14]])"
            ]
          },
          "metadata": {},
          "execution_count": 123
        }
      ],
      "source": [
        "data = np.arange(15).reshape(3, 5)\n",
        "data"
      ]
    },
    {
      "cell_type": "code",
      "execution_count": null,
      "metadata": {
        "id": "STwE0VCpiXcT",
        "colab": {
          "base_uri": "https://localhost:8080/"
        },
        "outputId": "37cac261-97c9-47a7-d421-0816e5abaccc"
      },
      "outputs": [
        {
          "output_type": "execute_result",
          "data": {
            "text/plain": [
              "array([[  0,   1,   4,   9,  16],\n",
              "       [ 25,  36,  49,  64,  81],\n",
              "       [100, 121, 144, 169, 196]])"
            ]
          },
          "metadata": {},
          "execution_count": 124
        }
      ],
      "source": [
        "# Binary operators.\n",
        "data * data"
      ]
    },
    {
      "cell_type": "code",
      "execution_count": null,
      "metadata": {
        "id": "N__jqMifiXcT",
        "colab": {
          "base_uri": "https://localhost:8080/"
        },
        "outputId": "54dc61f0-5530-463d-a84c-9662eba03b86"
      },
      "outputs": [
        {
          "output_type": "execute_result",
          "data": {
            "text/plain": [
              "array([[0.        , 1.        , 1.41421356, 1.73205081, 2.        ],\n",
              "       [2.23606798, 2.44948974, 2.64575131, 2.82842712, 3.        ],\n",
              "       [3.16227766, 3.31662479, 3.46410162, 3.60555128, 3.74165739]])"
            ]
          },
          "metadata": {},
          "execution_count": 125
        }
      ],
      "source": [
        "# Unary functions.\n",
        "np.sqrt(data)"
      ]
    },
    {
      "cell_type": "code",
      "execution_count": null,
      "metadata": {
        "id": "j-2fPm3LiXcT",
        "colab": {
          "base_uri": "https://localhost:8080/"
        },
        "outputId": "e7495e83-7683-4b81-e1fd-251ab45aafd4"
      },
      "outputs": [
        {
          "output_type": "execute_result",
          "data": {
            "text/plain": [
              "array([[ True, False, False,  True, False],\n",
              "       [False,  True, False, False,  True],\n",
              "       [False, False,  True, False, False]])"
            ]
          },
          "metadata": {},
          "execution_count": 126
        }
      ],
      "source": [
        "# Comparison operations\n",
        "(data % 3) == 0"
      ]
    },
    {
      "cell_type": "code",
      "execution_count": null,
      "metadata": {
        "id": "iDUXVIuhiXcT",
        "colab": {
          "base_uri": "https://localhost:8080/"
        },
        "outputId": "eb4b69a0-4d80-47c8-9fbe-a521ccfe325b"
      },
      "outputs": [
        {
          "output_type": "execute_result",
          "data": {
            "text/plain": [
              "array([[ True, False, False, False, False],\n",
              "       [False,  True, False, False, False],\n",
              "       [False, False,  True, False, False]])"
            ]
          },
          "metadata": {},
          "execution_count": 127
        }
      ],
      "source": [
        "# Boolean combinators.\n",
        "((data % 2) == 0) & ((data % 3) == 0)"
      ]
    },
    {
      "cell_type": "code",
      "execution_count": null,
      "metadata": {
        "id": "f2FWSuiJiXcT",
        "colab": {
          "base_uri": "https://localhost:8080/"
        },
        "outputId": "93d72f01-c0dd-429e-8d7e-4caf5f527cce"
      },
      "outputs": [
        {
          "output_type": "execute_result",
          "data": {
            "text/plain": [
              "array([[ 30,  80, 130],\n",
              "       [ 80, 255, 430],\n",
              "       [130, 430, 730]])"
            ]
          },
          "metadata": {},
          "execution_count": 128
        }
      ],
      "source": [
        "# as of python 3.5, @ is matrix-multiply\n",
        "data @ data.T"
      ]
    },
    {
      "cell_type": "markdown",
      "metadata": {
        "id": "9EsiKbSCiXcT"
      },
      "source": [
        "# UFuncs Review\n",
        "\n",
        "- UFuncs provide efficient elementwise operations applied across one or more arrays.\n",
        "- Arithmetic Operators (`+`, `*`, `/`)\n",
        "- Comparisons (`==`, `>`, `!=`)\n",
        "- Boolean Operators (`&`, `|`, `^`)\n",
        "- Trigonometric Functions (`sin`, `cos`)\n",
        "- Transcendental Functions (`exp`, `log`)"
      ]
    },
    {
      "cell_type": "markdown",
      "metadata": {
        "id": "GGLCgF20iXcU"
      },
      "source": [
        "# Selections"
      ]
    },
    {
      "cell_type": "markdown",
      "metadata": {
        "id": "3SAH9am8iXcU"
      },
      "source": [
        "We often want to perform an operation on just a subset of our data."
      ]
    },
    {
      "cell_type": "code",
      "execution_count": null,
      "metadata": {
        "id": "AWmtLHYwiXcU",
        "colab": {
          "base_uri": "https://localhost:8080/"
        },
        "outputId": "5cb3cbed-ec2e-43e1-82b6-64919879f761"
      },
      "outputs": [
        {
          "output_type": "execute_result",
          "data": {
            "text/plain": [
              "array([0.        , 0.34185385, 0.64251645, 0.86575984, 0.98468459,\n",
              "       0.98496101, 0.8665558 , 0.64373604, 0.34335012, 0.00159265])"
            ]
          },
          "metadata": {},
          "execution_count": 129
        }
      ],
      "source": [
        "sines = np.sin(np.linspace(0, 3.14, 10))\n",
        "cosines = np.cos(np.linspace(0, 3.14, 10))\n",
        "sines"
      ]
    },
    {
      "cell_type": "code",
      "execution_count": null,
      "metadata": {
        "id": "u8LHY0j9iXcU",
        "colab": {
          "base_uri": "https://localhost:8080/"
        },
        "outputId": "3d4d3b87-748c-487b-b603-0ae62596eef1"
      },
      "outputs": [
        {
          "output_type": "execute_result",
          "data": {
            "text/plain": [
              "0.0"
            ]
          },
          "metadata": {},
          "execution_count": 130
        }
      ],
      "source": [
        "# Slicing works with the same semantics as Python lists.\n",
        "sines[0]"
      ]
    },
    {
      "cell_type": "code",
      "execution_count": null,
      "metadata": {
        "id": "hh6dTObciXcU",
        "colab": {
          "base_uri": "https://localhost:8080/"
        },
        "outputId": "4c203b1e-a7d1-4a40-8eb8-49118d8e1029"
      },
      "outputs": [
        {
          "output_type": "execute_result",
          "data": {
            "text/plain": [
              "array([0.        , 0.34185385, 0.64251645])"
            ]
          },
          "metadata": {},
          "execution_count": 131
        }
      ],
      "source": [
        "sines[:3]  # First three elements  "
      ]
    },
    {
      "cell_type": "code",
      "execution_count": null,
      "metadata": {
        "id": "rqB_uVABiXcU",
        "colab": {
          "base_uri": "https://localhost:8080/"
        },
        "outputId": "df3166a5-133d-4711-bb65-912fe466f92a"
      },
      "outputs": [
        {
          "output_type": "execute_result",
          "data": {
            "text/plain": [
              "array([0.98496101, 0.8665558 , 0.64373604, 0.34335012, 0.00159265])"
            ]
          },
          "metadata": {},
          "execution_count": 132
        }
      ],
      "source": [
        "sines[5:]  # Elements from 5 on."
      ]
    },
    {
      "cell_type": "code",
      "execution_count": null,
      "metadata": {
        "id": "j2KDBhZaiXcU",
        "colab": {
          "base_uri": "https://localhost:8080/"
        },
        "outputId": "7468893f-b2a5-48fa-a8c2-7d710c7eccdf"
      },
      "outputs": [
        {
          "output_type": "execute_result",
          "data": {
            "text/plain": [
              "array([0.        , 0.64251645, 0.98468459, 0.8665558 , 0.34335012])"
            ]
          },
          "metadata": {},
          "execution_count": 133
        }
      ],
      "source": [
        "sines[::2]  # Every other element."
      ]
    },
    {
      "cell_type": "code",
      "execution_count": null,
      "metadata": {
        "id": "lR7JjjhjiXcV",
        "colab": {
          "base_uri": "https://localhost:8080/"
        },
        "outputId": "7798cfc2-5884-4804-b2fa-e8fe3a876aa5"
      },
      "outputs": [
        {
          "output_type": "stream",
          "name": "stdout",
          "text": [
            "sines:\n",
            " [0.         0.34185385 0.64251645 0.86575984 0.98468459 0.98496101\n",
            " 0.8665558  0.64373604 0.34335012 0.00159265]\n",
            "sines > 0.5:\n",
            " [False False  True  True  True  True  True  True False False]\n",
            "sines[sines > 0.5]:\n",
            " [0.64251645 0.86575984 0.98468459 0.98496101 0.8665558  0.64373604]\n"
          ]
        }
      ],
      "source": [
        "# More interesting: we can index with boolean arrays to filter by a predicate.\n",
        "print(\"sines:\\n\", sines)\n",
        "print(\"sines > 0.5:\\n\", sines > 0.5)\n",
        "print(\"sines[sines > 0.5]:\\n\", sines[sines > 0.5])"
      ]
    },
    {
      "cell_type": "code",
      "execution_count": null,
      "metadata": {
        "id": "gORuDL3RiXcV",
        "colab": {
          "base_uri": "https://localhost:8080/"
        },
        "outputId": "976e6a52-d969-4886-955a-93e286119160"
      },
      "outputs": [
        {
          "output_type": "stream",
          "name": "stdout",
          "text": [
            "[0.         0.34185385 0.64251645 0.86575984 0.98468459 0.98496101\n",
            " 0.8665558  0.64373604 0.34335012 0.00159265]\n"
          ]
        },
        {
          "output_type": "execute_result",
          "data": {
            "text/plain": [
              "array([0.        , 0.98468459, 0.64373604])"
            ]
          },
          "metadata": {},
          "execution_count": 135
        }
      ],
      "source": [
        "# We index with lists/arrays of integers to select values at those indices.\n",
        "print(sines)\n",
        "sines[[0, 4, 7]]"
      ]
    },
    {
      "cell_type": "code",
      "execution_count": null,
      "metadata": {
        "collapsed": true,
        "id": "Gu2vDHNgiXcV"
      },
      "outputs": [],
      "source": [
        "# Index arrays are often used for sorting one or more arrays.\n",
        "unsorted_data = np.array([1, 3, 2, 12, -1, 5, 2])"
      ]
    },
    {
      "cell_type": "code",
      "execution_count": null,
      "metadata": {
        "id": "uroIWxu1iXcV",
        "colab": {
          "base_uri": "https://localhost:8080/"
        },
        "outputId": "4814b4d1-cffc-45f4-b12e-865ca3c2815f"
      },
      "outputs": [
        {
          "output_type": "execute_result",
          "data": {
            "text/plain": [
              "array([4, 0, 2, 6, 1, 5, 3])"
            ]
          },
          "metadata": {},
          "execution_count": 137
        }
      ],
      "source": [
        "sort_indices = np.argsort(unsorted_data)\n",
        "sort_indices"
      ]
    },
    {
      "cell_type": "code",
      "execution_count": null,
      "metadata": {
        "id": "igwLM_b1iXcV",
        "colab": {
          "base_uri": "https://localhost:8080/"
        },
        "outputId": "b1ad378d-da0c-480e-f6b0-8bc52200bbd8"
      },
      "outputs": [
        {
          "output_type": "execute_result",
          "data": {
            "text/plain": [
              "array([-1,  1,  2,  2,  3,  5, 12])"
            ]
          },
          "metadata": {},
          "execution_count": 138
        }
      ],
      "source": [
        "unsorted_data[sort_indices]"
      ]
    },
    {
      "cell_type": "code",
      "execution_count": null,
      "metadata": {
        "collapsed": true,
        "id": "7IRVEVvdiXcV"
      },
      "outputs": [],
      "source": [
        "market_caps = np.array([12, 6, 10, 5, 6])  # Presumably in dollars?\n",
        "assets = np.array(['A', 'B', 'C', 'D', 'E'])"
      ]
    },
    {
      "cell_type": "code",
      "execution_count": null,
      "metadata": {
        "id": "jE8KVrn9iXcV",
        "colab": {
          "base_uri": "https://localhost:8080/"
        },
        "outputId": "60741280-30c4-427d-f99d-12ccac296d45"
      },
      "outputs": [
        {
          "output_type": "execute_result",
          "data": {
            "text/plain": [
              "array(['D', 'B', 'E', 'C', 'A'], dtype='<U1')"
            ]
          },
          "metadata": {},
          "execution_count": 140
        }
      ],
      "source": [
        "# Sort assets by market cap by using the permutation that would sort market caps on ``assets``.\n",
        "sort_by_mcap = np.argsort(market_caps)\n",
        "assets[sort_by_mcap]"
      ]
    },
    {
      "cell_type": "code",
      "execution_count": null,
      "metadata": {
        "id": "jaGW-7fTiXcW",
        "scrolled": true,
        "colab": {
          "base_uri": "https://localhost:8080/"
        },
        "outputId": "f638f7e6-7e15-49a9-95c9-b222e4251aa3"
      },
      "outputs": [
        {
          "output_type": "stream",
          "name": "stdout",
          "text": [
            "Dates:\n",
            " array(['2017-01-06', '2017-01-07', '2017-01-08'], dtype='datetime64[D]')\n",
            "Values:\n",
            " array([10, 15, 20])\n",
            "Calendar:\n",
            " array(['2017-01-03', '2017-01-04', '2017-01-05', '2017-01-06',\n",
            "       '2017-01-09', '2017-01-10', '2017-01-11', '2017-01-12',\n",
            "       '2017-01-13', '2017-01-17', '2017-01-18', '2017-01-19',\n",
            "       '2017-01-20', '2017-01-23', '2017-01-24', '2017-01-25',\n",
            "       '2017-01-26', '2017-01-27', '2017-01-30', '2017-01-31',\n",
            "       '2017-02-01'], dtype='datetime64[D]')\n"
          ]
        }
      ],
      "source": [
        "# Indexers are also useful for aligning data.\n",
        "print(\"Dates:\\n\", repr(event_dates))\n",
        "print(\"Values:\\n\", repr(event_values))\n",
        "print(\"Calendar:\\n\", repr(calendar))"
      ]
    },
    {
      "cell_type": "code",
      "execution_count": null,
      "metadata": {
        "id": "Uo28AVcTiXcW",
        "colab": {
          "base_uri": "https://localhost:8080/"
        },
        "outputId": "660d2ec6-4d31-44bc-cc62-4ce4b133e9a2"
      },
      "outputs": [
        {
          "output_type": "stream",
          "name": "stdout",
          "text": [
            "Raw Dates: ['2017-01-06' '2017-01-07' '2017-01-08']\n",
            "Indices: [3 4 4]\n",
            "Forward-Filled Dates: ['2017-01-06' '2017-01-09' '2017-01-09']\n"
          ]
        }
      ],
      "source": [
        "print(\"Raw Dates:\", event_dates)\n",
        "print(\"Indices:\", calendar.searchsorted(event_dates))\n",
        "print(\"Forward-Filled Dates:\", calendar[calendar.searchsorted(event_dates)])"
      ]
    },
    {
      "cell_type": "markdown",
      "metadata": {
        "id": "oDEVEEOriXcW"
      },
      "source": [
        "On multi-dimensional arrays, we can slice along each axis independently."
      ]
    },
    {
      "cell_type": "code",
      "execution_count": null,
      "metadata": {
        "id": "prPSgZhniXcW",
        "colab": {
          "base_uri": "https://localhost:8080/"
        },
        "outputId": "9fe8afa8-c063-4787-cd96-24de9cab8d32"
      },
      "outputs": [
        {
          "output_type": "execute_result",
          "data": {
            "text/plain": [
              "array([[ 0,  1,  2,  3,  4],\n",
              "       [ 5,  6,  7,  8,  9],\n",
              "       [10, 11, 12, 13, 14],\n",
              "       [15, 16, 17, 18, 19],\n",
              "       [20, 21, 22, 23, 24]])"
            ]
          },
          "metadata": {},
          "execution_count": 143
        }
      ],
      "source": [
        "data = np.arange(25).reshape(5, 5)\n",
        "data"
      ]
    },
    {
      "cell_type": "code",
      "execution_count": null,
      "metadata": {
        "id": "KAulAQ2yiXcW",
        "colab": {
          "base_uri": "https://localhost:8080/"
        },
        "outputId": "353f7ea8-1b95-4545-bbb5-9493d9f01787"
      },
      "outputs": [
        {
          "output_type": "execute_result",
          "data": {
            "text/plain": [
              "array([[0, 1],\n",
              "       [5, 6]])"
            ]
          },
          "metadata": {},
          "execution_count": 144
        }
      ],
      "source": [
        "data[:2, :2]  # First two rows and first two columns."
      ]
    },
    {
      "cell_type": "code",
      "execution_count": null,
      "metadata": {
        "id": "f9_S0RcdiXcW",
        "colab": {
          "base_uri": "https://localhost:8080/"
        },
        "outputId": "5d626356-9f0f-42f1-8cfd-242b93a3bb47"
      },
      "outputs": [
        {
          "output_type": "execute_result",
          "data": {
            "text/plain": [
              "array([[0, 4],\n",
              "       [5, 9]])"
            ]
          },
          "metadata": {},
          "execution_count": 145
        }
      ],
      "source": [
        "data[:2, [0, -1]]  # First two rows, first and last columns."
      ]
    },
    {
      "cell_type": "code",
      "execution_count": null,
      "metadata": {
        "id": "rre5hGs9iXcW",
        "colab": {
          "base_uri": "https://localhost:8080/"
        },
        "outputId": "ba89f4c2-773d-47d4-be36-b3bba9837b5a"
      },
      "outputs": [
        {
          "output_type": "execute_result",
          "data": {
            "text/plain": [
              "array([[ 0,  1,  2,  3,  4],\n",
              "       [10, 11, 12, 13, 14],\n",
              "       [20, 21, 22, 23, 24]])"
            ]
          },
          "metadata": {},
          "execution_count": 146
        }
      ],
      "source": [
        "data[(data[:, 0] % 2) == 0]  # Rows where the first column is divisible by two."
      ]
    },
    {
      "cell_type": "markdown",
      "metadata": {
        "id": "zl1zYEQgiXcX"
      },
      "source": [
        "# Selections Review\n",
        "\n",
        "- Indexing with an integer removes a dimension.\n",
        "- Slicing operations work on Numpy arrays the same way they do on lists.\n",
        "- Indexing with a boolean array filters to True locations.\n",
        "- Indexing with an integer array selects indices along an axis.\n",
        "- Multidimensional arrays can apply selections independently along different axes."
      ]
    },
    {
      "cell_type": "markdown",
      "metadata": {
        "id": "0tDspA_KiXcX"
      },
      "source": [
        "## Reductions\n",
        "\n",
        "Functions that reduce an array to a scalar."
      ]
    },
    {
      "cell_type": "markdown",
      "metadata": {
        "id": "1s42E1qCiXcX"
      },
      "source": [
        "$Var(X) = \\frac{1}{N}\\sqrt{\\sum_{i=1}^N (x_i - \\bar{x})^2}$"
      ]
    },
    {
      "cell_type": "code",
      "execution_count": null,
      "metadata": {
        "collapsed": true,
        "id": "pkjccK94iXcX"
      },
      "outputs": [],
      "source": [
        "def variance(x):\n",
        "    return ((x - x.mean()) ** 2).sum() / len(x)"
      ]
    },
    {
      "cell_type": "code",
      "execution_count": null,
      "metadata": {
        "id": "jqiZV_FMiXcX",
        "colab": {
          "base_uri": "https://localhost:8080/"
        },
        "outputId": "8fdcb9b5-9a78-44fa-d2dc-662e338b8aa5"
      },
      "outputs": [
        {
          "output_type": "execute_result",
          "data": {
            "text/plain": [
              "0.9954384686353508"
            ]
          },
          "metadata": {},
          "execution_count": 148
        }
      ],
      "source": [
        "variance(np.random.standard_normal(1000))"
      ]
    },
    {
      "cell_type": "markdown",
      "metadata": {
        "id": "WHVBON1qiXcX"
      },
      "source": [
        "- `sum()` and `mean()` are both **reductions**."
      ]
    },
    {
      "cell_type": "markdown",
      "metadata": {
        "id": "w7gh4_vmiXcX"
      },
      "source": [
        "- In the simplest case, we use these to reduce an entire array into a single value..."
      ]
    },
    {
      "cell_type": "code",
      "execution_count": null,
      "metadata": {
        "id": "Hxr-Py7ciXcY",
        "colab": {
          "base_uri": "https://localhost:8080/"
        },
        "outputId": "d090807f-adf8-44b3-8643-7a31e7ac5fc0"
      },
      "outputs": [
        {
          "output_type": "execute_result",
          "data": {
            "text/plain": [
              "14.5"
            ]
          },
          "metadata": {},
          "execution_count": 149
        }
      ],
      "source": [
        "data = np.arange(30)\n",
        "data.mean()"
      ]
    },
    {
      "cell_type": "markdown",
      "metadata": {
        "id": "M1mqf-RfiXcY"
      },
      "source": [
        "- ...but we can do more interesting things with multi-dimensional arrays."
      ]
    },
    {
      "cell_type": "code",
      "execution_count": null,
      "metadata": {
        "id": "okW92XNriXcY",
        "colab": {
          "base_uri": "https://localhost:8080/"
        },
        "outputId": "4f58874e-4c77-469f-ae74-82f3996db8c6"
      },
      "outputs": [
        {
          "output_type": "execute_result",
          "data": {
            "text/plain": [
              "array([[ 0,  1,  2,  3,  4,  5,  6,  7,  8,  9],\n",
              "       [10, 11, 12, 13, 14, 15, 16, 17, 18, 19],\n",
              "       [20, 21, 22, 23, 24, 25, 26, 27, 28, 29]])"
            ]
          },
          "metadata": {},
          "execution_count": 150
        }
      ],
      "source": [
        "data = np.arange(30).reshape(3, 10)\n",
        "data"
      ]
    },
    {
      "cell_type": "code",
      "execution_count": null,
      "metadata": {
        "id": "_DwCYNHQiXcY",
        "colab": {
          "base_uri": "https://localhost:8080/"
        },
        "outputId": "1dfc5938-0219-427b-9a07-b47553b5cdae"
      },
      "outputs": [
        {
          "output_type": "execute_result",
          "data": {
            "text/plain": [
              "14.5"
            ]
          },
          "metadata": {},
          "execution_count": 151
        }
      ],
      "source": [
        "data.mean()"
      ]
    },
    {
      "cell_type": "code",
      "execution_count": null,
      "metadata": {
        "id": "Z7S6mpm3iXcY",
        "colab": {
          "base_uri": "https://localhost:8080/"
        },
        "outputId": "8422866b-fa2b-481e-97cc-de790ba947a5"
      },
      "outputs": [
        {
          "output_type": "execute_result",
          "data": {
            "text/plain": [
              "array([10., 11., 12., 13., 14., 15., 16., 17., 18., 19.])"
            ]
          },
          "metadata": {},
          "execution_count": 152
        }
      ],
      "source": [
        "data.mean(axis=0)"
      ]
    },
    {
      "cell_type": "code",
      "execution_count": null,
      "metadata": {
        "id": "g-DOKtM4iXcY",
        "colab": {
          "base_uri": "https://localhost:8080/"
        },
        "outputId": "36e77036-aa13-48d6-9ab9-42e30b7ee693"
      },
      "outputs": [
        {
          "output_type": "execute_result",
          "data": {
            "text/plain": [
              "array([ 4.5, 14.5, 24.5])"
            ]
          },
          "metadata": {},
          "execution_count": 153
        }
      ],
      "source": [
        "data.mean(axis=1)"
      ]
    },
    {
      "cell_type": "markdown",
      "metadata": {
        "id": "zsIEVqkgiXcY"
      },
      "source": [
        "## Reductions Review\n",
        "\n",
        "- Reductions allow us to perform efficient aggregations over arrays.\n",
        "- We can do aggregations over a single axis to collapse a single dimension.\n",
        "- Many built-in reductions (`mean`, `sum`, `min`, `max`, `median`, ...)."
      ]
    },
    {
      "cell_type": "markdown",
      "metadata": {
        "id": "hvqRiy2qiXcZ"
      },
      "source": [
        "# Broadcasting"
      ]
    },
    {
      "cell_type": "code",
      "execution_count": null,
      "metadata": {
        "id": "OyIDakdiiXcZ",
        "colab": {
          "base_uri": "https://localhost:8080/"
        },
        "outputId": "5bf64e03-05ab-4bb1-d31c-47c59720f7c2"
      },
      "outputs": [
        {
          "output_type": "stream",
          "name": "stdout",
          "text": [
            "Row:\n",
            "[1 2 3 4]\n",
            "Column:\n",
            "[[1]\n",
            " [2]\n",
            " [3]]\n"
          ]
        }
      ],
      "source": [
        "row = np.array([1, 2, 3, 4])\n",
        "column = np.array([[1], [2], [3]])\n",
        "print(\"Row:\\n\", row, sep='')\n",
        "print(\"Column:\\n\", column, sep='')"
      ]
    },
    {
      "cell_type": "code",
      "execution_count": null,
      "metadata": {
        "id": "Dej4wsX-iXcZ",
        "colab": {
          "base_uri": "https://localhost:8080/"
        },
        "outputId": "97bef5e5-f2b6-4f9f-c5fb-e1820d95954e"
      },
      "outputs": [
        {
          "output_type": "execute_result",
          "data": {
            "text/plain": [
              "array([[2, 3, 4, 5],\n",
              "       [3, 4, 5, 6],\n",
              "       [4, 5, 6, 7]])"
            ]
          },
          "metadata": {},
          "execution_count": 155
        }
      ],
      "source": [
        "row + column"
      ]
    },
    {
      "cell_type": "markdown",
      "metadata": {
        "id": "tMdSsqXfiXcZ"
      },
      "source": [
        "<center><img src=\"https://raw.githubusercontent.com/ssanderson/pydata-toolbox/master/notebooks/images/broadcasting.png\" alt=\"Drawing\" style=\"width: 60%;\"/></center>\n",
        "\n",
        "<h5>Source: http://www.scipy-lectures.org/_images/numpy_broadcasting.png</h5>"
      ]
    },
    {
      "cell_type": "code",
      "execution_count": null,
      "metadata": {
        "id": "JVLNvazIiXcZ",
        "colab": {
          "base_uri": "https://localhost:8080/"
        },
        "outputId": "bbe816c4-de53-408d-b5b6-e9fb39079926"
      },
      "outputs": [
        {
          "output_type": "stream",
          "name": "stdout",
          "text": [
            "Data:\n",
            "[[ 0  1  2  3  4  5  6  7  8  9]\n",
            " [10 11 12 13 14 15 16 17 18 19]\n",
            " [20 21 22 23 24 25 26 27 28 29]]\n",
            "Mean:\n",
            "[10. 11. 12. 13. 14. 15. 16. 17. 18. 19.]\n",
            "Data - Mean:\n",
            "[[-10. -10. -10. -10. -10. -10. -10. -10. -10. -10.]\n",
            " [  0.   0.   0.   0.   0.   0.   0.   0.   0.   0.]\n",
            " [ 10.  10.  10.  10.  10.  10.  10.  10.  10.  10.]]\n"
          ]
        }
      ],
      "source": [
        "# Broadcasting is particularly useful in conjunction with reductions.\n",
        "print(\"Data:\\n\", data, sep='')\n",
        "print(\"Mean:\\n\", data.mean(axis=0), sep='')\n",
        "print(\"Data - Mean:\\n\", data - data.mean(axis=0), sep='')"
      ]
    },
    {
      "cell_type": "markdown",
      "metadata": {
        "id": "JHmGF_mGiXcZ"
      },
      "source": [
        "# Broadcasting Review\n",
        "\n",
        "- Numpy operations can work on arrays of different dimensions as long as the arrays' shapes are still \"compatible\".\n",
        "- Broadcasting works by \"tiling\" the smaller array along the missing dimension.\n",
        "- The result of a broadcasted operation is always at least as large in each dimension as the largest array in that dimension."
      ]
    },
    {
      "cell_type": "markdown",
      "metadata": {
        "id": "Tmy_pKVniXca"
      },
      "source": [
        "# Numpy Review"
      ]
    },
    {
      "cell_type": "markdown",
      "metadata": {
        "id": "TiKskIDqiXca"
      },
      "source": [
        "- Numerical algorithms are slow in pure Python because the overhead dynamic dispatch dominates our runtime."
      ]
    },
    {
      "cell_type": "markdown",
      "metadata": {
        "id": "WRex_YahiXca"
      },
      "source": [
        "- Numpy solves this problem by:\n",
        "  1. Imposing additional restrictions on the contents of arrays.\n",
        "  2. Moving the inner loops of our algorithms into compiled C code."
      ]
    },
    {
      "cell_type": "markdown",
      "metadata": {
        "id": "HHcs1cowiXca"
      },
      "source": [
        "- Using Numpy effectively often requires reworking an algorithms to use vectorized operations instead of for-loops, but the resulting operations are usually simpler, clearer, and faster than the pure Python equivalent."
      ]
    },
    {
      "cell_type": "markdown",
      "metadata": {
        "id": "GoPdOSfSiXca"
      },
      "source": [
        "<center><img src=\"https://raw.githubusercontent.com/ssanderson/pydata-toolbox/master/notebooks/images/unicorn.jpg\" alt=\"Drawing\" style=\"width: 75%;\"/></center>"
      ]
    },
    {
      "cell_type": "markdown",
      "metadata": {
        "id": "GqyHpT0DiXca"
      },
      "source": [
        "Numpy is great for many things, but..."
      ]
    },
    {
      "cell_type": "markdown",
      "metadata": {
        "id": "t2pSdZyeiXca"
      },
      "source": [
        "- Sometimes our data is equipped with a natural set of **labels**:\n",
        "  - Dates/Times\n",
        "  - Stock Tickers\n",
        "  - Field Names (e.g. Open/High/Low/Close)"
      ]
    },
    {
      "cell_type": "markdown",
      "metadata": {
        "id": "eQkbld3YiXca"
      },
      "source": [
        "- Sometimes we have **more than one type of data** that we want to keep grouped together.\n",
        "  - Tables with a mix of real-valued and categorical data."
      ]
    },
    {
      "cell_type": "markdown",
      "metadata": {
        "id": "FUUCEShmiXcb"
      },
      "source": [
        "- Sometimes we have **missing** data, which we need to ignore, fill, or otherwise work around."
      ]
    },
    {
      "cell_type": "markdown",
      "metadata": {
        "id": "7BErgdXjiXcb"
      },
      "source": [
        "<center><img src=\"https://raw.githubusercontent.com/ssanderson/pydata-toolbox/master/notebooks/images/panda-wrangling.gif\" alt=\"Drawing\" style=\"width: 75%;\"/></center>"
      ]
    },
    {
      "cell_type": "markdown",
      "metadata": {
        "id": "B-LuFQ2BiXcb"
      },
      "source": [
        "<center><img src=\"https://raw.githubusercontent.com/ssanderson/pydata-toolbox/master/notebooks/images/pandas_logo.png\" alt=\"Drawing\" style=\"width: 75%;\"/></center>\n"
      ]
    },
    {
      "cell_type": "markdown",
      "metadata": {
        "id": "B8Hv2pY4iXcb"
      },
      "source": [
        "Pandas extends Numpy with more complex data structures:\n",
        "\n",
        "- `Series`: 1-dimensional, homogenously-typed, labelled array.\n",
        "- `DataFrame`: 2-dimensional, semi-homogenous, labelled table."
      ]
    },
    {
      "cell_type": "markdown",
      "metadata": {
        "id": "xYDFME14iXcb"
      },
      "source": [
        "Pandas also provides many utilities for: \n",
        "- Input/Output\n",
        "- Data Cleaning\n",
        "- Rolling Algorithms\n",
        "- Plotting"
      ]
    },
    {
      "cell_type": "markdown",
      "metadata": {
        "id": "uOvK2ZfeiXcb"
      },
      "source": [
        "# Selection in Pandas"
      ]
    },
    {
      "cell_type": "code",
      "execution_count": null,
      "metadata": {
        "id": "G6ploxoOiXcb",
        "colab": {
          "base_uri": "https://localhost:8080/"
        },
        "outputId": "3ef27be3-d58d-45eb-f7b2-acee12f0d7cc"
      },
      "outputs": [
        {
          "output_type": "execute_result",
          "data": {
            "text/plain": [
              "a    1\n",
              "b    2\n",
              "c    3\n",
              "d    4\n",
              "e    5\n",
              "dtype: int64"
            ]
          },
          "metadata": {},
          "execution_count": 157
        }
      ],
      "source": [
        "s = pd.Series(index=['a', 'b', 'c', 'd', 'e'], data=[1, 2, 3, 4, 5])\n",
        "s"
      ]
    },
    {
      "cell_type": "code",
      "execution_count": null,
      "metadata": {
        "id": "PU-7iKpqiXcc",
        "colab": {
          "base_uri": "https://localhost:8080/"
        },
        "outputId": "261cf84b-db0e-4d0f-e243-538423fadc89"
      },
      "outputs": [
        {
          "output_type": "stream",
          "name": "stdout",
          "text": [
            "The index is: Index(['a', 'b', 'c', 'd', 'e'], dtype='object')\n",
            "The values are: [1 2 3 4 5]\n"
          ]
        }
      ],
      "source": [
        "# There are two pieces to a Series: the index and the values.\n",
        "print(\"The index is:\", s.index)\n",
        "print(\"The values are:\", s.values)"
      ]
    },
    {
      "cell_type": "code",
      "execution_count": null,
      "metadata": {
        "id": "pUnHyGr5iXcc",
        "colab": {
          "base_uri": "https://localhost:8080/"
        },
        "outputId": "766c4de5-c6a0-484a-af94-2e4d50533c23"
      },
      "outputs": [
        {
          "output_type": "execute_result",
          "data": {
            "text/plain": [
              "1"
            ]
          },
          "metadata": {},
          "execution_count": 159
        }
      ],
      "source": [
        "# We can look up values out of a Series by position...\n",
        "s.iloc[0]"
      ]
    },
    {
      "cell_type": "code",
      "execution_count": null,
      "metadata": {
        "id": "IyM3qqygiXcc",
        "colab": {
          "base_uri": "https://localhost:8080/"
        },
        "outputId": "1e41f43d-ea31-46b4-a240-b455e0c97141"
      },
      "outputs": [
        {
          "output_type": "execute_result",
          "data": {
            "text/plain": [
              "1"
            ]
          },
          "metadata": {},
          "execution_count": 160
        }
      ],
      "source": [
        "# ... or by label.\n",
        "s.loc['a']"
      ]
    },
    {
      "cell_type": "code",
      "execution_count": null,
      "metadata": {
        "id": "JrCItQtiiXcc",
        "colab": {
          "base_uri": "https://localhost:8080/"
        },
        "outputId": "5e8e206c-6320-4321-a369-d87298ddb1ef"
      },
      "outputs": [
        {
          "output_type": "execute_result",
          "data": {
            "text/plain": [
              "a    1\n",
              "b    2\n",
              "dtype: int64"
            ]
          },
          "metadata": {},
          "execution_count": 161
        }
      ],
      "source": [
        "# Slicing works as expected...\n",
        "s.iloc[:2]"
      ]
    },
    {
      "cell_type": "code",
      "execution_count": null,
      "metadata": {
        "id": "tzTbbk9YiXcc",
        "colab": {
          "base_uri": "https://localhost:8080/"
        },
        "outputId": "4dc4cf0a-6ca5-409e-f52b-fb21325f965b"
      },
      "outputs": [
        {
          "output_type": "execute_result",
          "data": {
            "text/plain": [
              "a    1\n",
              "b    2\n",
              "c    3\n",
              "dtype: int64"
            ]
          },
          "metadata": {},
          "execution_count": 162
        }
      ],
      "source": [
        "# ...but it works with labels too!\n",
        "s.loc[:'c']"
      ]
    },
    {
      "cell_type": "code",
      "execution_count": null,
      "metadata": {
        "id": "qrVQ0b0ziXcd",
        "colab": {
          "base_uri": "https://localhost:8080/"
        },
        "outputId": "57d08b40-239c-49cf-8d37-aca5b2751fa1"
      },
      "outputs": [
        {
          "output_type": "execute_result",
          "data": {
            "text/plain": [
              "a    1\n",
              "e    5\n",
              "dtype: int64"
            ]
          },
          "metadata": {},
          "execution_count": 163
        }
      ],
      "source": [
        "# Fancy indexing works the same as in numpy.\n",
        "s.iloc[[0, -1]]"
      ]
    },
    {
      "cell_type": "code",
      "execution_count": null,
      "metadata": {
        "id": "THswhsDLiXcd",
        "colab": {
          "base_uri": "https://localhost:8080/"
        },
        "outputId": "0101ab73-c5fb-43b6-d5a2-517a4aae9f3e"
      },
      "outputs": [
        {
          "output_type": "execute_result",
          "data": {
            "text/plain": [
              "c    3\n",
              "d    4\n",
              "e    5\n",
              "dtype: int64"
            ]
          },
          "metadata": {},
          "execution_count": 164
        }
      ],
      "source": [
        "# As does boolean masking.\n",
        "s.loc[s > 2]"
      ]
    },
    {
      "cell_type": "code",
      "execution_count": null,
      "metadata": {
        "id": "nYGjpHaIiXcd",
        "colab": {
          "base_uri": "https://localhost:8080/"
        },
        "outputId": "67c38c2d-3c52-4617-dce5-3e6e4fc1ba1b"
      },
      "outputs": [
        {
          "output_type": "execute_result",
          "data": {
            "text/plain": [
              "a    10.0\n",
              "c    20.0\n",
              "d    30.0\n",
              "z    40.0\n",
              "dtype: float64"
            ]
          },
          "metadata": {},
          "execution_count": 165
        }
      ],
      "source": [
        "# Element-wise operations are aligned by index.\n",
        "other_s = pd.Series({'a': 10.0, 'c': 20.0, 'd': 30.0, 'z': 40.0})\n",
        "other_s"
      ]
    },
    {
      "cell_type": "code",
      "execution_count": null,
      "metadata": {
        "id": "nkK07CuEiXcd",
        "colab": {
          "base_uri": "https://localhost:8080/"
        },
        "outputId": "e60248e2-8417-4524-ed2d-7ded64a06921"
      },
      "outputs": [
        {
          "output_type": "execute_result",
          "data": {
            "text/plain": [
              "a    11.0\n",
              "b     NaN\n",
              "c    23.0\n",
              "d    34.0\n",
              "e     NaN\n",
              "z     NaN\n",
              "dtype: float64"
            ]
          },
          "metadata": {},
          "execution_count": 166
        }
      ],
      "source": [
        "s + other_s"
      ]
    },
    {
      "cell_type": "code",
      "execution_count": null,
      "metadata": {
        "id": "pePOoBl3iXcd",
        "colab": {
          "base_uri": "https://localhost:8080/"
        },
        "outputId": "5769242a-aa4c-401b-b9b5-d822e24ad8ed"
      },
      "outputs": [
        {
          "output_type": "execute_result",
          "data": {
            "text/plain": [
              "a    11.0\n",
              "b     0.0\n",
              "c    23.0\n",
              "d    34.0\n",
              "e     0.0\n",
              "z     0.0\n",
              "dtype: float64"
            ]
          },
          "metadata": {},
          "execution_count": 167
        }
      ],
      "source": [
        "# We can fill in missing values with fillna().\n",
        "(s + other_s).fillna(0.0)"
      ]
    },
    {
      "cell_type": "code",
      "execution_count": null,
      "metadata": {
        "id": "8LYqk1oDiXcd",
        "colab": {
          "base_uri": "https://localhost:8080/",
          "height": 363
        },
        "outputId": "1c228100-bb5a-437d-f437-337ef8013fb1"
      },
      "outputs": [
        {
          "output_type": "error",
          "ename": "FileNotFoundError",
          "evalue": "ignored",
          "traceback": [
            "\u001b[0;31m---------------------------------------------------------------------------\u001b[0m",
            "\u001b[0;31mFileNotFoundError\u001b[0m                         Traceback (most recent call last)",
            "\u001b[0;32m<ipython-input-168-1979ce6f1d95>\u001b[0m in \u001b[0;36m<module>\u001b[0;34m\u001b[0m\n\u001b[1;32m      1\u001b[0m \u001b[0;31m# Most real datasets are read in from an external file format.\u001b[0m\u001b[0;34m\u001b[0m\u001b[0;34m\u001b[0m\u001b[0;34m\u001b[0m\u001b[0m\n\u001b[0;32m----> 2\u001b[0;31m \u001b[0maapl\u001b[0m \u001b[0;34m=\u001b[0m \u001b[0mpd\u001b[0m\u001b[0;34m.\u001b[0m\u001b[0mread_csv\u001b[0m\u001b[0;34m(\u001b[0m\u001b[0;34m'AAPL.csv'\u001b[0m\u001b[0;34m,\u001b[0m \u001b[0mparse_dates\u001b[0m\u001b[0;34m=\u001b[0m\u001b[0;34m[\u001b[0m\u001b[0;34m'Date'\u001b[0m\u001b[0;34m]\u001b[0m\u001b[0;34m,\u001b[0m \u001b[0mindex_col\u001b[0m\u001b[0;34m=\u001b[0m\u001b[0;34m'Date'\u001b[0m\u001b[0;34m)\u001b[0m\u001b[0;34m\u001b[0m\u001b[0;34m\u001b[0m\u001b[0m\n\u001b[0m\u001b[1;32m      3\u001b[0m \u001b[0maapl\u001b[0m\u001b[0;34m.\u001b[0m\u001b[0mhead\u001b[0m\u001b[0;34m(\u001b[0m\u001b[0;34m)\u001b[0m\u001b[0;34m\u001b[0m\u001b[0;34m\u001b[0m\u001b[0m\n",
            "\u001b[0;32m/usr/local/lib/python3.7/dist-packages/pandas/util/_decorators.py\u001b[0m in \u001b[0;36mwrapper\u001b[0;34m(*args, **kwargs)\u001b[0m\n\u001b[1;32m    309\u001b[0m                     \u001b[0mstacklevel\u001b[0m\u001b[0;34m=\u001b[0m\u001b[0mstacklevel\u001b[0m\u001b[0;34m,\u001b[0m\u001b[0;34m\u001b[0m\u001b[0;34m\u001b[0m\u001b[0m\n\u001b[1;32m    310\u001b[0m                 )\n\u001b[0;32m--> 311\u001b[0;31m             \u001b[0;32mreturn\u001b[0m \u001b[0mfunc\u001b[0m\u001b[0;34m(\u001b[0m\u001b[0;34m*\u001b[0m\u001b[0margs\u001b[0m\u001b[0;34m,\u001b[0m \u001b[0;34m**\u001b[0m\u001b[0mkwargs\u001b[0m\u001b[0;34m)\u001b[0m\u001b[0;34m\u001b[0m\u001b[0;34m\u001b[0m\u001b[0m\n\u001b[0m\u001b[1;32m    312\u001b[0m \u001b[0;34m\u001b[0m\u001b[0m\n\u001b[1;32m    313\u001b[0m         \u001b[0;32mreturn\u001b[0m \u001b[0mwrapper\u001b[0m\u001b[0;34m\u001b[0m\u001b[0;34m\u001b[0m\u001b[0m\n",
            "\u001b[0;32m/usr/local/lib/python3.7/dist-packages/pandas/io/parsers/readers.py\u001b[0m in \u001b[0;36mread_csv\u001b[0;34m(filepath_or_buffer, sep, delimiter, header, names, index_col, usecols, squeeze, prefix, mangle_dupe_cols, dtype, engine, converters, true_values, false_values, skipinitialspace, skiprows, skipfooter, nrows, na_values, keep_default_na, na_filter, verbose, skip_blank_lines, parse_dates, infer_datetime_format, keep_date_col, date_parser, dayfirst, cache_dates, iterator, chunksize, compression, thousands, decimal, lineterminator, quotechar, quoting, doublequote, escapechar, comment, encoding, encoding_errors, dialect, error_bad_lines, warn_bad_lines, on_bad_lines, delim_whitespace, low_memory, memory_map, float_precision, storage_options)\u001b[0m\n\u001b[1;32m    584\u001b[0m     \u001b[0mkwds\u001b[0m\u001b[0;34m.\u001b[0m\u001b[0mupdate\u001b[0m\u001b[0;34m(\u001b[0m\u001b[0mkwds_defaults\u001b[0m\u001b[0;34m)\u001b[0m\u001b[0;34m\u001b[0m\u001b[0;34m\u001b[0m\u001b[0m\n\u001b[1;32m    585\u001b[0m \u001b[0;34m\u001b[0m\u001b[0m\n\u001b[0;32m--> 586\u001b[0;31m     \u001b[0;32mreturn\u001b[0m \u001b[0m_read\u001b[0m\u001b[0;34m(\u001b[0m\u001b[0mfilepath_or_buffer\u001b[0m\u001b[0;34m,\u001b[0m \u001b[0mkwds\u001b[0m\u001b[0;34m)\u001b[0m\u001b[0;34m\u001b[0m\u001b[0;34m\u001b[0m\u001b[0m\n\u001b[0m\u001b[1;32m    587\u001b[0m \u001b[0;34m\u001b[0m\u001b[0m\n\u001b[1;32m    588\u001b[0m \u001b[0;34m\u001b[0m\u001b[0m\n",
            "\u001b[0;32m/usr/local/lib/python3.7/dist-packages/pandas/io/parsers/readers.py\u001b[0m in \u001b[0;36m_read\u001b[0;34m(filepath_or_buffer, kwds)\u001b[0m\n\u001b[1;32m    480\u001b[0m \u001b[0;34m\u001b[0m\u001b[0m\n\u001b[1;32m    481\u001b[0m     \u001b[0;31m# Create the parser.\u001b[0m\u001b[0;34m\u001b[0m\u001b[0;34m\u001b[0m\u001b[0;34m\u001b[0m\u001b[0m\n\u001b[0;32m--> 482\u001b[0;31m     \u001b[0mparser\u001b[0m \u001b[0;34m=\u001b[0m \u001b[0mTextFileReader\u001b[0m\u001b[0;34m(\u001b[0m\u001b[0mfilepath_or_buffer\u001b[0m\u001b[0;34m,\u001b[0m \u001b[0;34m**\u001b[0m\u001b[0mkwds\u001b[0m\u001b[0;34m)\u001b[0m\u001b[0;34m\u001b[0m\u001b[0;34m\u001b[0m\u001b[0m\n\u001b[0m\u001b[1;32m    483\u001b[0m \u001b[0;34m\u001b[0m\u001b[0m\n\u001b[1;32m    484\u001b[0m     \u001b[0;32mif\u001b[0m \u001b[0mchunksize\u001b[0m \u001b[0;32mor\u001b[0m \u001b[0miterator\u001b[0m\u001b[0;34m:\u001b[0m\u001b[0;34m\u001b[0m\u001b[0;34m\u001b[0m\u001b[0m\n",
            "\u001b[0;32m/usr/local/lib/python3.7/dist-packages/pandas/io/parsers/readers.py\u001b[0m in \u001b[0;36m__init__\u001b[0;34m(self, f, engine, **kwds)\u001b[0m\n\u001b[1;32m    809\u001b[0m             \u001b[0mself\u001b[0m\u001b[0;34m.\u001b[0m\u001b[0moptions\u001b[0m\u001b[0;34m[\u001b[0m\u001b[0;34m\"has_index_names\"\u001b[0m\u001b[0;34m]\u001b[0m \u001b[0;34m=\u001b[0m \u001b[0mkwds\u001b[0m\u001b[0;34m[\u001b[0m\u001b[0;34m\"has_index_names\"\u001b[0m\u001b[0;34m]\u001b[0m\u001b[0;34m\u001b[0m\u001b[0;34m\u001b[0m\u001b[0m\n\u001b[1;32m    810\u001b[0m \u001b[0;34m\u001b[0m\u001b[0m\n\u001b[0;32m--> 811\u001b[0;31m         \u001b[0mself\u001b[0m\u001b[0;34m.\u001b[0m\u001b[0m_engine\u001b[0m \u001b[0;34m=\u001b[0m \u001b[0mself\u001b[0m\u001b[0;34m.\u001b[0m\u001b[0m_make_engine\u001b[0m\u001b[0;34m(\u001b[0m\u001b[0mself\u001b[0m\u001b[0;34m.\u001b[0m\u001b[0mengine\u001b[0m\u001b[0;34m)\u001b[0m\u001b[0;34m\u001b[0m\u001b[0;34m\u001b[0m\u001b[0m\n\u001b[0m\u001b[1;32m    812\u001b[0m \u001b[0;34m\u001b[0m\u001b[0m\n\u001b[1;32m    813\u001b[0m     \u001b[0;32mdef\u001b[0m \u001b[0mclose\u001b[0m\u001b[0;34m(\u001b[0m\u001b[0mself\u001b[0m\u001b[0;34m)\u001b[0m\u001b[0;34m:\u001b[0m\u001b[0;34m\u001b[0m\u001b[0;34m\u001b[0m\u001b[0m\n",
            "\u001b[0;32m/usr/local/lib/python3.7/dist-packages/pandas/io/parsers/readers.py\u001b[0m in \u001b[0;36m_make_engine\u001b[0;34m(self, engine)\u001b[0m\n\u001b[1;32m   1038\u001b[0m             )\n\u001b[1;32m   1039\u001b[0m         \u001b[0;31m# error: Too many arguments for \"ParserBase\"\u001b[0m\u001b[0;34m\u001b[0m\u001b[0;34m\u001b[0m\u001b[0;34m\u001b[0m\u001b[0m\n\u001b[0;32m-> 1040\u001b[0;31m         \u001b[0;32mreturn\u001b[0m \u001b[0mmapping\u001b[0m\u001b[0;34m[\u001b[0m\u001b[0mengine\u001b[0m\u001b[0;34m]\u001b[0m\u001b[0;34m(\u001b[0m\u001b[0mself\u001b[0m\u001b[0;34m.\u001b[0m\u001b[0mf\u001b[0m\u001b[0;34m,\u001b[0m \u001b[0;34m**\u001b[0m\u001b[0mself\u001b[0m\u001b[0;34m.\u001b[0m\u001b[0moptions\u001b[0m\u001b[0;34m)\u001b[0m  \u001b[0;31m# type: ignore[call-arg]\u001b[0m\u001b[0;34m\u001b[0m\u001b[0;34m\u001b[0m\u001b[0m\n\u001b[0m\u001b[1;32m   1041\u001b[0m \u001b[0;34m\u001b[0m\u001b[0m\n\u001b[1;32m   1042\u001b[0m     \u001b[0;32mdef\u001b[0m \u001b[0m_failover_to_python\u001b[0m\u001b[0;34m(\u001b[0m\u001b[0mself\u001b[0m\u001b[0;34m)\u001b[0m\u001b[0;34m:\u001b[0m\u001b[0;34m\u001b[0m\u001b[0;34m\u001b[0m\u001b[0m\n",
            "\u001b[0;32m/usr/local/lib/python3.7/dist-packages/pandas/io/parsers/c_parser_wrapper.py\u001b[0m in \u001b[0;36m__init__\u001b[0;34m(self, src, **kwds)\u001b[0m\n\u001b[1;32m     49\u001b[0m \u001b[0;34m\u001b[0m\u001b[0m\n\u001b[1;32m     50\u001b[0m         \u001b[0;31m# open handles\u001b[0m\u001b[0;34m\u001b[0m\u001b[0;34m\u001b[0m\u001b[0;34m\u001b[0m\u001b[0m\n\u001b[0;32m---> 51\u001b[0;31m         \u001b[0mself\u001b[0m\u001b[0;34m.\u001b[0m\u001b[0m_open_handles\u001b[0m\u001b[0;34m(\u001b[0m\u001b[0msrc\u001b[0m\u001b[0;34m,\u001b[0m \u001b[0mkwds\u001b[0m\u001b[0;34m)\u001b[0m\u001b[0;34m\u001b[0m\u001b[0;34m\u001b[0m\u001b[0m\n\u001b[0m\u001b[1;32m     52\u001b[0m         \u001b[0;32massert\u001b[0m \u001b[0mself\u001b[0m\u001b[0;34m.\u001b[0m\u001b[0mhandles\u001b[0m \u001b[0;32mis\u001b[0m \u001b[0;32mnot\u001b[0m \u001b[0;32mNone\u001b[0m\u001b[0;34m\u001b[0m\u001b[0;34m\u001b[0m\u001b[0m\n\u001b[1;32m     53\u001b[0m \u001b[0;34m\u001b[0m\u001b[0m\n",
            "\u001b[0;32m/usr/local/lib/python3.7/dist-packages/pandas/io/parsers/base_parser.py\u001b[0m in \u001b[0;36m_open_handles\u001b[0;34m(self, src, kwds)\u001b[0m\n\u001b[1;32m    227\u001b[0m             \u001b[0mmemory_map\u001b[0m\u001b[0;34m=\u001b[0m\u001b[0mkwds\u001b[0m\u001b[0;34m.\u001b[0m\u001b[0mget\u001b[0m\u001b[0;34m(\u001b[0m\u001b[0;34m\"memory_map\"\u001b[0m\u001b[0;34m,\u001b[0m \u001b[0;32mFalse\u001b[0m\u001b[0;34m)\u001b[0m\u001b[0;34m,\u001b[0m\u001b[0;34m\u001b[0m\u001b[0;34m\u001b[0m\u001b[0m\n\u001b[1;32m    228\u001b[0m             \u001b[0mstorage_options\u001b[0m\u001b[0;34m=\u001b[0m\u001b[0mkwds\u001b[0m\u001b[0;34m.\u001b[0m\u001b[0mget\u001b[0m\u001b[0;34m(\u001b[0m\u001b[0;34m\"storage_options\"\u001b[0m\u001b[0;34m,\u001b[0m \u001b[0;32mNone\u001b[0m\u001b[0;34m)\u001b[0m\u001b[0;34m,\u001b[0m\u001b[0;34m\u001b[0m\u001b[0;34m\u001b[0m\u001b[0m\n\u001b[0;32m--> 229\u001b[0;31m             \u001b[0merrors\u001b[0m\u001b[0;34m=\u001b[0m\u001b[0mkwds\u001b[0m\u001b[0;34m.\u001b[0m\u001b[0mget\u001b[0m\u001b[0;34m(\u001b[0m\u001b[0;34m\"encoding_errors\"\u001b[0m\u001b[0;34m,\u001b[0m \u001b[0;34m\"strict\"\u001b[0m\u001b[0;34m)\u001b[0m\u001b[0;34m,\u001b[0m\u001b[0;34m\u001b[0m\u001b[0;34m\u001b[0m\u001b[0m\n\u001b[0m\u001b[1;32m    230\u001b[0m         )\n\u001b[1;32m    231\u001b[0m \u001b[0;34m\u001b[0m\u001b[0m\n",
            "\u001b[0;32m/usr/local/lib/python3.7/dist-packages/pandas/io/common.py\u001b[0m in \u001b[0;36mget_handle\u001b[0;34m(path_or_buf, mode, encoding, compression, memory_map, is_text, errors, storage_options)\u001b[0m\n\u001b[1;32m    705\u001b[0m                 \u001b[0mencoding\u001b[0m\u001b[0;34m=\u001b[0m\u001b[0mioargs\u001b[0m\u001b[0;34m.\u001b[0m\u001b[0mencoding\u001b[0m\u001b[0;34m,\u001b[0m\u001b[0;34m\u001b[0m\u001b[0;34m\u001b[0m\u001b[0m\n\u001b[1;32m    706\u001b[0m                 \u001b[0merrors\u001b[0m\u001b[0;34m=\u001b[0m\u001b[0merrors\u001b[0m\u001b[0;34m,\u001b[0m\u001b[0;34m\u001b[0m\u001b[0;34m\u001b[0m\u001b[0m\n\u001b[0;32m--> 707\u001b[0;31m                 \u001b[0mnewline\u001b[0m\u001b[0;34m=\u001b[0m\u001b[0;34m\"\"\u001b[0m\u001b[0;34m,\u001b[0m\u001b[0;34m\u001b[0m\u001b[0;34m\u001b[0m\u001b[0m\n\u001b[0m\u001b[1;32m    708\u001b[0m             )\n\u001b[1;32m    709\u001b[0m         \u001b[0;32melse\u001b[0m\u001b[0;34m:\u001b[0m\u001b[0;34m\u001b[0m\u001b[0;34m\u001b[0m\u001b[0m\n",
            "\u001b[0;31mFileNotFoundError\u001b[0m: [Errno 2] No such file or directory: 'AAPL.csv'"
          ]
        }
      ],
      "source": [
        "# Most real datasets are read in from an external file format.\n",
        "aapl = pd.read_csv('AAPL.csv', parse_dates=['Date'], index_col='Date')\n",
        "aapl.head()"
      ]
    },
    {
      "cell_type": "code",
      "execution_count": null,
      "metadata": {
        "id": "JasJjximiXcd"
      },
      "outputs": [],
      "source": [
        "# Slicing generalizes to two dimensions as you'd expect:\n",
        "aapl.iloc[:2, :2]"
      ]
    },
    {
      "cell_type": "code",
      "execution_count": null,
      "metadata": {
        "id": "aAnXEGHMiXce"
      },
      "outputs": [],
      "source": [
        "aapl.loc[pd.Timestamp('2010-02-01'):pd.Timestamp('2010-02-04'), ['Close', 'Volume']]"
      ]
    },
    {
      "cell_type": "markdown",
      "metadata": {
        "id": "Up935r8GiXce"
      },
      "source": [
        "# Rolling Operations"
      ]
    },
    {
      "cell_type": "markdown",
      "metadata": {
        "id": "28dFZSZmiXce"
      },
      "source": [
        "<center><img src=\"https://raw.githubusercontent.com/ssanderson/pydata-toolbox/master/notebooks/images/rolling.gif\" alt=\"Drawing\" style=\"width: 75%;\"/></center>"
      ]
    },
    {
      "cell_type": "code",
      "execution_count": null,
      "metadata": {
        "id": "-YvkXxL0iXce"
      },
      "outputs": [],
      "source": [
        "aapl.rolling(5)[['Close', 'Adj Close']].mean().plot();"
      ]
    },
    {
      "cell_type": "code",
      "execution_count": null,
      "metadata": {
        "id": "HKynE6AMiXce"
      },
      "outputs": [],
      "source": [
        "# Drop `Volume`, since it's way bigger than everything else.\n",
        "aapl.drop('Volume', axis=1).resample('2W').max().plot();"
      ]
    },
    {
      "cell_type": "code",
      "execution_count": null,
      "metadata": {
        "id": "ayoPHapZiXce"
      },
      "outputs": [],
      "source": [
        "# 30-day rolling exponentially-weighted stddev of returns.\n",
        "aapl['Close'].pct_change().ewm(span=30).std().plot();"
      ]
    },
    {
      "cell_type": "markdown",
      "metadata": {
        "id": "npT_ZgpYiXce"
      },
      "source": [
        "# \"Real World\" Data"
      ]
    },
    {
      "cell_type": "code",
      "source": [
        "!git clone https://github.com/ssanderson/pydata-toolbox"
      ],
      "metadata": {
        "colab": {
          "base_uri": "https://localhost:8080/"
        },
        "id": "Q146J8GnasGV",
        "outputId": "e66d1be5-3c73-4a51-d44e-70f072a5fe50"
      },
      "execution_count": null,
      "outputs": [
        {
          "output_type": "stream",
          "name": "stdout",
          "text": [
            "Cloning into 'pydata-toolbox'...\n",
            "remote: Enumerating objects: 85, done.\u001b[K\n",
            "remote: Counting objects: 100% (33/33), done.\u001b[K\n",
            "remote: Compressing objects: 100% (23/23), done.\u001b[K\n",
            "remote: Total 85 (delta 20), reused 17 (delta 10), pack-reused 52\u001b[K\n",
            "Unpacking objects: 100% (85/85), done.\n"
          ]
        }
      ]
    },
    {
      "cell_type": "code",
      "source": [
        "!git clone <urlOfRepository>"
      ],
      "metadata": {
        "colab": {
          "base_uri": "https://localhost:8080/"
        },
        "id": "7ikQbBlZazP3",
        "outputId": "614135bb-6599-4b1f-80d9-be297c80526e"
      },
      "execution_count": null,
      "outputs": [
        {
          "output_type": "stream",
          "name": "stdout",
          "text": [
            "/bin/bash: -c: line 0: syntax error near unexpected token `newline'\n",
            "/bin/bash: -c: line 0: `git clone <urlOfRepository>'\n"
          ]
        }
      ]
    },
    {
      "cell_type": "code",
      "source": [
        "## Install package guthubdl, for documentation go http://githubdl.seso.io/\n",
        "!pip install githubdl"
      ],
      "metadata": {
        "colab": {
          "base_uri": "https://localhost:8080/"
        },
        "id": "7frfTtbqa5uE",
        "outputId": "2ac23ed9-08c9-4021-a2f4-7d635eb7b042"
      },
      "execution_count": null,
      "outputs": [
        {
          "output_type": "stream",
          "name": "stdout",
          "text": [
            "Looking in indexes: https://pypi.org/simple, https://us-python.pkg.dev/colab-wheels/public/simple/\n",
            "Collecting githubdl\n",
            "  Downloading githubdl-0.1.6-py3-none-any.whl (9.8 kB)\n",
            "Requirement already satisfied: requests in /usr/local/lib/python3.7/dist-packages (from githubdl) (2.23.0)\n",
            "Requirement already satisfied: chardet<4,>=3.0.2 in /usr/local/lib/python3.7/dist-packages (from requests->githubdl) (3.0.4)\n",
            "Requirement already satisfied: urllib3!=1.25.0,!=1.25.1,<1.26,>=1.21.1 in /usr/local/lib/python3.7/dist-packages (from requests->githubdl) (1.24.3)\n",
            "Requirement already satisfied: idna<3,>=2.5 in /usr/local/lib/python3.7/dist-packages (from requests->githubdl) (2.10)\n",
            "Requirement already satisfied: certifi>=2017.4.17 in /usr/local/lib/python3.7/dist-packages (from requests->githubdl) (2022.6.15)\n",
            "Installing collected packages: githubdl\n",
            "Successfully installed githubdl-0.1.6\n"
          ]
        }
      ]
    },
    {
      "cell_type": "code",
      "source": [
        "!githubdl"
      ],
      "metadata": {
        "colab": {
          "base_uri": "https://localhost:8080/"
        },
        "id": "PJa3vVmLfYv2",
        "outputId": "472dc897-bfaa-48fe-a0e2-dadfd64efeca"
      },
      "execution_count": null,
      "outputs": [
        {
          "output_type": "stream",
          "name": "stdout",
          "text": [
            "usage: githubdl [-h] (-f FILE | -d DIR | -a | -b) -u URL [-t TARGET]\n",
            "                [-g GIT_TOKEN] [-l LOG_LEVEL] [-r REFERENCE] [-s]\n",
            "githubdl: error: the following arguments are required: -u/--url\n"
          ]
        }
      ]
    },
    {
      "cell_type": "code",
      "source": [
        "!githubdl -u https://github.com/ssanderson/pydata-toolbox -d demos -g 0260ccdcf10212d2a8f1d9ff6fbc7e55b00a4ad2"
      ],
      "metadata": {
        "colab": {
          "base_uri": "https://localhost:8080/"
        },
        "id": "nYnsWehCbE9z",
        "outputId": "a73fd621-db0a-455a-9a5c-100b0483ea41"
      },
      "execution_count": null,
      "outputs": [
        {
          "output_type": "stream",
          "name": "stdout",
          "text": [
            "2022-09-07 00:12:31,917 - root         - INFO     - Retrieving a list of files for directory: demos\n",
            "2022-09-07 00:12:31,918 - root         - INFO     - repo_name: ssanderson/pydata-toolbox api_path: contents request_string: /demos\n",
            "2022-09-07 00:12:31,918 - root         - INFO     - Requesting file: demos at url: https://api.github.com/repos/ssanderson/pydata-toolbox/contents/demos\n",
            "2022-09-07 00:12:32,021 - root         - CRITICAL - Unable to retrieve list of files from response.\n",
            " Exception: 'str' object has no attribute 'get'\n",
            " Response: {'message': 'Bad credentials', 'documentation_url': 'https://docs.github.com/rest'}\n",
            "Traceback (most recent call last):\n",
            "  File \"/usr/local/lib/python3.7/dist-packages/githubdl/request_processing.py\", line 21, in get_files_from_json\n",
            "    files.update({item.get(\"name\"): item.get(\"type\")})\n",
            "AttributeError: 'str' object has no attribute 'get'\n",
            "\n",
            "During handling of the above exception, another exception occurred:\n",
            "\n",
            "Traceback (most recent call last):\n",
            "  File \"/usr/local/bin/githubdl\", line 8, in <module>\n",
            "    sys.exit(main())\n",
            "  File \"/usr/local/lib/python3.7/dist-packages/githubdl/__init__.py\", line 99, in main\n",
            "    dl_dir(repo_url=args['url'], base_path=args['dir'], target_path=target, github_token=git_token, log_level=log_level, reference=reference, submodules=args['submodules'])\n",
            "  File \"/usr/local/lib/python3.7/dist-packages/githubdl/api.py\", line 45, in dl_dir\n",
            "    files = rp.get_list_of_files_in_path(repo_url, base_path, github_token, reference)\n",
            "  File \"/usr/local/lib/python3.7/dist-packages/githubdl/request_processing.py\", line 33, in get_list_of_files_in_path\n",
            "    return get_files_from_json(response_object)\n",
            "  File \"/usr/local/lib/python3.7/dist-packages/githubdl/request_processing.py\", line 26, in get_files_from_json\n",
            "    raise RuntimeError(err_message)\n",
            "RuntimeError: Unable to retrieve list of files from response.\n",
            " Exception: 'str' object has no attribute 'get'\n",
            " Response: {'message': 'Bad credentials', 'documentation_url': 'https://docs.github.com/rest'}\n"
          ]
        }
      ]
    },
    {
      "cell_type": "code",
      "source": [
        "!pip install demos"
      ],
      "metadata": {
        "id": "KZBhgJqzI7eC",
        "colab": {
          "base_uri": "https://localhost:8080/"
        },
        "outputId": "ed9c4b63-82ae-4c80-c612-783242976cbd"
      },
      "execution_count": null,
      "outputs": [
        {
          "output_type": "stream",
          "name": "stdout",
          "text": [
            "Looking in indexes: https://pypi.org/simple, https://us-python.pkg.dev/colab-wheels/public/simple/\n",
            "Collecting demos\n",
            "  Downloading demos-0.0.1-py3-none-any.whl (2.2 kB)\n",
            "Requirement already satisfied: scikit-learn in /usr/local/lib/python3.7/dist-packages (from demos) (1.0.2)\n",
            "Requirement already satisfied: ipython in /usr/local/lib/python3.7/dist-packages (from demos) (7.9.0)\n",
            "Requirement already satisfied: numpy in /usr/local/lib/python3.7/dist-packages (from demos) (1.21.6)\n",
            "Collecting jupyter\n",
            "  Downloading jupyter-1.0.0-py2.py3-none-any.whl (2.7 kB)\n",
            "Requirement already satisfied: matplotlib in /usr/local/lib/python3.7/dist-packages (from demos) (3.2.2)\n",
            "Requirement already satisfied: requests in /usr/local/lib/python3.7/dist-packages (from demos) (2.23.0)\n",
            "Requirement already satisfied: click in /usr/local/lib/python3.7/dist-packages (from demos) (7.1.2)\n",
            "Requirement already satisfied: tqdm in /usr/local/lib/python3.7/dist-packages (from demos) (4.64.0)\n",
            "Requirement already satisfied: setuptools>=18.5 in /usr/local/lib/python3.7/dist-packages (from ipython->demos) (57.4.0)\n",
            "Requirement already satisfied: pygments in /usr/local/lib/python3.7/dist-packages (from ipython->demos) (2.6.1)\n",
            "Collecting jedi>=0.10\n",
            "  Downloading jedi-0.18.1-py2.py3-none-any.whl (1.6 MB)\n",
            "\u001b[K     |████████████████████████████████| 1.6 MB 5.1 MB/s \n",
            "\u001b[?25hRequirement already satisfied: pickleshare in /usr/local/lib/python3.7/dist-packages (from ipython->demos) (0.7.5)\n",
            "Requirement already satisfied: backcall in /usr/local/lib/python3.7/dist-packages (from ipython->demos) (0.2.0)\n",
            "Requirement already satisfied: traitlets>=4.2 in /usr/local/lib/python3.7/dist-packages (from ipython->demos) (5.1.1)\n",
            "Requirement already satisfied: prompt-toolkit<2.1.0,>=2.0.0 in /usr/local/lib/python3.7/dist-packages (from ipython->demos) (2.0.10)\n",
            "Requirement already satisfied: pexpect in /usr/local/lib/python3.7/dist-packages (from ipython->demos) (4.8.0)\n",
            "Requirement already satisfied: decorator in /usr/local/lib/python3.7/dist-packages (from ipython->demos) (4.4.2)\n",
            "Requirement already satisfied: parso<0.9.0,>=0.8.0 in /usr/local/lib/python3.7/dist-packages (from jedi>=0.10->ipython->demos) (0.8.3)\n",
            "Requirement already satisfied: six>=1.9.0 in /usr/local/lib/python3.7/dist-packages (from prompt-toolkit<2.1.0,>=2.0.0->ipython->demos) (1.15.0)\n",
            "Requirement already satisfied: wcwidth in /usr/local/lib/python3.7/dist-packages (from prompt-toolkit<2.1.0,>=2.0.0->ipython->demos) (0.2.5)\n",
            "Requirement already satisfied: ipywidgets in /usr/local/lib/python3.7/dist-packages (from jupyter->demos) (7.7.1)\n",
            "Requirement already satisfied: notebook in /usr/local/lib/python3.7/dist-packages (from jupyter->demos) (5.3.1)\n",
            "Requirement already satisfied: jupyter-console in /usr/local/lib/python3.7/dist-packages (from jupyter->demos) (6.1.0)\n",
            "Requirement already satisfied: nbconvert in /usr/local/lib/python3.7/dist-packages (from jupyter->demos) (5.6.1)\n",
            "Requirement already satisfied: ipykernel in /usr/local/lib/python3.7/dist-packages (from jupyter->demos) (5.3.4)\n",
            "Collecting qtconsole\n",
            "  Downloading qtconsole-5.3.2-py3-none-any.whl (120 kB)\n",
            "\u001b[K     |████████████████████████████████| 120 kB 60.1 MB/s \n",
            "\u001b[?25hRequirement already satisfied: jupyter-client in /usr/local/lib/python3.7/dist-packages (from ipykernel->jupyter->demos) (6.1.12)\n",
            "Requirement already satisfied: tornado>=4.2 in /usr/local/lib/python3.7/dist-packages (from ipykernel->jupyter->demos) (5.1.1)\n",
            "Requirement already satisfied: jupyterlab-widgets>=1.0.0 in /usr/local/lib/python3.7/dist-packages (from ipywidgets->jupyter->demos) (3.0.2)\n",
            "Requirement already satisfied: ipython-genutils~=0.2.0 in /usr/local/lib/python3.7/dist-packages (from ipywidgets->jupyter->demos) (0.2.0)\n",
            "Requirement already satisfied: widgetsnbextension~=3.6.0 in /usr/local/lib/python3.7/dist-packages (from ipywidgets->jupyter->demos) (3.6.1)\n",
            "Requirement already satisfied: Send2Trash in /usr/local/lib/python3.7/dist-packages (from notebook->jupyter->demos) (1.8.0)\n",
            "Requirement already satisfied: jupyter-core>=4.4.0 in /usr/local/lib/python3.7/dist-packages (from notebook->jupyter->demos) (4.11.1)\n",
            "Requirement already satisfied: nbformat in /usr/local/lib/python3.7/dist-packages (from notebook->jupyter->demos) (5.4.0)\n",
            "Requirement already satisfied: terminado>=0.8.1 in /usr/local/lib/python3.7/dist-packages (from notebook->jupyter->demos) (0.13.3)\n",
            "Requirement already satisfied: jinja2 in /usr/local/lib/python3.7/dist-packages (from notebook->jupyter->demos) (2.11.3)\n",
            "Requirement already satisfied: python-dateutil>=2.1 in /usr/local/lib/python3.7/dist-packages (from jupyter-client->ipykernel->jupyter->demos) (2.8.2)\n",
            "Requirement already satisfied: pyzmq>=13 in /usr/local/lib/python3.7/dist-packages (from jupyter-client->ipykernel->jupyter->demos) (23.2.1)\n",
            "Requirement already satisfied: ptyprocess in /usr/local/lib/python3.7/dist-packages (from terminado>=0.8.1->notebook->jupyter->demos) (0.7.0)\n",
            "Requirement already satisfied: MarkupSafe>=0.23 in /usr/local/lib/python3.7/dist-packages (from jinja2->notebook->jupyter->demos) (2.0.1)\n",
            "Requirement already satisfied: kiwisolver>=1.0.1 in /usr/local/lib/python3.7/dist-packages (from matplotlib->demos) (1.4.4)\n",
            "Requirement already satisfied: pyparsing!=2.0.4,!=2.1.2,!=2.1.6,>=2.0.1 in /usr/local/lib/python3.7/dist-packages (from matplotlib->demos) (3.0.9)\n",
            "Requirement already satisfied: cycler>=0.10 in /usr/local/lib/python3.7/dist-packages (from matplotlib->demos) (0.11.0)\n",
            "Requirement already satisfied: typing-extensions in /usr/local/lib/python3.7/dist-packages (from kiwisolver>=1.0.1->matplotlib->demos) (4.1.1)\n",
            "Requirement already satisfied: pandocfilters>=1.4.1 in /usr/local/lib/python3.7/dist-packages (from nbconvert->jupyter->demos) (1.5.0)\n",
            "Requirement already satisfied: bleach in /usr/local/lib/python3.7/dist-packages (from nbconvert->jupyter->demos) (5.0.1)\n",
            "Requirement already satisfied: mistune<2,>=0.8.1 in /usr/local/lib/python3.7/dist-packages (from nbconvert->jupyter->demos) (0.8.4)\n",
            "Requirement already satisfied: entrypoints>=0.2.2 in /usr/local/lib/python3.7/dist-packages (from nbconvert->jupyter->demos) (0.4)\n",
            "Requirement already satisfied: defusedxml in /usr/local/lib/python3.7/dist-packages (from nbconvert->jupyter->demos) (0.7.1)\n",
            "Requirement already satisfied: testpath in /usr/local/lib/python3.7/dist-packages (from nbconvert->jupyter->demos) (0.6.0)\n",
            "Requirement already satisfied: jsonschema>=2.6 in /usr/local/lib/python3.7/dist-packages (from nbformat->notebook->jupyter->demos) (4.3.3)\n",
            "Requirement already satisfied: fastjsonschema in /usr/local/lib/python3.7/dist-packages (from nbformat->notebook->jupyter->demos) (2.16.1)\n",
            "Requirement already satisfied: importlib-resources>=1.4.0 in /usr/local/lib/python3.7/dist-packages (from jsonschema>=2.6->nbformat->notebook->jupyter->demos) (5.9.0)\n",
            "Requirement already satisfied: attrs>=17.4.0 in /usr/local/lib/python3.7/dist-packages (from jsonschema>=2.6->nbformat->notebook->jupyter->demos) (22.1.0)\n",
            "Requirement already satisfied: pyrsistent!=0.17.0,!=0.17.1,!=0.17.2,>=0.14.0 in /usr/local/lib/python3.7/dist-packages (from jsonschema>=2.6->nbformat->notebook->jupyter->demos) (0.18.1)\n",
            "Requirement already satisfied: importlib-metadata in /usr/local/lib/python3.7/dist-packages (from jsonschema>=2.6->nbformat->notebook->jupyter->demos) (4.12.0)\n",
            "Requirement already satisfied: zipp>=3.1.0 in /usr/local/lib/python3.7/dist-packages (from importlib-resources>=1.4.0->jsonschema>=2.6->nbformat->notebook->jupyter->demos) (3.8.1)\n",
            "Requirement already satisfied: webencodings in /usr/local/lib/python3.7/dist-packages (from bleach->nbconvert->jupyter->demos) (0.5.1)\n",
            "Collecting qtpy>=2.0.1\n",
            "  Downloading QtPy-2.2.0-py3-none-any.whl (82 kB)\n",
            "\u001b[K     |████████████████████████████████| 82 kB 474 kB/s \n",
            "\u001b[?25hRequirement already satisfied: packaging in /usr/local/lib/python3.7/dist-packages (from qtpy>=2.0.1->qtconsole->jupyter->demos) (21.3)\n",
            "Requirement already satisfied: chardet<4,>=3.0.2 in /usr/local/lib/python3.7/dist-packages (from requests->demos) (3.0.4)\n",
            "Requirement already satisfied: urllib3!=1.25.0,!=1.25.1,<1.26,>=1.21.1 in /usr/local/lib/python3.7/dist-packages (from requests->demos) (1.24.3)\n",
            "Requirement already satisfied: idna<3,>=2.5 in /usr/local/lib/python3.7/dist-packages (from requests->demos) (2.10)\n",
            "Requirement already satisfied: certifi>=2017.4.17 in /usr/local/lib/python3.7/dist-packages (from requests->demos) (2022.6.15)\n",
            "Requirement already satisfied: joblib>=0.11 in /usr/local/lib/python3.7/dist-packages (from scikit-learn->demos) (1.1.0)\n",
            "Requirement already satisfied: scipy>=1.1.0 in /usr/local/lib/python3.7/dist-packages (from scikit-learn->demos) (1.7.3)\n",
            "Requirement already satisfied: threadpoolctl>=2.0.0 in /usr/local/lib/python3.7/dist-packages (from scikit-learn->demos) (3.1.0)\n",
            "Installing collected packages: jedi, qtpy, qtconsole, jupyter, demos\n",
            "Successfully installed demos-0.0.1 jedi-0.18.1 jupyter-1.0.0 qtconsole-5.3.2 qtpy-2.2.0\n"
          ]
        }
      ]
    },
    {
      "cell_type": "code",
      "execution_count": null,
      "metadata": {
        "id": "XcYC7BGAiXcf",
        "colab": {
          "base_uri": "https://localhost:8080/",
          "height": 356
        },
        "outputId": "af1d4301-1624-4715-a386-55adbca30259"
      },
      "outputs": [
        {
          "output_type": "error",
          "ename": "ModuleNotFoundError",
          "evalue": "ignored",
          "traceback": [
            "\u001b[0;31m---------------------------------------------------------------------------\u001b[0m",
            "\u001b[0;31mModuleNotFoundError\u001b[0m                       Traceback (most recent call last)",
            "\u001b[0;32m<ipython-input-179-ca7191fa6ef8>\u001b[0m in \u001b[0;36m<module>\u001b[0;34m\u001b[0m\n\u001b[0;32m----> 1\u001b[0;31m \u001b[0;32mfrom\u001b[0m \u001b[0mdemos\u001b[0m\u001b[0;34m.\u001b[0m\u001b[0mavocados\u001b[0m \u001b[0;32mimport\u001b[0m \u001b[0mread_avocadata\u001b[0m\u001b[0;34m\u001b[0m\u001b[0;34m\u001b[0m\u001b[0m\n\u001b[0m\u001b[1;32m      2\u001b[0m \u001b[0;34m\u001b[0m\u001b[0m\n\u001b[1;32m      3\u001b[0m \u001b[0mavocados\u001b[0m \u001b[0;34m=\u001b[0m \u001b[0mread_avocadata\u001b[0m\u001b[0;34m(\u001b[0m\u001b[0;34m'2014'\u001b[0m\u001b[0;34m,\u001b[0m \u001b[0;34m'2016'\u001b[0m\u001b[0;34m)\u001b[0m\u001b[0;34m\u001b[0m\u001b[0;34m\u001b[0m\u001b[0m\n\u001b[1;32m      4\u001b[0m \u001b[0mavocados\u001b[0m\u001b[0;34m.\u001b[0m\u001b[0mhead\u001b[0m\u001b[0;34m(\u001b[0m\u001b[0;34m)\u001b[0m\u001b[0;34m\u001b[0m\u001b[0;34m\u001b[0m\u001b[0m\n",
            "\u001b[0;31mModuleNotFoundError\u001b[0m: No module named 'demos.avocados'",
            "",
            "\u001b[0;31m---------------------------------------------------------------------------\u001b[0;32m\nNOTE: If your import is failing due to a missing package, you can\nmanually install dependencies using either !pip or !apt.\n\nTo view examples of installing some common dependencies, click the\n\"Open Examples\" button below.\n\u001b[0;31m---------------------------------------------------------------------------\u001b[0m\n"
          ],
          "errorDetails": {
            "actions": [
              {
                "action": "open_url",
                "actionText": "Open Examples",
                "url": "/notebooks/snippets/importing_libraries.ipynb"
              }
            ]
          }
        }
      ],
      "source": [
        "from demos.avocados import read_avocadata\n",
        "\n",
        "avocados = read_avocadata('2014', '2016')\n",
        "avocados.head()"
      ]
    },
    {
      "cell_type": "code",
      "execution_count": null,
      "metadata": {
        "id": "tjk0EsEsiXcf"
      },
      "outputs": [],
      "source": [
        "# Unlike numpy arrays, pandas DataFrames can have a different dtype for each column.\n",
        "avocados.dtypes"
      ]
    },
    {
      "cell_type": "code",
      "execution_count": null,
      "metadata": {
        "id": "YcpqjQCdiXcf"
      },
      "outputs": [],
      "source": [
        "# What's the regional average price of a HASS avocado every day?\n",
        "hass = avocados[avocados.Variety == 'HASS']\n",
        "hass.groupby(['Date', 'Region'])['Weighted Avg Price'].mean().unstack().ffill().plot();"
      ]
    },
    {
      "cell_type": "code",
      "execution_count": null,
      "metadata": {
        "collapsed": true,
        "id": "k1Zdnr4jiXcf"
      },
      "outputs": [],
      "source": [
        "def _organic_spread(group):\n",
        "\n",
        "    if len(group.columns) != 2:\n",
        "        return pd.Series(index=group.index, data=0.0)\n",
        "    \n",
        "    is_organic = group.columns.get_level_values('Organic').values.astype(bool)\n",
        "    organics = group.loc[:, is_organic].squeeze()\n",
        "    non_organics = group.loc[:, ~is_organic].squeeze()\n",
        "    diff = organics - non_organics\n",
        "    return diff\n",
        "\n",
        "def organic_spread_by_region(df):\n",
        "    \"\"\"What's the difference between the price of an organic \n",
        "    and non-organic avocado within each region?\n",
        "    \"\"\"\n",
        "    return (\n",
        "        df\n",
        "        .set_index(['Date', 'Region', 'Organic'])\n",
        "         ['Weighted Avg Price']\n",
        "        .unstack(level=['Region', 'Organic'])\n",
        "        .ffill()\n",
        "        .groupby(level='Region', axis=1)\n",
        "        .apply(_organic_spread)\n",
        "    )"
      ]
    },
    {
      "cell_type": "code",
      "execution_count": null,
      "metadata": {
        "id": "iU-Th92BiXcf"
      },
      "outputs": [],
      "source": [
        "organic_spread_by_region(hass).plot();\n",
        "plt.gca().set_title(\"Daily Regional Organic Spread\");\n",
        "plt.legend(bbox_to_anchor=(1, 1));"
      ]
    },
    {
      "cell_type": "code",
      "execution_count": null,
      "metadata": {
        "id": "vjR02HpEiXcg"
      },
      "outputs": [],
      "source": [
        "spread_correlation = organic_spread_by_region(hass).corr()\n",
        "spread_correlation"
      ]
    },
    {
      "cell_type": "code",
      "execution_count": null,
      "metadata": {
        "id": "-fbKjqw6iXcg"
      },
      "outputs": [],
      "source": [
        "import seaborn as sns\n",
        "grid = sns.clustermap(spread_correlation, annot=True)\n",
        "fig = grid.fig\n",
        "axes = fig.axes\n",
        "ax = axes[2]\n",
        "ax.set_xticklabels(ax.get_xticklabels(), rotation=45);"
      ]
    },
    {
      "cell_type": "markdown",
      "metadata": {
        "id": "-6jsBAhQiXcg"
      },
      "source": [
        "# Pandas Review\n",
        "\n",
        "- Pandas extends numpy with more complex datastructures and algorithms.\n",
        "- If you understand numpy, you understand 90% of pandas.\n",
        "- `groupby`, `set_index`, and `unstack` are powerful tools for working with categorical data.\n",
        "- Avocado prices are surprisingly interesting :)"
      ]
    },
    {
      "cell_type": "markdown",
      "metadata": {
        "id": "_u_fG58UiXcg"
      },
      "source": [
        "# Thanks!"
      ]
    }
  ],
  "metadata": {
    "celltoolbar": "Slideshow",
    "colab": {
      "collapsed_sections": [
        "0CXHsFMBiXcD",
        "_yhFg_rXiXcF",
        "gh1Uw4KtiXcK",
        "K81LXWsCiXcS",
        "9EsiKbSCiXcT",
        "zsIEVqkgiXcY",
        "JHmGF_mGiXcZ",
        "-6jsBAhQiXcg",
        "_u_fG58UiXcg"
      ],
      "provenance": [],
      "include_colab_link": true
    },
    "kernelspec": {
      "display_name": "Python 3",
      "language": "python",
      "name": "python3"
    },
    "language_info": {
      "codemirror_mode": {
        "name": "ipython",
        "version": 3
      },
      "file_extension": ".py",
      "mimetype": "text/x-python",
      "name": "python",
      "nbconvert_exporter": "python",
      "pygments_lexer": "ipython3",
      "version": "3.5.2"
    },
    "livereveal": {
      "start_slideshow_at": "selected"
    },
    "name": "Main.ipynb"
  },
  "nbformat": 4,
  "nbformat_minor": 0
}